{
 "cells": [
  {
   "cell_type": "markdown",
   "id": "8eb7cc3b",
   "metadata": {
    "id": "8eb7cc3b"
   },
   "source": [
    "# Pandas Session - 2: Data Cleaning, Grouping, Merging"
   ]
  },
  {
   "cell_type": "markdown",
   "id": "f6251b6a",
   "metadata": {
    "id": "f6251b6a"
   },
   "source": [
    "## 1. Setup & Data Loading\n",
    "\n",
    "**Objective:** Understand DataFrame shape and inspect initial rows.\n",
    "\n",
    "**Expected Outcome:** Familiarity with dataset size and columns."
   ]
  },
  {
   "cell_type": "code",
   "execution_count": null,
   "id": "20a76f7a",
   "metadata": {},
   "outputs": [],
   "source": []
  },
  {
   "cell_type": "code",
   "execution_count": 1,
   "id": "52fd8dd3",
   "metadata": {
    "colab": {
     "base_uri": "https://localhost:8080/",
     "height": 276
    },
    "executionInfo": {
     "elapsed": 912,
     "status": "ok",
     "timestamp": 1753433823366,
     "user": {
      "displayName": "Varun",
      "userId": "17764854446808172797"
     },
     "user_tz": -330
    },
    "id": "52fd8dd3",
    "outputId": "557bc40b-15c5-4027-dcdc-14d0e1d8e23f"
   },
   "outputs": [
    {
     "name": "stdout",
     "output_type": "stream",
     "text": [
      "Dataset shape: (891, 12)\n"
     ]
    },
    {
     "data": {
      "application/vnd.google.colaboratory.intrinsic+json": {
       "summary": "{\n  \"name\": \"display(df\",\n  \"rows\": 5,\n  \"fields\": [\n    {\n      \"column\": \"PassengerId\",\n      \"properties\": {\n        \"dtype\": \"number\",\n        \"std\": 1,\n        \"min\": 1,\n        \"max\": 5,\n        \"num_unique_values\": 5,\n        \"samples\": [\n          2,\n          5,\n          3\n        ],\n        \"semantic_type\": \"\",\n        \"description\": \"\"\n      }\n    },\n    {\n      \"column\": \"Survived\",\n      \"properties\": {\n        \"dtype\": \"number\",\n        \"std\": 0,\n        \"min\": 0,\n        \"max\": 1,\n        \"num_unique_values\": 2,\n        \"samples\": [\n          1,\n          0\n        ],\n        \"semantic_type\": \"\",\n        \"description\": \"\"\n      }\n    },\n    {\n      \"column\": \"Pclass\",\n      \"properties\": {\n        \"dtype\": \"number\",\n        \"std\": 1,\n        \"min\": 1,\n        \"max\": 3,\n        \"num_unique_values\": 2,\n        \"samples\": [\n          1,\n          3\n        ],\n        \"semantic_type\": \"\",\n        \"description\": \"\"\n      }\n    },\n    {\n      \"column\": \"Name\",\n      \"properties\": {\n        \"dtype\": \"string\",\n        \"num_unique_values\": 5,\n        \"samples\": [\n          \"Cumings, Mrs. John Bradley (Florence Briggs Thayer)\",\n          \"Allen, Mr. William Henry\"\n        ],\n        \"semantic_type\": \"\",\n        \"description\": \"\"\n      }\n    },\n    {\n      \"column\": \"Sex\",\n      \"properties\": {\n        \"dtype\": \"category\",\n        \"num_unique_values\": 2,\n        \"samples\": [\n          \"female\",\n          \"male\"\n        ],\n        \"semantic_type\": \"\",\n        \"description\": \"\"\n      }\n    },\n    {\n      \"column\": \"Age\",\n      \"properties\": {\n        \"dtype\": \"number\",\n        \"std\": 6.833739825307955,\n        \"min\": 22.0,\n        \"max\": 38.0,\n        \"num_unique_values\": 4,\n        \"samples\": [\n          38.0,\n          35.0\n        ],\n        \"semantic_type\": \"\",\n        \"description\": \"\"\n      }\n    },\n    {\n      \"column\": \"SibSp\",\n      \"properties\": {\n        \"dtype\": \"number\",\n        \"std\": 0,\n        \"min\": 0,\n        \"max\": 1,\n        \"num_unique_values\": 2,\n        \"samples\": [\n          0,\n          1\n        ],\n        \"semantic_type\": \"\",\n        \"description\": \"\"\n      }\n    },\n    {\n      \"column\": \"Parch\",\n      \"properties\": {\n        \"dtype\": \"number\",\n        \"std\": 0,\n        \"min\": 0,\n        \"max\": 0,\n        \"num_unique_values\": 1,\n        \"samples\": [\n          0\n        ],\n        \"semantic_type\": \"\",\n        \"description\": \"\"\n      }\n    },\n    {\n      \"column\": \"Ticket\",\n      \"properties\": {\n        \"dtype\": \"string\",\n        \"num_unique_values\": 5,\n        \"samples\": [\n          \"PC 17599\"\n        ],\n        \"semantic_type\": \"\",\n        \"description\": \"\"\n      }\n    },\n    {\n      \"column\": \"Fare\",\n      \"properties\": {\n        \"dtype\": \"number\",\n        \"std\": 30.5100288352535,\n        \"min\": 7.25,\n        \"max\": 71.2833,\n        \"num_unique_values\": 5,\n        \"samples\": [\n          71.2833\n        ],\n        \"semantic_type\": \"\",\n        \"description\": \"\"\n      }\n    },\n    {\n      \"column\": \"Cabin\",\n      \"properties\": {\n        \"dtype\": \"category\",\n        \"num_unique_values\": 2,\n        \"samples\": [\n          \"C123\"\n        ],\n        \"semantic_type\": \"\",\n        \"description\": \"\"\n      }\n    },\n    {\n      \"column\": \"Embarked\",\n      \"properties\": {\n        \"dtype\": \"category\",\n        \"num_unique_values\": 2,\n        \"samples\": [\n          \"C\"\n        ],\n        \"semantic_type\": \"\",\n        \"description\": \"\"\n      }\n    }\n  ]\n}",
       "type": "dataframe"
      },
      "text/html": [
       "\n",
       "  <div id=\"df-50d1f5c8-a984-4198-95e6-95ac92bfa90f\" class=\"colab-df-container\">\n",
       "    <div>\n",
       "<style scoped>\n",
       "    .dataframe tbody tr th:only-of-type {\n",
       "        vertical-align: middle;\n",
       "    }\n",
       "\n",
       "    .dataframe tbody tr th {\n",
       "        vertical-align: top;\n",
       "    }\n",
       "\n",
       "    .dataframe thead th {\n",
       "        text-align: right;\n",
       "    }\n",
       "</style>\n",
       "<table border=\"1\" class=\"dataframe\">\n",
       "  <thead>\n",
       "    <tr style=\"text-align: right;\">\n",
       "      <th></th>\n",
       "      <th>PassengerId</th>\n",
       "      <th>Survived</th>\n",
       "      <th>Pclass</th>\n",
       "      <th>Name</th>\n",
       "      <th>Sex</th>\n",
       "      <th>Age</th>\n",
       "      <th>SibSp</th>\n",
       "      <th>Parch</th>\n",
       "      <th>Ticket</th>\n",
       "      <th>Fare</th>\n",
       "      <th>Cabin</th>\n",
       "      <th>Embarked</th>\n",
       "    </tr>\n",
       "  </thead>\n",
       "  <tbody>\n",
       "    <tr>\n",
       "      <th>0</th>\n",
       "      <td>1</td>\n",
       "      <td>0</td>\n",
       "      <td>3</td>\n",
       "      <td>Braund, Mr. Owen Harris</td>\n",
       "      <td>male</td>\n",
       "      <td>22.0</td>\n",
       "      <td>1</td>\n",
       "      <td>0</td>\n",
       "      <td>A/5 21171</td>\n",
       "      <td>7.2500</td>\n",
       "      <td>NaN</td>\n",
       "      <td>S</td>\n",
       "    </tr>\n",
       "    <tr>\n",
       "      <th>1</th>\n",
       "      <td>2</td>\n",
       "      <td>1</td>\n",
       "      <td>1</td>\n",
       "      <td>Cumings, Mrs. John Bradley (Florence Briggs Th...</td>\n",
       "      <td>female</td>\n",
       "      <td>38.0</td>\n",
       "      <td>1</td>\n",
       "      <td>0</td>\n",
       "      <td>PC 17599</td>\n",
       "      <td>71.2833</td>\n",
       "      <td>C85</td>\n",
       "      <td>C</td>\n",
       "    </tr>\n",
       "    <tr>\n",
       "      <th>2</th>\n",
       "      <td>3</td>\n",
       "      <td>1</td>\n",
       "      <td>3</td>\n",
       "      <td>Heikkinen, Miss. Laina</td>\n",
       "      <td>female</td>\n",
       "      <td>26.0</td>\n",
       "      <td>0</td>\n",
       "      <td>0</td>\n",
       "      <td>STON/O2. 3101282</td>\n",
       "      <td>7.9250</td>\n",
       "      <td>NaN</td>\n",
       "      <td>S</td>\n",
       "    </tr>\n",
       "    <tr>\n",
       "      <th>3</th>\n",
       "      <td>4</td>\n",
       "      <td>1</td>\n",
       "      <td>1</td>\n",
       "      <td>Futrelle, Mrs. Jacques Heath (Lily May Peel)</td>\n",
       "      <td>female</td>\n",
       "      <td>35.0</td>\n",
       "      <td>1</td>\n",
       "      <td>0</td>\n",
       "      <td>113803</td>\n",
       "      <td>53.1000</td>\n",
       "      <td>C123</td>\n",
       "      <td>S</td>\n",
       "    </tr>\n",
       "    <tr>\n",
       "      <th>4</th>\n",
       "      <td>5</td>\n",
       "      <td>0</td>\n",
       "      <td>3</td>\n",
       "      <td>Allen, Mr. William Henry</td>\n",
       "      <td>male</td>\n",
       "      <td>35.0</td>\n",
       "      <td>0</td>\n",
       "      <td>0</td>\n",
       "      <td>373450</td>\n",
       "      <td>8.0500</td>\n",
       "      <td>NaN</td>\n",
       "      <td>S</td>\n",
       "    </tr>\n",
       "  </tbody>\n",
       "</table>\n",
       "</div>\n",
       "    <div class=\"colab-df-buttons\">\n",
       "\n",
       "  <div class=\"colab-df-container\">\n",
       "    <button class=\"colab-df-convert\" onclick=\"convertToInteractive('df-50d1f5c8-a984-4198-95e6-95ac92bfa90f')\"\n",
       "            title=\"Convert this dataframe to an interactive table.\"\n",
       "            style=\"display:none;\">\n",
       "\n",
       "  <svg xmlns=\"http://www.w3.org/2000/svg\" height=\"24px\" viewBox=\"0 -960 960 960\">\n",
       "    <path d=\"M120-120v-720h720v720H120Zm60-500h600v-160H180v160Zm220 220h160v-160H400v160Zm0 220h160v-160H400v160ZM180-400h160v-160H180v160Zm440 0h160v-160H620v160ZM180-180h160v-160H180v160Zm440 0h160v-160H620v160Z\"/>\n",
       "  </svg>\n",
       "    </button>\n",
       "\n",
       "  <style>\n",
       "    .colab-df-container {\n",
       "      display:flex;\n",
       "      gap: 12px;\n",
       "    }\n",
       "\n",
       "    .colab-df-convert {\n",
       "      background-color: #E8F0FE;\n",
       "      border: none;\n",
       "      border-radius: 50%;\n",
       "      cursor: pointer;\n",
       "      display: none;\n",
       "      fill: #1967D2;\n",
       "      height: 32px;\n",
       "      padding: 0 0 0 0;\n",
       "      width: 32px;\n",
       "    }\n",
       "\n",
       "    .colab-df-convert:hover {\n",
       "      background-color: #E2EBFA;\n",
       "      box-shadow: 0px 1px 2px rgba(60, 64, 67, 0.3), 0px 1px 3px 1px rgba(60, 64, 67, 0.15);\n",
       "      fill: #174EA6;\n",
       "    }\n",
       "\n",
       "    .colab-df-buttons div {\n",
       "      margin-bottom: 4px;\n",
       "    }\n",
       "\n",
       "    [theme=dark] .colab-df-convert {\n",
       "      background-color: #3B4455;\n",
       "      fill: #D2E3FC;\n",
       "    }\n",
       "\n",
       "    [theme=dark] .colab-df-convert:hover {\n",
       "      background-color: #434B5C;\n",
       "      box-shadow: 0px 1px 3px 1px rgba(0, 0, 0, 0.15);\n",
       "      filter: drop-shadow(0px 1px 2px rgba(0, 0, 0, 0.3));\n",
       "      fill: #FFFFFF;\n",
       "    }\n",
       "  </style>\n",
       "\n",
       "    <script>\n",
       "      const buttonEl =\n",
       "        document.querySelector('#df-50d1f5c8-a984-4198-95e6-95ac92bfa90f button.colab-df-convert');\n",
       "      buttonEl.style.display =\n",
       "        google.colab.kernel.accessAllowed ? 'block' : 'none';\n",
       "\n",
       "      async function convertToInteractive(key) {\n",
       "        const element = document.querySelector('#df-50d1f5c8-a984-4198-95e6-95ac92bfa90f');\n",
       "        const dataTable =\n",
       "          await google.colab.kernel.invokeFunction('convertToInteractive',\n",
       "                                                    [key], {});\n",
       "        if (!dataTable) return;\n",
       "\n",
       "        const docLinkHtml = 'Like what you see? Visit the ' +\n",
       "          '<a target=\"_blank\" href=https://colab.research.google.com/notebooks/data_table.ipynb>data table notebook</a>'\n",
       "          + ' to learn more about interactive tables.';\n",
       "        element.innerHTML = '';\n",
       "        dataTable['output_type'] = 'display_data';\n",
       "        await google.colab.output.renderOutput(dataTable, element);\n",
       "        const docLink = document.createElement('div');\n",
       "        docLink.innerHTML = docLinkHtml;\n",
       "        element.appendChild(docLink);\n",
       "      }\n",
       "    </script>\n",
       "  </div>\n",
       "\n",
       "\n",
       "    <div id=\"df-f04653fa-1be2-4b2a-8ae2-41e10436930e\">\n",
       "      <button class=\"colab-df-quickchart\" onclick=\"quickchart('df-f04653fa-1be2-4b2a-8ae2-41e10436930e')\"\n",
       "                title=\"Suggest charts\"\n",
       "                style=\"display:none;\">\n",
       "\n",
       "<svg xmlns=\"http://www.w3.org/2000/svg\" height=\"24px\"viewBox=\"0 0 24 24\"\n",
       "     width=\"24px\">\n",
       "    <g>\n",
       "        <path d=\"M19 3H5c-1.1 0-2 .9-2 2v14c0 1.1.9 2 2 2h14c1.1 0 2-.9 2-2V5c0-1.1-.9-2-2-2zM9 17H7v-7h2v7zm4 0h-2V7h2v10zm4 0h-2v-4h2v4z\"/>\n",
       "    </g>\n",
       "</svg>\n",
       "      </button>\n",
       "\n",
       "<style>\n",
       "  .colab-df-quickchart {\n",
       "      --bg-color: #E8F0FE;\n",
       "      --fill-color: #1967D2;\n",
       "      --hover-bg-color: #E2EBFA;\n",
       "      --hover-fill-color: #174EA6;\n",
       "      --disabled-fill-color: #AAA;\n",
       "      --disabled-bg-color: #DDD;\n",
       "  }\n",
       "\n",
       "  [theme=dark] .colab-df-quickchart {\n",
       "      --bg-color: #3B4455;\n",
       "      --fill-color: #D2E3FC;\n",
       "      --hover-bg-color: #434B5C;\n",
       "      --hover-fill-color: #FFFFFF;\n",
       "      --disabled-bg-color: #3B4455;\n",
       "      --disabled-fill-color: #666;\n",
       "  }\n",
       "\n",
       "  .colab-df-quickchart {\n",
       "    background-color: var(--bg-color);\n",
       "    border: none;\n",
       "    border-radius: 50%;\n",
       "    cursor: pointer;\n",
       "    display: none;\n",
       "    fill: var(--fill-color);\n",
       "    height: 32px;\n",
       "    padding: 0;\n",
       "    width: 32px;\n",
       "  }\n",
       "\n",
       "  .colab-df-quickchart:hover {\n",
       "    background-color: var(--hover-bg-color);\n",
       "    box-shadow: 0 1px 2px rgba(60, 64, 67, 0.3), 0 1px 3px 1px rgba(60, 64, 67, 0.15);\n",
       "    fill: var(--button-hover-fill-color);\n",
       "  }\n",
       "\n",
       "  .colab-df-quickchart-complete:disabled,\n",
       "  .colab-df-quickchart-complete:disabled:hover {\n",
       "    background-color: var(--disabled-bg-color);\n",
       "    fill: var(--disabled-fill-color);\n",
       "    box-shadow: none;\n",
       "  }\n",
       "\n",
       "  .colab-df-spinner {\n",
       "    border: 2px solid var(--fill-color);\n",
       "    border-color: transparent;\n",
       "    border-bottom-color: var(--fill-color);\n",
       "    animation:\n",
       "      spin 1s steps(1) infinite;\n",
       "  }\n",
       "\n",
       "  @keyframes spin {\n",
       "    0% {\n",
       "      border-color: transparent;\n",
       "      border-bottom-color: var(--fill-color);\n",
       "      border-left-color: var(--fill-color);\n",
       "    }\n",
       "    20% {\n",
       "      border-color: transparent;\n",
       "      border-left-color: var(--fill-color);\n",
       "      border-top-color: var(--fill-color);\n",
       "    }\n",
       "    30% {\n",
       "      border-color: transparent;\n",
       "      border-left-color: var(--fill-color);\n",
       "      border-top-color: var(--fill-color);\n",
       "      border-right-color: var(--fill-color);\n",
       "    }\n",
       "    40% {\n",
       "      border-color: transparent;\n",
       "      border-right-color: var(--fill-color);\n",
       "      border-top-color: var(--fill-color);\n",
       "    }\n",
       "    60% {\n",
       "      border-color: transparent;\n",
       "      border-right-color: var(--fill-color);\n",
       "    }\n",
       "    80% {\n",
       "      border-color: transparent;\n",
       "      border-right-color: var(--fill-color);\n",
       "      border-bottom-color: var(--fill-color);\n",
       "    }\n",
       "    90% {\n",
       "      border-color: transparent;\n",
       "      border-bottom-color: var(--fill-color);\n",
       "    }\n",
       "  }\n",
       "</style>\n",
       "\n",
       "      <script>\n",
       "        async function quickchart(key) {\n",
       "          const quickchartButtonEl =\n",
       "            document.querySelector('#' + key + ' button');\n",
       "          quickchartButtonEl.disabled = true;  // To prevent multiple clicks.\n",
       "          quickchartButtonEl.classList.add('colab-df-spinner');\n",
       "          try {\n",
       "            const charts = await google.colab.kernel.invokeFunction(\n",
       "                'suggestCharts', [key], {});\n",
       "          } catch (error) {\n",
       "            console.error('Error during call to suggestCharts:', error);\n",
       "          }\n",
       "          quickchartButtonEl.classList.remove('colab-df-spinner');\n",
       "          quickchartButtonEl.classList.add('colab-df-quickchart-complete');\n",
       "        }\n",
       "        (() => {\n",
       "          let quickchartButtonEl =\n",
       "            document.querySelector('#df-f04653fa-1be2-4b2a-8ae2-41e10436930e button');\n",
       "          quickchartButtonEl.style.display =\n",
       "            google.colab.kernel.accessAllowed ? 'block' : 'none';\n",
       "        })();\n",
       "      </script>\n",
       "    </div>\n",
       "\n",
       "    </div>\n",
       "  </div>\n"
      ],
      "text/plain": [
       "   PassengerId  Survived  Pclass  \\\n",
       "0            1         0       3   \n",
       "1            2         1       1   \n",
       "2            3         1       3   \n",
       "3            4         1       1   \n",
       "4            5         0       3   \n",
       "\n",
       "                                                Name     Sex   Age  SibSp  \\\n",
       "0                            Braund, Mr. Owen Harris    male  22.0      1   \n",
       "1  Cumings, Mrs. John Bradley (Florence Briggs Th...  female  38.0      1   \n",
       "2                             Heikkinen, Miss. Laina  female  26.0      0   \n",
       "3       Futrelle, Mrs. Jacques Heath (Lily May Peel)  female  35.0      1   \n",
       "4                           Allen, Mr. William Henry    male  35.0      0   \n",
       "\n",
       "   Parch            Ticket     Fare Cabin Embarked  \n",
       "0      0         A/5 21171   7.2500   NaN        S  \n",
       "1      0          PC 17599  71.2833   C85        C  \n",
       "2      0  STON/O2. 3101282   7.9250   NaN        S  \n",
       "3      0            113803  53.1000  C123        S  \n",
       "4      0            373450   8.0500   NaN        S  "
      ]
     },
     "metadata": {},
     "output_type": "display_data"
    }
   ],
   "source": [
    "import pandas as pd\n",
    "df = pd.read_csv('/content/titanic.csv')\n",
    "print('Dataset shape:', df.shape)\n",
    "display(df.head())"
   ]
  },
  {
   "cell_type": "code",
   "execution_count": 44,
   "id": "-roe86LB2A1C",
   "metadata": {
    "colab": {
     "base_uri": "https://localhost:8080/"
    },
    "executionInfo": {
     "elapsed": 29,
     "status": "ok",
     "timestamp": 1753434563196,
     "user": {
      "displayName": "Varun",
      "userId": "17764854446808172797"
     },
     "user_tz": -330
    },
    "id": "-roe86LB2A1C",
    "outputId": "7b6205f6-99d5-441a-ff3a-6a1f988f603b"
   },
   "outputs": [
    {
     "name": "stdout",
     "output_type": "stream",
     "text": [
      "<class 'pandas.core.frame.DataFrame'>\n",
      "RangeIndex: 891 entries, 0 to 890\n",
      "Data columns (total 15 columns):\n",
      " #   Column        Non-Null Count  Dtype  \n",
      "---  ------        --------------  -----  \n",
      " 0   PassengerId   891 non-null    int64  \n",
      " 1   Survived      891 non-null    object \n",
      " 2   Pclass        891 non-null    int64  \n",
      " 3   Name          891 non-null    object \n",
      " 4   Sex           891 non-null    object \n",
      " 5   Age           714 non-null    float64\n",
      " 6   SibSp         891 non-null    int64  \n",
      " 7   Parch         891 non-null    int64  \n",
      " 8   Ticket        891 non-null    object \n",
      " 9   Fare          891 non-null    float64\n",
      " 10  Cabin         204 non-null    object \n",
      " 11  Embarked      889 non-null    object \n",
      " 12  NameLength    891 non-null    int64  \n",
      " 13  SexBinary     891 non-null    int64  \n",
      " 14  AboveAvgFare  891 non-null    bool   \n",
      "dtypes: bool(1), float64(2), int64(6), object(6)\n",
      "memory usage: 98.5+ KB\n"
     ]
    }
   ],
   "source": [
    "df.info()"
   ]
  },
  {
   "cell_type": "code",
   "execution_count": 45,
   "id": "ABSBhZHR2F_8",
   "metadata": {
    "colab": {
     "base_uri": "https://localhost:8080/",
     "height": 300
    },
    "executionInfo": {
     "elapsed": 229,
     "status": "ok",
     "timestamp": 1753434586690,
     "user": {
      "displayName": "Varun",
      "userId": "17764854446808172797"
     },
     "user_tz": -330
    },
    "id": "ABSBhZHR2F_8",
    "outputId": "0ad91cff-93e8-453e-a4ed-55e90d886c87"
   },
   "outputs": [
    {
     "data": {
      "application/vnd.google.colaboratory.intrinsic+json": {
       "summary": "{\n  \"name\": \"df\",\n  \"rows\": 8,\n  \"fields\": [\n    {\n      \"column\": \"PassengerId\",\n      \"properties\": {\n        \"dtype\": \"number\",\n        \"std\": 320.8159711429856,\n        \"min\": 1.0,\n        \"max\": 891.0,\n        \"num_unique_values\": 6,\n        \"samples\": [\n          891.0,\n          446.0,\n          668.5\n        ],\n        \"semantic_type\": \"\",\n        \"description\": \"\"\n      }\n    },\n    {\n      \"column\": \"Pclass\",\n      \"properties\": {\n        \"dtype\": \"number\",\n        \"std\": 314.2523437079693,\n        \"min\": 0.8360712409770513,\n        \"max\": 891.0,\n        \"num_unique_values\": 6,\n        \"samples\": [\n          891.0,\n          2.308641975308642,\n          3.0\n        ],\n        \"semantic_type\": \"\",\n        \"description\": \"\"\n      }\n    },\n    {\n      \"column\": \"Age\",\n      \"properties\": {\n        \"dtype\": \"number\",\n        \"std\": 242.9056731818781,\n        \"min\": 0.42,\n        \"max\": 714.0,\n        \"num_unique_values\": 8,\n        \"samples\": [\n          29.69911764705882,\n          28.0,\n          714.0\n        ],\n        \"semantic_type\": \"\",\n        \"description\": \"\"\n      }\n    },\n    {\n      \"column\": \"SibSp\",\n      \"properties\": {\n        \"dtype\": \"number\",\n        \"std\": 314.4908277465442,\n        \"min\": 0.0,\n        \"max\": 891.0,\n        \"num_unique_values\": 6,\n        \"samples\": [\n          891.0,\n          0.5230078563411896,\n          8.0\n        ],\n        \"semantic_type\": \"\",\n        \"description\": \"\"\n      }\n    },\n    {\n      \"column\": \"Parch\",\n      \"properties\": {\n        \"dtype\": \"number\",\n        \"std\": 314.65971717879,\n        \"min\": 0.0,\n        \"max\": 891.0,\n        \"num_unique_values\": 5,\n        \"samples\": [\n          0.38159371492704824,\n          6.0,\n          0.8060572211299559\n        ],\n        \"semantic_type\": \"\",\n        \"description\": \"\"\n      }\n    },\n    {\n      \"column\": \"Fare\",\n      \"properties\": {\n        \"dtype\": \"number\",\n        \"std\": 330.6256632228577,\n        \"min\": 0.0,\n        \"max\": 891.0,\n        \"num_unique_values\": 8,\n        \"samples\": [\n          32.204207968574636,\n          14.4542,\n          891.0\n        ],\n        \"semantic_type\": \"\",\n        \"description\": \"\"\n      }\n    },\n    {\n      \"column\": \"NameLength\",\n      \"properties\": {\n        \"dtype\": \"number\",\n        \"std\": 305.48968555353235,\n        \"min\": 9.28160688314506,\n        \"max\": 891.0,\n        \"num_unique_values\": 8,\n        \"samples\": [\n          26.9652076318743,\n          25.0,\n          891.0\n        ],\n        \"semantic_type\": \"\",\n        \"description\": \"\"\n      }\n    },\n    {\n      \"column\": \"SexBinary\",\n      \"properties\": {\n        \"dtype\": \"number\",\n        \"std\": 314.8733881563566,\n        \"min\": 0.0,\n        \"max\": 891.0,\n        \"num_unique_values\": 5,\n        \"samples\": [\n          0.35241301907968575,\n          1.0,\n          0.47799007089609846\n        ],\n        \"semantic_type\": \"\",\n        \"description\": \"\"\n      }\n    }\n  ]\n}",
       "type": "dataframe"
      },
      "text/html": [
       "\n",
       "  <div id=\"df-eda2bbc0-615a-41b9-a534-4ae71e4f50da\" class=\"colab-df-container\">\n",
       "    <div>\n",
       "<style scoped>\n",
       "    .dataframe tbody tr th:only-of-type {\n",
       "        vertical-align: middle;\n",
       "    }\n",
       "\n",
       "    .dataframe tbody tr th {\n",
       "        vertical-align: top;\n",
       "    }\n",
       "\n",
       "    .dataframe thead th {\n",
       "        text-align: right;\n",
       "    }\n",
       "</style>\n",
       "<table border=\"1\" class=\"dataframe\">\n",
       "  <thead>\n",
       "    <tr style=\"text-align: right;\">\n",
       "      <th></th>\n",
       "      <th>PassengerId</th>\n",
       "      <th>Pclass</th>\n",
       "      <th>Age</th>\n",
       "      <th>SibSp</th>\n",
       "      <th>Parch</th>\n",
       "      <th>Fare</th>\n",
       "      <th>NameLength</th>\n",
       "      <th>SexBinary</th>\n",
       "    </tr>\n",
       "  </thead>\n",
       "  <tbody>\n",
       "    <tr>\n",
       "      <th>count</th>\n",
       "      <td>891.000000</td>\n",
       "      <td>891.000000</td>\n",
       "      <td>714.000000</td>\n",
       "      <td>891.000000</td>\n",
       "      <td>891.000000</td>\n",
       "      <td>891.000000</td>\n",
       "      <td>891.000000</td>\n",
       "      <td>891.000000</td>\n",
       "    </tr>\n",
       "    <tr>\n",
       "      <th>mean</th>\n",
       "      <td>446.000000</td>\n",
       "      <td>2.308642</td>\n",
       "      <td>29.699118</td>\n",
       "      <td>0.523008</td>\n",
       "      <td>0.381594</td>\n",
       "      <td>32.204208</td>\n",
       "      <td>26.965208</td>\n",
       "      <td>0.352413</td>\n",
       "    </tr>\n",
       "    <tr>\n",
       "      <th>std</th>\n",
       "      <td>257.353842</td>\n",
       "      <td>0.836071</td>\n",
       "      <td>14.526497</td>\n",
       "      <td>1.102743</td>\n",
       "      <td>0.806057</td>\n",
       "      <td>49.693429</td>\n",
       "      <td>9.281607</td>\n",
       "      <td>0.477990</td>\n",
       "    </tr>\n",
       "    <tr>\n",
       "      <th>min</th>\n",
       "      <td>1.000000</td>\n",
       "      <td>1.000000</td>\n",
       "      <td>0.420000</td>\n",
       "      <td>0.000000</td>\n",
       "      <td>0.000000</td>\n",
       "      <td>0.000000</td>\n",
       "      <td>12.000000</td>\n",
       "      <td>0.000000</td>\n",
       "    </tr>\n",
       "    <tr>\n",
       "      <th>25%</th>\n",
       "      <td>223.500000</td>\n",
       "      <td>2.000000</td>\n",
       "      <td>20.125000</td>\n",
       "      <td>0.000000</td>\n",
       "      <td>0.000000</td>\n",
       "      <td>7.910400</td>\n",
       "      <td>20.000000</td>\n",
       "      <td>0.000000</td>\n",
       "    </tr>\n",
       "    <tr>\n",
       "      <th>50%</th>\n",
       "      <td>446.000000</td>\n",
       "      <td>3.000000</td>\n",
       "      <td>28.000000</td>\n",
       "      <td>0.000000</td>\n",
       "      <td>0.000000</td>\n",
       "      <td>14.454200</td>\n",
       "      <td>25.000000</td>\n",
       "      <td>0.000000</td>\n",
       "    </tr>\n",
       "    <tr>\n",
       "      <th>75%</th>\n",
       "      <td>668.500000</td>\n",
       "      <td>3.000000</td>\n",
       "      <td>38.000000</td>\n",
       "      <td>1.000000</td>\n",
       "      <td>0.000000</td>\n",
       "      <td>31.000000</td>\n",
       "      <td>30.000000</td>\n",
       "      <td>1.000000</td>\n",
       "    </tr>\n",
       "    <tr>\n",
       "      <th>max</th>\n",
       "      <td>891.000000</td>\n",
       "      <td>3.000000</td>\n",
       "      <td>80.000000</td>\n",
       "      <td>8.000000</td>\n",
       "      <td>6.000000</td>\n",
       "      <td>512.329200</td>\n",
       "      <td>82.000000</td>\n",
       "      <td>1.000000</td>\n",
       "    </tr>\n",
       "  </tbody>\n",
       "</table>\n",
       "</div>\n",
       "    <div class=\"colab-df-buttons\">\n",
       "\n",
       "  <div class=\"colab-df-container\">\n",
       "    <button class=\"colab-df-convert\" onclick=\"convertToInteractive('df-eda2bbc0-615a-41b9-a534-4ae71e4f50da')\"\n",
       "            title=\"Convert this dataframe to an interactive table.\"\n",
       "            style=\"display:none;\">\n",
       "\n",
       "  <svg xmlns=\"http://www.w3.org/2000/svg\" height=\"24px\" viewBox=\"0 -960 960 960\">\n",
       "    <path d=\"M120-120v-720h720v720H120Zm60-500h600v-160H180v160Zm220 220h160v-160H400v160Zm0 220h160v-160H400v160ZM180-400h160v-160H180v160Zm440 0h160v-160H620v160ZM180-180h160v-160H180v160Zm440 0h160v-160H620v160Z\"/>\n",
       "  </svg>\n",
       "    </button>\n",
       "\n",
       "  <style>\n",
       "    .colab-df-container {\n",
       "      display:flex;\n",
       "      gap: 12px;\n",
       "    }\n",
       "\n",
       "    .colab-df-convert {\n",
       "      background-color: #E8F0FE;\n",
       "      border: none;\n",
       "      border-radius: 50%;\n",
       "      cursor: pointer;\n",
       "      display: none;\n",
       "      fill: #1967D2;\n",
       "      height: 32px;\n",
       "      padding: 0 0 0 0;\n",
       "      width: 32px;\n",
       "    }\n",
       "\n",
       "    .colab-df-convert:hover {\n",
       "      background-color: #E2EBFA;\n",
       "      box-shadow: 0px 1px 2px rgba(60, 64, 67, 0.3), 0px 1px 3px 1px rgba(60, 64, 67, 0.15);\n",
       "      fill: #174EA6;\n",
       "    }\n",
       "\n",
       "    .colab-df-buttons div {\n",
       "      margin-bottom: 4px;\n",
       "    }\n",
       "\n",
       "    [theme=dark] .colab-df-convert {\n",
       "      background-color: #3B4455;\n",
       "      fill: #D2E3FC;\n",
       "    }\n",
       "\n",
       "    [theme=dark] .colab-df-convert:hover {\n",
       "      background-color: #434B5C;\n",
       "      box-shadow: 0px 1px 3px 1px rgba(0, 0, 0, 0.15);\n",
       "      filter: drop-shadow(0px 1px 2px rgba(0, 0, 0, 0.3));\n",
       "      fill: #FFFFFF;\n",
       "    }\n",
       "  </style>\n",
       "\n",
       "    <script>\n",
       "      const buttonEl =\n",
       "        document.querySelector('#df-eda2bbc0-615a-41b9-a534-4ae71e4f50da button.colab-df-convert');\n",
       "      buttonEl.style.display =\n",
       "        google.colab.kernel.accessAllowed ? 'block' : 'none';\n",
       "\n",
       "      async function convertToInteractive(key) {\n",
       "        const element = document.querySelector('#df-eda2bbc0-615a-41b9-a534-4ae71e4f50da');\n",
       "        const dataTable =\n",
       "          await google.colab.kernel.invokeFunction('convertToInteractive',\n",
       "                                                    [key], {});\n",
       "        if (!dataTable) return;\n",
       "\n",
       "        const docLinkHtml = 'Like what you see? Visit the ' +\n",
       "          '<a target=\"_blank\" href=https://colab.research.google.com/notebooks/data_table.ipynb>data table notebook</a>'\n",
       "          + ' to learn more about interactive tables.';\n",
       "        element.innerHTML = '';\n",
       "        dataTable['output_type'] = 'display_data';\n",
       "        await google.colab.output.renderOutput(dataTable, element);\n",
       "        const docLink = document.createElement('div');\n",
       "        docLink.innerHTML = docLinkHtml;\n",
       "        element.appendChild(docLink);\n",
       "      }\n",
       "    </script>\n",
       "  </div>\n",
       "\n",
       "\n",
       "    <div id=\"df-5c658c00-64b3-4cf3-9d35-9749ab3dad5e\">\n",
       "      <button class=\"colab-df-quickchart\" onclick=\"quickchart('df-5c658c00-64b3-4cf3-9d35-9749ab3dad5e')\"\n",
       "                title=\"Suggest charts\"\n",
       "                style=\"display:none;\">\n",
       "\n",
       "<svg xmlns=\"http://www.w3.org/2000/svg\" height=\"24px\"viewBox=\"0 0 24 24\"\n",
       "     width=\"24px\">\n",
       "    <g>\n",
       "        <path d=\"M19 3H5c-1.1 0-2 .9-2 2v14c0 1.1.9 2 2 2h14c1.1 0 2-.9 2-2V5c0-1.1-.9-2-2-2zM9 17H7v-7h2v7zm4 0h-2V7h2v10zm4 0h-2v-4h2v4z\"/>\n",
       "    </g>\n",
       "</svg>\n",
       "      </button>\n",
       "\n",
       "<style>\n",
       "  .colab-df-quickchart {\n",
       "      --bg-color: #E8F0FE;\n",
       "      --fill-color: #1967D2;\n",
       "      --hover-bg-color: #E2EBFA;\n",
       "      --hover-fill-color: #174EA6;\n",
       "      --disabled-fill-color: #AAA;\n",
       "      --disabled-bg-color: #DDD;\n",
       "  }\n",
       "\n",
       "  [theme=dark] .colab-df-quickchart {\n",
       "      --bg-color: #3B4455;\n",
       "      --fill-color: #D2E3FC;\n",
       "      --hover-bg-color: #434B5C;\n",
       "      --hover-fill-color: #FFFFFF;\n",
       "      --disabled-bg-color: #3B4455;\n",
       "      --disabled-fill-color: #666;\n",
       "  }\n",
       "\n",
       "  .colab-df-quickchart {\n",
       "    background-color: var(--bg-color);\n",
       "    border: none;\n",
       "    border-radius: 50%;\n",
       "    cursor: pointer;\n",
       "    display: none;\n",
       "    fill: var(--fill-color);\n",
       "    height: 32px;\n",
       "    padding: 0;\n",
       "    width: 32px;\n",
       "  }\n",
       "\n",
       "  .colab-df-quickchart:hover {\n",
       "    background-color: var(--hover-bg-color);\n",
       "    box-shadow: 0 1px 2px rgba(60, 64, 67, 0.3), 0 1px 3px 1px rgba(60, 64, 67, 0.15);\n",
       "    fill: var(--button-hover-fill-color);\n",
       "  }\n",
       "\n",
       "  .colab-df-quickchart-complete:disabled,\n",
       "  .colab-df-quickchart-complete:disabled:hover {\n",
       "    background-color: var(--disabled-bg-color);\n",
       "    fill: var(--disabled-fill-color);\n",
       "    box-shadow: none;\n",
       "  }\n",
       "\n",
       "  .colab-df-spinner {\n",
       "    border: 2px solid var(--fill-color);\n",
       "    border-color: transparent;\n",
       "    border-bottom-color: var(--fill-color);\n",
       "    animation:\n",
       "      spin 1s steps(1) infinite;\n",
       "  }\n",
       "\n",
       "  @keyframes spin {\n",
       "    0% {\n",
       "      border-color: transparent;\n",
       "      border-bottom-color: var(--fill-color);\n",
       "      border-left-color: var(--fill-color);\n",
       "    }\n",
       "    20% {\n",
       "      border-color: transparent;\n",
       "      border-left-color: var(--fill-color);\n",
       "      border-top-color: var(--fill-color);\n",
       "    }\n",
       "    30% {\n",
       "      border-color: transparent;\n",
       "      border-left-color: var(--fill-color);\n",
       "      border-top-color: var(--fill-color);\n",
       "      border-right-color: var(--fill-color);\n",
       "    }\n",
       "    40% {\n",
       "      border-color: transparent;\n",
       "      border-right-color: var(--fill-color);\n",
       "      border-top-color: var(--fill-color);\n",
       "    }\n",
       "    60% {\n",
       "      border-color: transparent;\n",
       "      border-right-color: var(--fill-color);\n",
       "    }\n",
       "    80% {\n",
       "      border-color: transparent;\n",
       "      border-right-color: var(--fill-color);\n",
       "      border-bottom-color: var(--fill-color);\n",
       "    }\n",
       "    90% {\n",
       "      border-color: transparent;\n",
       "      border-bottom-color: var(--fill-color);\n",
       "    }\n",
       "  }\n",
       "</style>\n",
       "\n",
       "      <script>\n",
       "        async function quickchart(key) {\n",
       "          const quickchartButtonEl =\n",
       "            document.querySelector('#' + key + ' button');\n",
       "          quickchartButtonEl.disabled = true;  // To prevent multiple clicks.\n",
       "          quickchartButtonEl.classList.add('colab-df-spinner');\n",
       "          try {\n",
       "            const charts = await google.colab.kernel.invokeFunction(\n",
       "                'suggestCharts', [key], {});\n",
       "          } catch (error) {\n",
       "            console.error('Error during call to suggestCharts:', error);\n",
       "          }\n",
       "          quickchartButtonEl.classList.remove('colab-df-spinner');\n",
       "          quickchartButtonEl.classList.add('colab-df-quickchart-complete');\n",
       "        }\n",
       "        (() => {\n",
       "          let quickchartButtonEl =\n",
       "            document.querySelector('#df-5c658c00-64b3-4cf3-9d35-9749ab3dad5e button');\n",
       "          quickchartButtonEl.style.display =\n",
       "            google.colab.kernel.accessAllowed ? 'block' : 'none';\n",
       "        })();\n",
       "      </script>\n",
       "    </div>\n",
       "\n",
       "    </div>\n",
       "  </div>\n"
      ],
      "text/plain": [
       "       PassengerId      Pclass         Age       SibSp       Parch  \\\n",
       "count   891.000000  891.000000  714.000000  891.000000  891.000000   \n",
       "mean    446.000000    2.308642   29.699118    0.523008    0.381594   \n",
       "std     257.353842    0.836071   14.526497    1.102743    0.806057   \n",
       "min       1.000000    1.000000    0.420000    0.000000    0.000000   \n",
       "25%     223.500000    2.000000   20.125000    0.000000    0.000000   \n",
       "50%     446.000000    3.000000   28.000000    0.000000    0.000000   \n",
       "75%     668.500000    3.000000   38.000000    1.000000    0.000000   \n",
       "max     891.000000    3.000000   80.000000    8.000000    6.000000   \n",
       "\n",
       "             Fare  NameLength   SexBinary  \n",
       "count  891.000000  891.000000  891.000000  \n",
       "mean    32.204208   26.965208    0.352413  \n",
       "std     49.693429    9.281607    0.477990  \n",
       "min      0.000000   12.000000    0.000000  \n",
       "25%      7.910400   20.000000    0.000000  \n",
       "50%     14.454200   25.000000    0.000000  \n",
       "75%     31.000000   30.000000    1.000000  \n",
       "max    512.329200   82.000000    1.000000  "
      ]
     },
     "execution_count": 45,
     "metadata": {},
     "output_type": "execute_result"
    }
   ],
   "source": [
    "df.describe()"
   ]
  },
  {
   "cell_type": "code",
   "execution_count": 46,
   "id": "pAMUapw72eWy",
   "metadata": {
    "colab": {
     "base_uri": "https://localhost:8080/",
     "height": 451
    },
    "executionInfo": {
     "elapsed": 127,
     "status": "ok",
     "timestamp": 1753434682693,
     "user": {
      "displayName": "Varun",
      "userId": "17764854446808172797"
     },
     "user_tz": -330
    },
    "id": "pAMUapw72eWy",
    "outputId": "7e5ac174-9d9d-419c-e7d8-062fee709188"
   },
   "outputs": [
    {
     "data": {
      "application/vnd.google.colaboratory.intrinsic+json": {
       "summary": "{\n  \"name\": \"df\",\n  \"rows\": 5,\n  \"fields\": [\n    {\n      \"column\": \"PassengerId\",\n      \"properties\": {\n        \"dtype\": \"number\",\n        \"std\": 1,\n        \"min\": 887,\n        \"max\": 891,\n        \"num_unique_values\": 5,\n        \"samples\": [\n          888,\n          891,\n          889\n        ],\n        \"semantic_type\": \"\",\n        \"description\": \"\"\n      }\n    },\n    {\n      \"column\": \"Survived\",\n      \"properties\": {\n        \"dtype\": \"category\",\n        \"num_unique_values\": 2,\n        \"samples\": [\n          \"Yes\",\n          \"No\"\n        ],\n        \"semantic_type\": \"\",\n        \"description\": \"\"\n      }\n    },\n    {\n      \"column\": \"Pclass\",\n      \"properties\": {\n        \"dtype\": \"number\",\n        \"std\": 1,\n        \"min\": 1,\n        \"max\": 3,\n        \"num_unique_values\": 3,\n        \"samples\": [\n          2,\n          1\n        ],\n        \"semantic_type\": \"\",\n        \"description\": \"\"\n      }\n    },\n    {\n      \"column\": \"Name\",\n      \"properties\": {\n        \"dtype\": \"string\",\n        \"num_unique_values\": 5,\n        \"samples\": [\n          \"Graham, Miss. Margaret Edith\",\n          \"Dooley, Mr. Patrick\"\n        ],\n        \"semantic_type\": \"\",\n        \"description\": \"\"\n      }\n    },\n    {\n      \"column\": \"Sex\",\n      \"properties\": {\n        \"dtype\": \"category\",\n        \"num_unique_values\": 2,\n        \"samples\": [\n          \"female\",\n          \"male\"\n        ],\n        \"semantic_type\": \"\",\n        \"description\": \"\"\n      }\n    },\n    {\n      \"column\": \"Age\",\n      \"properties\": {\n        \"dtype\": \"number\",\n        \"std\": 5.354126134736337,\n        \"min\": 19.0,\n        \"max\": 32.0,\n        \"num_unique_values\": 4,\n        \"samples\": [\n          19.0,\n          32.0\n        ],\n        \"semantic_type\": \"\",\n        \"description\": \"\"\n      }\n    },\n    {\n      \"column\": \"SibSp\",\n      \"properties\": {\n        \"dtype\": \"number\",\n        \"std\": 0,\n        \"min\": 0,\n        \"max\": 1,\n        \"num_unique_values\": 2,\n        \"samples\": [\n          1,\n          0\n        ],\n        \"semantic_type\": \"\",\n        \"description\": \"\"\n      }\n    },\n    {\n      \"column\": \"Parch\",\n      \"properties\": {\n        \"dtype\": \"number\",\n        \"std\": 0,\n        \"min\": 0,\n        \"max\": 2,\n        \"num_unique_values\": 2,\n        \"samples\": [\n          2,\n          0\n        ],\n        \"semantic_type\": \"\",\n        \"description\": \"\"\n      }\n    },\n    {\n      \"column\": \"Ticket\",\n      \"properties\": {\n        \"dtype\": \"string\",\n        \"num_unique_values\": 5,\n        \"samples\": [\n          \"112053\",\n          \"370376\"\n        ],\n        \"semantic_type\": \"\",\n        \"description\": \"\"\n      }\n    },\n    {\n      \"column\": \"Fare\",\n      \"properties\": {\n        \"dtype\": \"number\",\n        \"std\": 10.09253436952285,\n        \"min\": 7.75,\n        \"max\": 30.0,\n        \"num_unique_values\": 4,\n        \"samples\": [\n          30.0,\n          7.75\n        ],\n        \"semantic_type\": \"\",\n        \"description\": \"\"\n      }\n    },\n    {\n      \"column\": \"Cabin\",\n      \"properties\": {\n        \"dtype\": \"category\",\n        \"num_unique_values\": 2,\n        \"samples\": [\n          \"C148\",\n          \"B42\"\n        ],\n        \"semantic_type\": \"\",\n        \"description\": \"\"\n      }\n    },\n    {\n      \"column\": \"Embarked\",\n      \"properties\": {\n        \"dtype\": \"string\",\n        \"num_unique_values\": 3,\n        \"samples\": [\n          \"S\",\n          \"C\"\n        ],\n        \"semantic_type\": \"\",\n        \"description\": \"\"\n      }\n    },\n    {\n      \"column\": \"NameLength\",\n      \"properties\": {\n        \"dtype\": \"number\",\n        \"std\": 8,\n        \"min\": 19,\n        \"max\": 40,\n        \"num_unique_values\": 4,\n        \"samples\": [\n          28,\n          19\n        ],\n        \"semantic_type\": \"\",\n        \"description\": \"\"\n      }\n    },\n    {\n      \"column\": \"SexBinary\",\n      \"properties\": {\n        \"dtype\": \"number\",\n        \"std\": 0,\n        \"min\": 0,\n        \"max\": 1,\n        \"num_unique_values\": 2,\n        \"samples\": [\n          1,\n          0\n        ],\n        \"semantic_type\": \"\",\n        \"description\": \"\"\n      }\n    },\n    {\n      \"column\": \"AboveAvgFare\",\n      \"properties\": {\n        \"dtype\": \"boolean\",\n        \"num_unique_values\": 1,\n        \"samples\": [\n          false\n        ],\n        \"semantic_type\": \"\",\n        \"description\": \"\"\n      }\n    }\n  ]\n}",
       "type": "dataframe"
      },
      "text/html": [
       "\n",
       "  <div id=\"df-7fc74291-c1fc-47fb-8097-4dc414e22d87\" class=\"colab-df-container\">\n",
       "    <div>\n",
       "<style scoped>\n",
       "    .dataframe tbody tr th:only-of-type {\n",
       "        vertical-align: middle;\n",
       "    }\n",
       "\n",
       "    .dataframe tbody tr th {\n",
       "        vertical-align: top;\n",
       "    }\n",
       "\n",
       "    .dataframe thead th {\n",
       "        text-align: right;\n",
       "    }\n",
       "</style>\n",
       "<table border=\"1\" class=\"dataframe\">\n",
       "  <thead>\n",
       "    <tr style=\"text-align: right;\">\n",
       "      <th></th>\n",
       "      <th>PassengerId</th>\n",
       "      <th>Survived</th>\n",
       "      <th>Pclass</th>\n",
       "      <th>Name</th>\n",
       "      <th>Sex</th>\n",
       "      <th>Age</th>\n",
       "      <th>SibSp</th>\n",
       "      <th>Parch</th>\n",
       "      <th>Ticket</th>\n",
       "      <th>Fare</th>\n",
       "      <th>Cabin</th>\n",
       "      <th>Embarked</th>\n",
       "      <th>NameLength</th>\n",
       "      <th>SexBinary</th>\n",
       "      <th>AboveAvgFare</th>\n",
       "    </tr>\n",
       "  </thead>\n",
       "  <tbody>\n",
       "    <tr>\n",
       "      <th>886</th>\n",
       "      <td>887</td>\n",
       "      <td>No</td>\n",
       "      <td>2</td>\n",
       "      <td>Montvila, Rev. Juozas</td>\n",
       "      <td>male</td>\n",
       "      <td>27.0</td>\n",
       "      <td>0</td>\n",
       "      <td>0</td>\n",
       "      <td>211536</td>\n",
       "      <td>13.00</td>\n",
       "      <td>NaN</td>\n",
       "      <td>S</td>\n",
       "      <td>21</td>\n",
       "      <td>0</td>\n",
       "      <td>False</td>\n",
       "    </tr>\n",
       "    <tr>\n",
       "      <th>887</th>\n",
       "      <td>888</td>\n",
       "      <td>Yes</td>\n",
       "      <td>1</td>\n",
       "      <td>Graham, Miss. Margaret Edith</td>\n",
       "      <td>female</td>\n",
       "      <td>19.0</td>\n",
       "      <td>0</td>\n",
       "      <td>0</td>\n",
       "      <td>112053</td>\n",
       "      <td>30.00</td>\n",
       "      <td>B42</td>\n",
       "      <td>S</td>\n",
       "      <td>28</td>\n",
       "      <td>1</td>\n",
       "      <td>False</td>\n",
       "    </tr>\n",
       "    <tr>\n",
       "      <th>888</th>\n",
       "      <td>889</td>\n",
       "      <td>No</td>\n",
       "      <td>3</td>\n",
       "      <td>Johnston, Miss. Catherine Helen \"Carrie\"</td>\n",
       "      <td>female</td>\n",
       "      <td>NaN</td>\n",
       "      <td>1</td>\n",
       "      <td>2</td>\n",
       "      <td>W./C. 6607</td>\n",
       "      <td>23.45</td>\n",
       "      <td>NaN</td>\n",
       "      <td>S</td>\n",
       "      <td>40</td>\n",
       "      <td>1</td>\n",
       "      <td>False</td>\n",
       "    </tr>\n",
       "    <tr>\n",
       "      <th>889</th>\n",
       "      <td>890</td>\n",
       "      <td>Yes</td>\n",
       "      <td>1</td>\n",
       "      <td>Behr, Mr. Karl Howell</td>\n",
       "      <td>male</td>\n",
       "      <td>26.0</td>\n",
       "      <td>0</td>\n",
       "      <td>0</td>\n",
       "      <td>111369</td>\n",
       "      <td>30.00</td>\n",
       "      <td>C148</td>\n",
       "      <td>C</td>\n",
       "      <td>21</td>\n",
       "      <td>0</td>\n",
       "      <td>False</td>\n",
       "    </tr>\n",
       "    <tr>\n",
       "      <th>890</th>\n",
       "      <td>891</td>\n",
       "      <td>No</td>\n",
       "      <td>3</td>\n",
       "      <td>Dooley, Mr. Patrick</td>\n",
       "      <td>male</td>\n",
       "      <td>32.0</td>\n",
       "      <td>0</td>\n",
       "      <td>0</td>\n",
       "      <td>370376</td>\n",
       "      <td>7.75</td>\n",
       "      <td>NaN</td>\n",
       "      <td>Q</td>\n",
       "      <td>19</td>\n",
       "      <td>0</td>\n",
       "      <td>False</td>\n",
       "    </tr>\n",
       "  </tbody>\n",
       "</table>\n",
       "</div>\n",
       "    <div class=\"colab-df-buttons\">\n",
       "\n",
       "  <div class=\"colab-df-container\">\n",
       "    <button class=\"colab-df-convert\" onclick=\"convertToInteractive('df-7fc74291-c1fc-47fb-8097-4dc414e22d87')\"\n",
       "            title=\"Convert this dataframe to an interactive table.\"\n",
       "            style=\"display:none;\">\n",
       "\n",
       "  <svg xmlns=\"http://www.w3.org/2000/svg\" height=\"24px\" viewBox=\"0 -960 960 960\">\n",
       "    <path d=\"M120-120v-720h720v720H120Zm60-500h600v-160H180v160Zm220 220h160v-160H400v160Zm0 220h160v-160H400v160ZM180-400h160v-160H180v160Zm440 0h160v-160H620v160ZM180-180h160v-160H180v160Zm440 0h160v-160H620v160Z\"/>\n",
       "  </svg>\n",
       "    </button>\n",
       "\n",
       "  <style>\n",
       "    .colab-df-container {\n",
       "      display:flex;\n",
       "      gap: 12px;\n",
       "    }\n",
       "\n",
       "    .colab-df-convert {\n",
       "      background-color: #E8F0FE;\n",
       "      border: none;\n",
       "      border-radius: 50%;\n",
       "      cursor: pointer;\n",
       "      display: none;\n",
       "      fill: #1967D2;\n",
       "      height: 32px;\n",
       "      padding: 0 0 0 0;\n",
       "      width: 32px;\n",
       "    }\n",
       "\n",
       "    .colab-df-convert:hover {\n",
       "      background-color: #E2EBFA;\n",
       "      box-shadow: 0px 1px 2px rgba(60, 64, 67, 0.3), 0px 1px 3px 1px rgba(60, 64, 67, 0.15);\n",
       "      fill: #174EA6;\n",
       "    }\n",
       "\n",
       "    .colab-df-buttons div {\n",
       "      margin-bottom: 4px;\n",
       "    }\n",
       "\n",
       "    [theme=dark] .colab-df-convert {\n",
       "      background-color: #3B4455;\n",
       "      fill: #D2E3FC;\n",
       "    }\n",
       "\n",
       "    [theme=dark] .colab-df-convert:hover {\n",
       "      background-color: #434B5C;\n",
       "      box-shadow: 0px 1px 3px 1px rgba(0, 0, 0, 0.15);\n",
       "      filter: drop-shadow(0px 1px 2px rgba(0, 0, 0, 0.3));\n",
       "      fill: #FFFFFF;\n",
       "    }\n",
       "  </style>\n",
       "\n",
       "    <script>\n",
       "      const buttonEl =\n",
       "        document.querySelector('#df-7fc74291-c1fc-47fb-8097-4dc414e22d87 button.colab-df-convert');\n",
       "      buttonEl.style.display =\n",
       "        google.colab.kernel.accessAllowed ? 'block' : 'none';\n",
       "\n",
       "      async function convertToInteractive(key) {\n",
       "        const element = document.querySelector('#df-7fc74291-c1fc-47fb-8097-4dc414e22d87');\n",
       "        const dataTable =\n",
       "          await google.colab.kernel.invokeFunction('convertToInteractive',\n",
       "                                                    [key], {});\n",
       "        if (!dataTable) return;\n",
       "\n",
       "        const docLinkHtml = 'Like what you see? Visit the ' +\n",
       "          '<a target=\"_blank\" href=https://colab.research.google.com/notebooks/data_table.ipynb>data table notebook</a>'\n",
       "          + ' to learn more about interactive tables.';\n",
       "        element.innerHTML = '';\n",
       "        dataTable['output_type'] = 'display_data';\n",
       "        await google.colab.output.renderOutput(dataTable, element);\n",
       "        const docLink = document.createElement('div');\n",
       "        docLink.innerHTML = docLinkHtml;\n",
       "        element.appendChild(docLink);\n",
       "      }\n",
       "    </script>\n",
       "  </div>\n",
       "\n",
       "\n",
       "    <div id=\"df-477d0b21-3497-46fa-ad32-2bc732883d19\">\n",
       "      <button class=\"colab-df-quickchart\" onclick=\"quickchart('df-477d0b21-3497-46fa-ad32-2bc732883d19')\"\n",
       "                title=\"Suggest charts\"\n",
       "                style=\"display:none;\">\n",
       "\n",
       "<svg xmlns=\"http://www.w3.org/2000/svg\" height=\"24px\"viewBox=\"0 0 24 24\"\n",
       "     width=\"24px\">\n",
       "    <g>\n",
       "        <path d=\"M19 3H5c-1.1 0-2 .9-2 2v14c0 1.1.9 2 2 2h14c1.1 0 2-.9 2-2V5c0-1.1-.9-2-2-2zM9 17H7v-7h2v7zm4 0h-2V7h2v10zm4 0h-2v-4h2v4z\"/>\n",
       "    </g>\n",
       "</svg>\n",
       "      </button>\n",
       "\n",
       "<style>\n",
       "  .colab-df-quickchart {\n",
       "      --bg-color: #E8F0FE;\n",
       "      --fill-color: #1967D2;\n",
       "      --hover-bg-color: #E2EBFA;\n",
       "      --hover-fill-color: #174EA6;\n",
       "      --disabled-fill-color: #AAA;\n",
       "      --disabled-bg-color: #DDD;\n",
       "  }\n",
       "\n",
       "  [theme=dark] .colab-df-quickchart {\n",
       "      --bg-color: #3B4455;\n",
       "      --fill-color: #D2E3FC;\n",
       "      --hover-bg-color: #434B5C;\n",
       "      --hover-fill-color: #FFFFFF;\n",
       "      --disabled-bg-color: #3B4455;\n",
       "      --disabled-fill-color: #666;\n",
       "  }\n",
       "\n",
       "  .colab-df-quickchart {\n",
       "    background-color: var(--bg-color);\n",
       "    border: none;\n",
       "    border-radius: 50%;\n",
       "    cursor: pointer;\n",
       "    display: none;\n",
       "    fill: var(--fill-color);\n",
       "    height: 32px;\n",
       "    padding: 0;\n",
       "    width: 32px;\n",
       "  }\n",
       "\n",
       "  .colab-df-quickchart:hover {\n",
       "    background-color: var(--hover-bg-color);\n",
       "    box-shadow: 0 1px 2px rgba(60, 64, 67, 0.3), 0 1px 3px 1px rgba(60, 64, 67, 0.15);\n",
       "    fill: var(--button-hover-fill-color);\n",
       "  }\n",
       "\n",
       "  .colab-df-quickchart-complete:disabled,\n",
       "  .colab-df-quickchart-complete:disabled:hover {\n",
       "    background-color: var(--disabled-bg-color);\n",
       "    fill: var(--disabled-fill-color);\n",
       "    box-shadow: none;\n",
       "  }\n",
       "\n",
       "  .colab-df-spinner {\n",
       "    border: 2px solid var(--fill-color);\n",
       "    border-color: transparent;\n",
       "    border-bottom-color: var(--fill-color);\n",
       "    animation:\n",
       "      spin 1s steps(1) infinite;\n",
       "  }\n",
       "\n",
       "  @keyframes spin {\n",
       "    0% {\n",
       "      border-color: transparent;\n",
       "      border-bottom-color: var(--fill-color);\n",
       "      border-left-color: var(--fill-color);\n",
       "    }\n",
       "    20% {\n",
       "      border-color: transparent;\n",
       "      border-left-color: var(--fill-color);\n",
       "      border-top-color: var(--fill-color);\n",
       "    }\n",
       "    30% {\n",
       "      border-color: transparent;\n",
       "      border-left-color: var(--fill-color);\n",
       "      border-top-color: var(--fill-color);\n",
       "      border-right-color: var(--fill-color);\n",
       "    }\n",
       "    40% {\n",
       "      border-color: transparent;\n",
       "      border-right-color: var(--fill-color);\n",
       "      border-top-color: var(--fill-color);\n",
       "    }\n",
       "    60% {\n",
       "      border-color: transparent;\n",
       "      border-right-color: var(--fill-color);\n",
       "    }\n",
       "    80% {\n",
       "      border-color: transparent;\n",
       "      border-right-color: var(--fill-color);\n",
       "      border-bottom-color: var(--fill-color);\n",
       "    }\n",
       "    90% {\n",
       "      border-color: transparent;\n",
       "      border-bottom-color: var(--fill-color);\n",
       "    }\n",
       "  }\n",
       "</style>\n",
       "\n",
       "      <script>\n",
       "        async function quickchart(key) {\n",
       "          const quickchartButtonEl =\n",
       "            document.querySelector('#' + key + ' button');\n",
       "          quickchartButtonEl.disabled = true;  // To prevent multiple clicks.\n",
       "          quickchartButtonEl.classList.add('colab-df-spinner');\n",
       "          try {\n",
       "            const charts = await google.colab.kernel.invokeFunction(\n",
       "                'suggestCharts', [key], {});\n",
       "          } catch (error) {\n",
       "            console.error('Error during call to suggestCharts:', error);\n",
       "          }\n",
       "          quickchartButtonEl.classList.remove('colab-df-spinner');\n",
       "          quickchartButtonEl.classList.add('colab-df-quickchart-complete');\n",
       "        }\n",
       "        (() => {\n",
       "          let quickchartButtonEl =\n",
       "            document.querySelector('#df-477d0b21-3497-46fa-ad32-2bc732883d19 button');\n",
       "          quickchartButtonEl.style.display =\n",
       "            google.colab.kernel.accessAllowed ? 'block' : 'none';\n",
       "        })();\n",
       "      </script>\n",
       "    </div>\n",
       "\n",
       "    </div>\n",
       "  </div>\n"
      ],
      "text/plain": [
       "     PassengerId Survived  Pclass                                      Name  \\\n",
       "886          887       No       2                     Montvila, Rev. Juozas   \n",
       "887          888      Yes       1              Graham, Miss. Margaret Edith   \n",
       "888          889       No       3  Johnston, Miss. Catherine Helen \"Carrie\"   \n",
       "889          890      Yes       1                     Behr, Mr. Karl Howell   \n",
       "890          891       No       3                       Dooley, Mr. Patrick   \n",
       "\n",
       "        Sex   Age  SibSp  Parch      Ticket   Fare Cabin Embarked  NameLength  \\\n",
       "886    male  27.0      0      0      211536  13.00   NaN        S          21   \n",
       "887  female  19.0      0      0      112053  30.00   B42        S          28   \n",
       "888  female   NaN      1      2  W./C. 6607  23.45   NaN        S          40   \n",
       "889    male  26.0      0      0      111369  30.00  C148        C          21   \n",
       "890    male  32.0      0      0      370376   7.75   NaN        Q          19   \n",
       "\n",
       "     SexBinary  AboveAvgFare  \n",
       "886          0         False  \n",
       "887          1         False  \n",
       "888          1         False  \n",
       "889          0         False  \n",
       "890          0         False  "
      ]
     },
     "execution_count": 46,
     "metadata": {},
     "output_type": "execute_result"
    }
   ],
   "source": [
    "df.tail()"
   ]
  },
  {
   "cell_type": "markdown",
   "id": "89493cef",
   "metadata": {
    "id": "89493cef"
   },
   "source": [
    "## 2. Handling Missing Values (NaN)\n",
    "Real-world data often has missing entries. Pandas represents these as `NaN` (Not a Number).\n",
    "\n",
    "**Why it matters:**\n",
    "- Missing data can skew analyses, cause errors in calculations, and lead to incorrect model training.\n",
    "- We need strategies to detect and handle missing values consistently.\n",
    "\n",
    "### 2.1 Detection\n",
    "- `df.isnull()` returns a DataFrame of boolean values (`True` if missing).\n",
    "- Summing this boolean mask per column gives count of missing."
   ]
  },
  {
   "cell_type": "code",
   "execution_count": 48,
   "id": "e4a29ceb",
   "metadata": {
    "colab": {
     "base_uri": "https://localhost:8080/"
    },
    "executionInfo": {
     "elapsed": 9,
     "status": "ok",
     "timestamp": 1753434777759,
     "user": {
      "displayName": "Varun",
      "userId": "17764854446808172797"
     },
     "user_tz": -330
    },
    "id": "e4a29ceb",
    "outputId": "fc2205cf-96af-4db1-cb98-0ff4727478c3"
   },
   "outputs": [
    {
     "name": "stdout",
     "output_type": "stream",
     "text": [
      "Missing values per column:\n",
      "PassengerId       0\n",
      "Survived          0\n",
      "Pclass            0\n",
      "Name              0\n",
      "Sex               0\n",
      "Age             177\n",
      "SibSp             0\n",
      "Parch             0\n",
      "Ticket            0\n",
      "Fare              0\n",
      "Cabin           687\n",
      "Embarked          2\n",
      "NameLength        0\n",
      "SexBinary         0\n",
      "AboveAvgFare      0\n",
      "dtype: int64\n"
     ]
    }
   ],
   "source": [
    "missing_counts = df.isnull().sum()\n",
    "print(\"Missing values per column:\")\n",
    "print(missing_counts)"
   ]
  },
  {
   "cell_type": "markdown",
   "id": "b4db0dbb",
   "metadata": {
    "id": "b4db0dbb"
   },
   "source": [
    "### 2.2 Dropping Missing Values\n",
    "**Approach:** Remove rows or columns with missing data.\n",
    "\n",
    "- `df.dropna(how='any')`: Drops any row containing at least one `NaN`.\n",
    "- `df.dropna(how='all')`: Drops only rows where **all** entries are `NaN`.\n",
    "\n",
    "**When to use:**\n",
    "- Dropping is quick but may remove important data if many values are missing."
   ]
  },
  {
   "cell_type": "code",
   "execution_count": 3,
   "id": "b041baf6",
   "metadata": {
    "colab": {
     "base_uri": "https://localhost:8080/"
    },
    "executionInfo": {
     "elapsed": 38,
     "status": "ok",
     "timestamp": 1753433823468,
     "user": {
      "displayName": "Varun",
      "userId": "17764854446808172797"
     },
     "user_tz": -330
    },
    "id": "b041baf6",
    "outputId": "f469bb25-6f94-42d8-c082-2a98b89dba63"
   },
   "outputs": [
    {
     "name": "stdout",
     "output_type": "stream",
     "text": [
      "Shape after dropping any missing: (183, 12)\n"
     ]
    }
   ],
   "source": [
    "df_drop_any = df.dropna(how='any')\n",
    "print('Shape after dropping any missing:', df_drop_any.shape)"
   ]
  },
  {
   "cell_type": "code",
   "execution_count": 4,
   "id": "337e29a0",
   "metadata": {
    "colab": {
     "base_uri": "https://localhost:8080/"
    },
    "executionInfo": {
     "elapsed": 31,
     "status": "ok",
     "timestamp": 1753433823468,
     "user": {
      "displayName": "Varun",
      "userId": "17764854446808172797"
     },
     "user_tz": -330
    },
    "id": "337e29a0",
    "outputId": "15cc0780-828d-4ccc-c4c9-19ebfaace40d"
   },
   "outputs": [
    {
     "name": "stdout",
     "output_type": "stream",
     "text": [
      "Shape after dropping all-missing rows: (891, 12)\n"
     ]
    }
   ],
   "source": [
    "df_drop_all = df.dropna(how='all')\n",
    "print('Shape after dropping all-missing rows:', df_drop_all.shape)"
   ]
  },
  {
   "cell_type": "markdown",
   "id": "28259884",
   "metadata": {
    "id": "28259884"
   },
   "source": [
    "### 2.3 Filling Missing Values\n",
    "Filling missing values can preserve dataset size. Choices include:\n",
    "\n",
    "- **Constant value**: e.g., `0` or `'Unknown'`.\n",
    "- **Statistical fill**: mean, median for numerical; mode for categorical.\n",
    "- **Method-based**: forward-fill (`ffill`) or backward-fill (`bfill`) to propagate adjacent values."
   ]
  },
  {
   "cell_type": "code",
   "execution_count": 5,
   "id": "d65911dc",
   "metadata": {
    "colab": {
     "base_uri": "https://localhost:8080/"
    },
    "executionInfo": {
     "elapsed": 138,
     "status": "ok",
     "timestamp": 1753433823603,
     "user": {
      "displayName": "Varun",
      "userId": "17764854446808172797"
     },
     "user_tz": -330
    },
    "id": "d65911dc",
    "outputId": "6d82b287-6f34-4536-dc57-eb8f2914ad57"
   },
   "outputs": [
    {
     "name": "stdout",
     "output_type": "stream",
     "text": [
      "After constant fill:\n",
      "     Age Embarked\n",
      "0  22.0        S\n",
      "1  38.0        C\n",
      "2  26.0        S\n",
      "3  35.0        S\n",
      "4  35.0        S\n"
     ]
    }
   ],
   "source": [
    "# Constant fill\n",
    "df_const = df.fillna({'Age': 0, 'Embarked': 'Unknown'})\n",
    "print(\"After constant fill:\\n\", df_const[['Age','Embarked']].head(5))"
   ]
  },
  {
   "cell_type": "code",
   "execution_count": 6,
   "id": "dd65e39c",
   "metadata": {
    "colab": {
     "base_uri": "https://localhost:8080/"
    },
    "executionInfo": {
     "elapsed": 4,
     "status": "ok",
     "timestamp": 1753433823608,
     "user": {
      "displayName": "Varun",
      "userId": "17764854446808172797"
     },
     "user_tz": -330
    },
    "id": "dd65e39c",
    "outputId": "a8df4d02-c6ec-402e-ee81-d2735e8124c8"
   },
   "outputs": [
    {
     "name": "stdout",
     "output_type": "stream",
     "text": [
      "\n",
      "After statistical fill, missing counts:\n",
      "PassengerId      0\n",
      "Survived         0\n",
      "Pclass           0\n",
      "Name             0\n",
      "Sex              0\n",
      "Age              0\n",
      "SibSp            0\n",
      "Parch            0\n",
      "Ticket           0\n",
      "Fare             0\n",
      "Cabin          687\n",
      "Embarked         0\n",
      "dtype: int64\n"
     ]
    }
   ],
   "source": [
    "# Statistical fill\n",
    "age_mean = df['Age'].mean()\n",
    "fare_median = df['Fare'].median()\n",
    "embarked_mode = df['Embarked'].mode()[0]\n",
    "df_stat = df.fillna({'Age': age_mean, 'Fare': fare_median, 'Embarked': embarked_mode})\n",
    "print(\"\\nAfter statistical fill, missing counts:\")\n",
    "print(df_stat.isnull().sum())"
   ]
  },
  {
   "cell_type": "code",
   "execution_count": 7,
   "id": "1GN9ijIud-dB",
   "metadata": {
    "colab": {
     "base_uri": "https://localhost:8080/",
     "height": 460
    },
    "executionInfo": {
     "elapsed": 37,
     "status": "ok",
     "timestamp": 1753433823647,
     "user": {
      "displayName": "Varun",
      "userId": "17764854446808172797"
     },
     "user_tz": -330
    },
    "id": "1GN9ijIud-dB",
    "outputId": "df1cafcf-1d3b-4930-c9f4-310bccb7bc4d"
   },
   "outputs": [
    {
     "data": {
      "text/html": [
       "<div>\n",
       "<style scoped>\n",
       "    .dataframe tbody tr th:only-of-type {\n",
       "        vertical-align: middle;\n",
       "    }\n",
       "\n",
       "    .dataframe tbody tr th {\n",
       "        vertical-align: top;\n",
       "    }\n",
       "\n",
       "    .dataframe thead th {\n",
       "        text-align: right;\n",
       "    }\n",
       "</style>\n",
       "<table border=\"1\" class=\"dataframe\">\n",
       "  <thead>\n",
       "    <tr style=\"text-align: right;\">\n",
       "      <th></th>\n",
       "      <th>0</th>\n",
       "    </tr>\n",
       "  </thead>\n",
       "  <tbody>\n",
       "    <tr>\n",
       "      <th>PassengerId</th>\n",
       "      <td>0</td>\n",
       "    </tr>\n",
       "    <tr>\n",
       "      <th>Survived</th>\n",
       "      <td>0</td>\n",
       "    </tr>\n",
       "    <tr>\n",
       "      <th>Pclass</th>\n",
       "      <td>0</td>\n",
       "    </tr>\n",
       "    <tr>\n",
       "      <th>Name</th>\n",
       "      <td>0</td>\n",
       "    </tr>\n",
       "    <tr>\n",
       "      <th>Sex</th>\n",
       "      <td>0</td>\n",
       "    </tr>\n",
       "    <tr>\n",
       "      <th>Age</th>\n",
       "      <td>177</td>\n",
       "    </tr>\n",
       "    <tr>\n",
       "      <th>SibSp</th>\n",
       "      <td>0</td>\n",
       "    </tr>\n",
       "    <tr>\n",
       "      <th>Parch</th>\n",
       "      <td>0</td>\n",
       "    </tr>\n",
       "    <tr>\n",
       "      <th>Ticket</th>\n",
       "      <td>0</td>\n",
       "    </tr>\n",
       "    <tr>\n",
       "      <th>Fare</th>\n",
       "      <td>0</td>\n",
       "    </tr>\n",
       "    <tr>\n",
       "      <th>Cabin</th>\n",
       "      <td>687</td>\n",
       "    </tr>\n",
       "    <tr>\n",
       "      <th>Embarked</th>\n",
       "      <td>2</td>\n",
       "    </tr>\n",
       "  </tbody>\n",
       "</table>\n",
       "</div><br><label><b>dtype:</b> int64</label>"
      ],
      "text/plain": [
       "PassengerId      0\n",
       "Survived         0\n",
       "Pclass           0\n",
       "Name             0\n",
       "Sex              0\n",
       "Age            177\n",
       "SibSp            0\n",
       "Parch            0\n",
       "Ticket           0\n",
       "Fare             0\n",
       "Cabin          687\n",
       "Embarked         2\n",
       "dtype: int64"
      ]
     },
     "execution_count": 7,
     "metadata": {},
     "output_type": "execute_result"
    }
   ],
   "source": [
    "df.isnull().sum()"
   ]
  },
  {
   "cell_type": "code",
   "execution_count": 8,
   "id": "E_vVocxSmfxt",
   "metadata": {
    "colab": {
     "base_uri": "https://localhost:8080/",
     "height": 175
    },
    "executionInfo": {
     "elapsed": 81,
     "status": "ok",
     "timestamp": 1753433823729,
     "user": {
      "displayName": "Varun",
      "userId": "17764854446808172797"
     },
     "user_tz": -330
    },
    "id": "E_vVocxSmfxt",
    "outputId": "765098cf-5cd2-4430-c460-6eb5a265e2b3"
   },
   "outputs": [
    {
     "data": {
      "application/vnd.google.colaboratory.intrinsic+json": {
       "summary": "{\n  \"name\": \"df1\",\n  \"rows\": 4,\n  \"fields\": [\n    {\n      \"column\": \"A\",\n      \"properties\": {\n        \"dtype\": \"number\",\n        \"std\": null,\n        \"min\": 3.0,\n        \"max\": 3.0,\n        \"num_unique_values\": 1,\n        \"samples\": [\n          3.0\n        ],\n        \"semantic_type\": \"\",\n        \"description\": \"\"\n      }\n    },\n    {\n      \"column\": \"B\",\n      \"properties\": {\n        \"dtype\": \"number\",\n        \"std\": 1.0,\n        \"min\": 2.0,\n        \"max\": 4.0,\n        \"num_unique_values\": 3,\n        \"samples\": [\n          2.0\n        ],\n        \"semantic_type\": \"\",\n        \"description\": \"\"\n      }\n    },\n    {\n      \"column\": \"C\",\n      \"properties\": {\n        \"dtype\": \"number\",\n        \"std\": null,\n        \"min\": null,\n        \"max\": null,\n        \"num_unique_values\": 0,\n        \"samples\": [],\n        \"semantic_type\": \"\",\n        \"description\": \"\"\n      }\n    },\n    {\n      \"column\": \"D\",\n      \"properties\": {\n        \"dtype\": \"number\",\n        \"std\": 2.0816659994661326,\n        \"min\": 0.0,\n        \"max\": 4.0,\n        \"num_unique_values\": 3,\n        \"samples\": [],\n        \"semantic_type\": \"\",\n        \"description\": \"\"\n      }\n    }\n  ]\n}",
       "type": "dataframe",
       "variable_name": "df1"
      },
      "text/html": [
       "\n",
       "  <div id=\"df-1b1374b8-ba0b-4f2f-b4b9-d7c283995bbc\" class=\"colab-df-container\">\n",
       "    <div>\n",
       "<style scoped>\n",
       "    .dataframe tbody tr th:only-of-type {\n",
       "        vertical-align: middle;\n",
       "    }\n",
       "\n",
       "    .dataframe tbody tr th {\n",
       "        vertical-align: top;\n",
       "    }\n",
       "\n",
       "    .dataframe thead th {\n",
       "        text-align: right;\n",
       "    }\n",
       "</style>\n",
       "<table border=\"1\" class=\"dataframe\">\n",
       "  <thead>\n",
       "    <tr style=\"text-align: right;\">\n",
       "      <th></th>\n",
       "      <th>A</th>\n",
       "      <th>B</th>\n",
       "      <th>C</th>\n",
       "      <th>D</th>\n",
       "    </tr>\n",
       "  </thead>\n",
       "  <tbody>\n",
       "    <tr>\n",
       "      <th>0</th>\n",
       "      <td>NaN</td>\n",
       "      <td>2.0</td>\n",
       "      <td>NaN</td>\n",
       "      <td>0.0</td>\n",
       "    </tr>\n",
       "    <tr>\n",
       "      <th>1</th>\n",
       "      <td>3.0</td>\n",
       "      <td>4.0</td>\n",
       "      <td>NaN</td>\n",
       "      <td>1.0</td>\n",
       "    </tr>\n",
       "    <tr>\n",
       "      <th>2</th>\n",
       "      <td>NaN</td>\n",
       "      <td>NaN</td>\n",
       "      <td>NaN</td>\n",
       "      <td>NaN</td>\n",
       "    </tr>\n",
       "    <tr>\n",
       "      <th>3</th>\n",
       "      <td>NaN</td>\n",
       "      <td>3.0</td>\n",
       "      <td>NaN</td>\n",
       "      <td>4.0</td>\n",
       "    </tr>\n",
       "  </tbody>\n",
       "</table>\n",
       "</div>\n",
       "    <div class=\"colab-df-buttons\">\n",
       "\n",
       "  <div class=\"colab-df-container\">\n",
       "    <button class=\"colab-df-convert\" onclick=\"convertToInteractive('df-1b1374b8-ba0b-4f2f-b4b9-d7c283995bbc')\"\n",
       "            title=\"Convert this dataframe to an interactive table.\"\n",
       "            style=\"display:none;\">\n",
       "\n",
       "  <svg xmlns=\"http://www.w3.org/2000/svg\" height=\"24px\" viewBox=\"0 -960 960 960\">\n",
       "    <path d=\"M120-120v-720h720v720H120Zm60-500h600v-160H180v160Zm220 220h160v-160H400v160Zm0 220h160v-160H400v160ZM180-400h160v-160H180v160Zm440 0h160v-160H620v160ZM180-180h160v-160H180v160Zm440 0h160v-160H620v160Z\"/>\n",
       "  </svg>\n",
       "    </button>\n",
       "\n",
       "  <style>\n",
       "    .colab-df-container {\n",
       "      display:flex;\n",
       "      gap: 12px;\n",
       "    }\n",
       "\n",
       "    .colab-df-convert {\n",
       "      background-color: #E8F0FE;\n",
       "      border: none;\n",
       "      border-radius: 50%;\n",
       "      cursor: pointer;\n",
       "      display: none;\n",
       "      fill: #1967D2;\n",
       "      height: 32px;\n",
       "      padding: 0 0 0 0;\n",
       "      width: 32px;\n",
       "    }\n",
       "\n",
       "    .colab-df-convert:hover {\n",
       "      background-color: #E2EBFA;\n",
       "      box-shadow: 0px 1px 2px rgba(60, 64, 67, 0.3), 0px 1px 3px 1px rgba(60, 64, 67, 0.15);\n",
       "      fill: #174EA6;\n",
       "    }\n",
       "\n",
       "    .colab-df-buttons div {\n",
       "      margin-bottom: 4px;\n",
       "    }\n",
       "\n",
       "    [theme=dark] .colab-df-convert {\n",
       "      background-color: #3B4455;\n",
       "      fill: #D2E3FC;\n",
       "    }\n",
       "\n",
       "    [theme=dark] .colab-df-convert:hover {\n",
       "      background-color: #434B5C;\n",
       "      box-shadow: 0px 1px 3px 1px rgba(0, 0, 0, 0.15);\n",
       "      filter: drop-shadow(0px 1px 2px rgba(0, 0, 0, 0.3));\n",
       "      fill: #FFFFFF;\n",
       "    }\n",
       "  </style>\n",
       "\n",
       "    <script>\n",
       "      const buttonEl =\n",
       "        document.querySelector('#df-1b1374b8-ba0b-4f2f-b4b9-d7c283995bbc button.colab-df-convert');\n",
       "      buttonEl.style.display =\n",
       "        google.colab.kernel.accessAllowed ? 'block' : 'none';\n",
       "\n",
       "      async function convertToInteractive(key) {\n",
       "        const element = document.querySelector('#df-1b1374b8-ba0b-4f2f-b4b9-d7c283995bbc');\n",
       "        const dataTable =\n",
       "          await google.colab.kernel.invokeFunction('convertToInteractive',\n",
       "                                                    [key], {});\n",
       "        if (!dataTable) return;\n",
       "\n",
       "        const docLinkHtml = 'Like what you see? Visit the ' +\n",
       "          '<a target=\"_blank\" href=https://colab.research.google.com/notebooks/data_table.ipynb>data table notebook</a>'\n",
       "          + ' to learn more about interactive tables.';\n",
       "        element.innerHTML = '';\n",
       "        dataTable['output_type'] = 'display_data';\n",
       "        await google.colab.output.renderOutput(dataTable, element);\n",
       "        const docLink = document.createElement('div');\n",
       "        docLink.innerHTML = docLinkHtml;\n",
       "        element.appendChild(docLink);\n",
       "      }\n",
       "    </script>\n",
       "  </div>\n",
       "\n",
       "\n",
       "    <div id=\"df-e74c8b5b-a328-4e72-aa71-5e63b1a508d2\">\n",
       "      <button class=\"colab-df-quickchart\" onclick=\"quickchart('df-e74c8b5b-a328-4e72-aa71-5e63b1a508d2')\"\n",
       "                title=\"Suggest charts\"\n",
       "                style=\"display:none;\">\n",
       "\n",
       "<svg xmlns=\"http://www.w3.org/2000/svg\" height=\"24px\"viewBox=\"0 0 24 24\"\n",
       "     width=\"24px\">\n",
       "    <g>\n",
       "        <path d=\"M19 3H5c-1.1 0-2 .9-2 2v14c0 1.1.9 2 2 2h14c1.1 0 2-.9 2-2V5c0-1.1-.9-2-2-2zM9 17H7v-7h2v7zm4 0h-2V7h2v10zm4 0h-2v-4h2v4z\"/>\n",
       "    </g>\n",
       "</svg>\n",
       "      </button>\n",
       "\n",
       "<style>\n",
       "  .colab-df-quickchart {\n",
       "      --bg-color: #E8F0FE;\n",
       "      --fill-color: #1967D2;\n",
       "      --hover-bg-color: #E2EBFA;\n",
       "      --hover-fill-color: #174EA6;\n",
       "      --disabled-fill-color: #AAA;\n",
       "      --disabled-bg-color: #DDD;\n",
       "  }\n",
       "\n",
       "  [theme=dark] .colab-df-quickchart {\n",
       "      --bg-color: #3B4455;\n",
       "      --fill-color: #D2E3FC;\n",
       "      --hover-bg-color: #434B5C;\n",
       "      --hover-fill-color: #FFFFFF;\n",
       "      --disabled-bg-color: #3B4455;\n",
       "      --disabled-fill-color: #666;\n",
       "  }\n",
       "\n",
       "  .colab-df-quickchart {\n",
       "    background-color: var(--bg-color);\n",
       "    border: none;\n",
       "    border-radius: 50%;\n",
       "    cursor: pointer;\n",
       "    display: none;\n",
       "    fill: var(--fill-color);\n",
       "    height: 32px;\n",
       "    padding: 0;\n",
       "    width: 32px;\n",
       "  }\n",
       "\n",
       "  .colab-df-quickchart:hover {\n",
       "    background-color: var(--hover-bg-color);\n",
       "    box-shadow: 0 1px 2px rgba(60, 64, 67, 0.3), 0 1px 3px 1px rgba(60, 64, 67, 0.15);\n",
       "    fill: var(--button-hover-fill-color);\n",
       "  }\n",
       "\n",
       "  .colab-df-quickchart-complete:disabled,\n",
       "  .colab-df-quickchart-complete:disabled:hover {\n",
       "    background-color: var(--disabled-bg-color);\n",
       "    fill: var(--disabled-fill-color);\n",
       "    box-shadow: none;\n",
       "  }\n",
       "\n",
       "  .colab-df-spinner {\n",
       "    border: 2px solid var(--fill-color);\n",
       "    border-color: transparent;\n",
       "    border-bottom-color: var(--fill-color);\n",
       "    animation:\n",
       "      spin 1s steps(1) infinite;\n",
       "  }\n",
       "\n",
       "  @keyframes spin {\n",
       "    0% {\n",
       "      border-color: transparent;\n",
       "      border-bottom-color: var(--fill-color);\n",
       "      border-left-color: var(--fill-color);\n",
       "    }\n",
       "    20% {\n",
       "      border-color: transparent;\n",
       "      border-left-color: var(--fill-color);\n",
       "      border-top-color: var(--fill-color);\n",
       "    }\n",
       "    30% {\n",
       "      border-color: transparent;\n",
       "      border-left-color: var(--fill-color);\n",
       "      border-top-color: var(--fill-color);\n",
       "      border-right-color: var(--fill-color);\n",
       "    }\n",
       "    40% {\n",
       "      border-color: transparent;\n",
       "      border-right-color: var(--fill-color);\n",
       "      border-top-color: var(--fill-color);\n",
       "    }\n",
       "    60% {\n",
       "      border-color: transparent;\n",
       "      border-right-color: var(--fill-color);\n",
       "    }\n",
       "    80% {\n",
       "      border-color: transparent;\n",
       "      border-right-color: var(--fill-color);\n",
       "      border-bottom-color: var(--fill-color);\n",
       "    }\n",
       "    90% {\n",
       "      border-color: transparent;\n",
       "      border-bottom-color: var(--fill-color);\n",
       "    }\n",
       "  }\n",
       "</style>\n",
       "\n",
       "      <script>\n",
       "        async function quickchart(key) {\n",
       "          const quickchartButtonEl =\n",
       "            document.querySelector('#' + key + ' button');\n",
       "          quickchartButtonEl.disabled = true;  // To prevent multiple clicks.\n",
       "          quickchartButtonEl.classList.add('colab-df-spinner');\n",
       "          try {\n",
       "            const charts = await google.colab.kernel.invokeFunction(\n",
       "                'suggestCharts', [key], {});\n",
       "          } catch (error) {\n",
       "            console.error('Error during call to suggestCharts:', error);\n",
       "          }\n",
       "          quickchartButtonEl.classList.remove('colab-df-spinner');\n",
       "          quickchartButtonEl.classList.add('colab-df-quickchart-complete');\n",
       "        }\n",
       "        (() => {\n",
       "          let quickchartButtonEl =\n",
       "            document.querySelector('#df-e74c8b5b-a328-4e72-aa71-5e63b1a508d2 button');\n",
       "          quickchartButtonEl.style.display =\n",
       "            google.colab.kernel.accessAllowed ? 'block' : 'none';\n",
       "        })();\n",
       "      </script>\n",
       "    </div>\n",
       "\n",
       "  <div id=\"id_59f0f294-5f83-4c3d-b636-3eeb6c49e1b5\">\n",
       "    <style>\n",
       "      .colab-df-generate {\n",
       "        background-color: #E8F0FE;\n",
       "        border: none;\n",
       "        border-radius: 50%;\n",
       "        cursor: pointer;\n",
       "        display: none;\n",
       "        fill: #1967D2;\n",
       "        height: 32px;\n",
       "        padding: 0 0 0 0;\n",
       "        width: 32px;\n",
       "      }\n",
       "\n",
       "      .colab-df-generate:hover {\n",
       "        background-color: #E2EBFA;\n",
       "        box-shadow: 0px 1px 2px rgba(60, 64, 67, 0.3), 0px 1px 3px 1px rgba(60, 64, 67, 0.15);\n",
       "        fill: #174EA6;\n",
       "      }\n",
       "\n",
       "      [theme=dark] .colab-df-generate {\n",
       "        background-color: #3B4455;\n",
       "        fill: #D2E3FC;\n",
       "      }\n",
       "\n",
       "      [theme=dark] .colab-df-generate:hover {\n",
       "        background-color: #434B5C;\n",
       "        box-shadow: 0px 1px 3px 1px rgba(0, 0, 0, 0.15);\n",
       "        filter: drop-shadow(0px 1px 2px rgba(0, 0, 0, 0.3));\n",
       "        fill: #FFFFFF;\n",
       "      }\n",
       "    </style>\n",
       "    <button class=\"colab-df-generate\" onclick=\"generateWithVariable('df1')\"\n",
       "            title=\"Generate code using this dataframe.\"\n",
       "            style=\"display:none;\">\n",
       "\n",
       "  <svg xmlns=\"http://www.w3.org/2000/svg\" height=\"24px\"viewBox=\"0 0 24 24\"\n",
       "       width=\"24px\">\n",
       "    <path d=\"M7,19H8.4L18.45,9,17,7.55,7,17.6ZM5,21V16.75L18.45,3.32a2,2,0,0,1,2.83,0l1.4,1.43a1.91,1.91,0,0,1,.58,1.4,1.91,1.91,0,0,1-.58,1.4L9.25,21ZM18.45,9,17,7.55Zm-12,3A5.31,5.31,0,0,0,4.9,8.1,5.31,5.31,0,0,0,1,6.5,5.31,5.31,0,0,0,4.9,4.9,5.31,5.31,0,0,0,6.5,1,5.31,5.31,0,0,0,8.1,4.9,5.31,5.31,0,0,0,12,6.5,5.46,5.46,0,0,0,6.5,12Z\"/>\n",
       "  </svg>\n",
       "    </button>\n",
       "    <script>\n",
       "      (() => {\n",
       "      const buttonEl =\n",
       "        document.querySelector('#id_59f0f294-5f83-4c3d-b636-3eeb6c49e1b5 button.colab-df-generate');\n",
       "      buttonEl.style.display =\n",
       "        google.colab.kernel.accessAllowed ? 'block' : 'none';\n",
       "\n",
       "      buttonEl.onclick = () => {\n",
       "        google.colab.notebook.generateWithVariable('df1');\n",
       "      }\n",
       "      })();\n",
       "    </script>\n",
       "  </div>\n",
       "\n",
       "    </div>\n",
       "  </div>\n"
      ],
      "text/plain": [
       "     A    B   C    D\n",
       "0  NaN  2.0 NaN  0.0\n",
       "1  3.0  4.0 NaN  1.0\n",
       "2  NaN  NaN NaN  NaN\n",
       "3  NaN  3.0 NaN  4.0"
      ]
     },
     "execution_count": 8,
     "metadata": {},
     "output_type": "execute_result"
    }
   ],
   "source": [
    "import numpy as np\n",
    "\n",
    "df1 = pd.DataFrame([[np.nan, 2, np.nan, 0],\n",
    "                    [3, 4, np.nan, 1],\n",
    "                    [np.nan, np.nan, np.nan, np.nan],\n",
    "                    [np.nan, 3, np.nan, 4]],\n",
    "                    columns=list(\"ABCD\"))\n",
    "df1"
   ]
  },
  {
   "cell_type": "code",
   "execution_count": 9,
   "id": "xuu2vECrmz5w",
   "metadata": {
    "colab": {
     "base_uri": "https://localhost:8080/",
     "height": 175
    },
    "executionInfo": {
     "elapsed": 87,
     "status": "ok",
     "timestamp": 1753433823819,
     "user": {
      "displayName": "Varun",
      "userId": "17764854446808172797"
     },
     "user_tz": -330
    },
    "id": "xuu2vECrmz5w",
    "outputId": "555ded9e-5d9a-4606-fbab-08e79ec4d295"
   },
   "outputs": [
    {
     "data": {
      "application/vnd.google.colaboratory.intrinsic+json": {
       "summary": "{\n  \"name\": \"df1\",\n  \"rows\": 4,\n  \"fields\": [\n    {\n      \"column\": \"A\",\n      \"properties\": {\n        \"dtype\": \"number\",\n        \"std\": 0.0,\n        \"min\": 3.0,\n        \"max\": 3.0,\n        \"num_unique_values\": 1,\n        \"samples\": [\n          3.0\n        ],\n        \"semantic_type\": \"\",\n        \"description\": \"\"\n      }\n    },\n    {\n      \"column\": \"B\",\n      \"properties\": {\n        \"dtype\": \"number\",\n        \"std\": 0.9574271077563381,\n        \"min\": 2.0,\n        \"max\": 4.0,\n        \"num_unique_values\": 3,\n        \"samples\": [\n          2.0\n        ],\n        \"semantic_type\": \"\",\n        \"description\": \"\"\n      }\n    },\n    {\n      \"column\": \"C\",\n      \"properties\": {\n        \"dtype\": \"number\",\n        \"std\": null,\n        \"min\": null,\n        \"max\": null,\n        \"num_unique_values\": 0,\n        \"samples\": [],\n        \"semantic_type\": \"\",\n        \"description\": \"\"\n      }\n    },\n    {\n      \"column\": \"D\",\n      \"properties\": {\n        \"dtype\": \"number\",\n        \"std\": 1.7320508075688772,\n        \"min\": 0.0,\n        \"max\": 4.0,\n        \"num_unique_values\": 3,\n        \"samples\": [],\n        \"semantic_type\": \"\",\n        \"description\": \"\"\n      }\n    }\n  ]\n}",
       "type": "dataframe"
      },
      "text/html": [
       "\n",
       "  <div id=\"df-5eb78cde-1fe3-400c-9cae-de99147a6562\" class=\"colab-df-container\">\n",
       "    <div>\n",
       "<style scoped>\n",
       "    .dataframe tbody tr th:only-of-type {\n",
       "        vertical-align: middle;\n",
       "    }\n",
       "\n",
       "    .dataframe tbody tr th {\n",
       "        vertical-align: top;\n",
       "    }\n",
       "\n",
       "    .dataframe thead th {\n",
       "        text-align: right;\n",
       "    }\n",
       "</style>\n",
       "<table border=\"1\" class=\"dataframe\">\n",
       "  <thead>\n",
       "    <tr style=\"text-align: right;\">\n",
       "      <th></th>\n",
       "      <th>A</th>\n",
       "      <th>B</th>\n",
       "      <th>C</th>\n",
       "      <th>D</th>\n",
       "    </tr>\n",
       "  </thead>\n",
       "  <tbody>\n",
       "    <tr>\n",
       "      <th>0</th>\n",
       "      <td>NaN</td>\n",
       "      <td>2.0</td>\n",
       "      <td>NaN</td>\n",
       "      <td>0.0</td>\n",
       "    </tr>\n",
       "    <tr>\n",
       "      <th>1</th>\n",
       "      <td>3.0</td>\n",
       "      <td>4.0</td>\n",
       "      <td>NaN</td>\n",
       "      <td>1.0</td>\n",
       "    </tr>\n",
       "    <tr>\n",
       "      <th>2</th>\n",
       "      <td>3.0</td>\n",
       "      <td>4.0</td>\n",
       "      <td>NaN</td>\n",
       "      <td>1.0</td>\n",
       "    </tr>\n",
       "    <tr>\n",
       "      <th>3</th>\n",
       "      <td>3.0</td>\n",
       "      <td>3.0</td>\n",
       "      <td>NaN</td>\n",
       "      <td>4.0</td>\n",
       "    </tr>\n",
       "  </tbody>\n",
       "</table>\n",
       "</div>\n",
       "    <div class=\"colab-df-buttons\">\n",
       "\n",
       "  <div class=\"colab-df-container\">\n",
       "    <button class=\"colab-df-convert\" onclick=\"convertToInteractive('df-5eb78cde-1fe3-400c-9cae-de99147a6562')\"\n",
       "            title=\"Convert this dataframe to an interactive table.\"\n",
       "            style=\"display:none;\">\n",
       "\n",
       "  <svg xmlns=\"http://www.w3.org/2000/svg\" height=\"24px\" viewBox=\"0 -960 960 960\">\n",
       "    <path d=\"M120-120v-720h720v720H120Zm60-500h600v-160H180v160Zm220 220h160v-160H400v160Zm0 220h160v-160H400v160ZM180-400h160v-160H180v160Zm440 0h160v-160H620v160ZM180-180h160v-160H180v160Zm440 0h160v-160H620v160Z\"/>\n",
       "  </svg>\n",
       "    </button>\n",
       "\n",
       "  <style>\n",
       "    .colab-df-container {\n",
       "      display:flex;\n",
       "      gap: 12px;\n",
       "    }\n",
       "\n",
       "    .colab-df-convert {\n",
       "      background-color: #E8F0FE;\n",
       "      border: none;\n",
       "      border-radius: 50%;\n",
       "      cursor: pointer;\n",
       "      display: none;\n",
       "      fill: #1967D2;\n",
       "      height: 32px;\n",
       "      padding: 0 0 0 0;\n",
       "      width: 32px;\n",
       "    }\n",
       "\n",
       "    .colab-df-convert:hover {\n",
       "      background-color: #E2EBFA;\n",
       "      box-shadow: 0px 1px 2px rgba(60, 64, 67, 0.3), 0px 1px 3px 1px rgba(60, 64, 67, 0.15);\n",
       "      fill: #174EA6;\n",
       "    }\n",
       "\n",
       "    .colab-df-buttons div {\n",
       "      margin-bottom: 4px;\n",
       "    }\n",
       "\n",
       "    [theme=dark] .colab-df-convert {\n",
       "      background-color: #3B4455;\n",
       "      fill: #D2E3FC;\n",
       "    }\n",
       "\n",
       "    [theme=dark] .colab-df-convert:hover {\n",
       "      background-color: #434B5C;\n",
       "      box-shadow: 0px 1px 3px 1px rgba(0, 0, 0, 0.15);\n",
       "      filter: drop-shadow(0px 1px 2px rgba(0, 0, 0, 0.3));\n",
       "      fill: #FFFFFF;\n",
       "    }\n",
       "  </style>\n",
       "\n",
       "    <script>\n",
       "      const buttonEl =\n",
       "        document.querySelector('#df-5eb78cde-1fe3-400c-9cae-de99147a6562 button.colab-df-convert');\n",
       "      buttonEl.style.display =\n",
       "        google.colab.kernel.accessAllowed ? 'block' : 'none';\n",
       "\n",
       "      async function convertToInteractive(key) {\n",
       "        const element = document.querySelector('#df-5eb78cde-1fe3-400c-9cae-de99147a6562');\n",
       "        const dataTable =\n",
       "          await google.colab.kernel.invokeFunction('convertToInteractive',\n",
       "                                                    [key], {});\n",
       "        if (!dataTable) return;\n",
       "\n",
       "        const docLinkHtml = 'Like what you see? Visit the ' +\n",
       "          '<a target=\"_blank\" href=https://colab.research.google.com/notebooks/data_table.ipynb>data table notebook</a>'\n",
       "          + ' to learn more about interactive tables.';\n",
       "        element.innerHTML = '';\n",
       "        dataTable['output_type'] = 'display_data';\n",
       "        await google.colab.output.renderOutput(dataTable, element);\n",
       "        const docLink = document.createElement('div');\n",
       "        docLink.innerHTML = docLinkHtml;\n",
       "        element.appendChild(docLink);\n",
       "      }\n",
       "    </script>\n",
       "  </div>\n",
       "\n",
       "\n",
       "    <div id=\"df-1cbfefde-6bee-49ed-8383-eaf1ce4f5da0\">\n",
       "      <button class=\"colab-df-quickchart\" onclick=\"quickchart('df-1cbfefde-6bee-49ed-8383-eaf1ce4f5da0')\"\n",
       "                title=\"Suggest charts\"\n",
       "                style=\"display:none;\">\n",
       "\n",
       "<svg xmlns=\"http://www.w3.org/2000/svg\" height=\"24px\"viewBox=\"0 0 24 24\"\n",
       "     width=\"24px\">\n",
       "    <g>\n",
       "        <path d=\"M19 3H5c-1.1 0-2 .9-2 2v14c0 1.1.9 2 2 2h14c1.1 0 2-.9 2-2V5c0-1.1-.9-2-2-2zM9 17H7v-7h2v7zm4 0h-2V7h2v10zm4 0h-2v-4h2v4z\"/>\n",
       "    </g>\n",
       "</svg>\n",
       "      </button>\n",
       "\n",
       "<style>\n",
       "  .colab-df-quickchart {\n",
       "      --bg-color: #E8F0FE;\n",
       "      --fill-color: #1967D2;\n",
       "      --hover-bg-color: #E2EBFA;\n",
       "      --hover-fill-color: #174EA6;\n",
       "      --disabled-fill-color: #AAA;\n",
       "      --disabled-bg-color: #DDD;\n",
       "  }\n",
       "\n",
       "  [theme=dark] .colab-df-quickchart {\n",
       "      --bg-color: #3B4455;\n",
       "      --fill-color: #D2E3FC;\n",
       "      --hover-bg-color: #434B5C;\n",
       "      --hover-fill-color: #FFFFFF;\n",
       "      --disabled-bg-color: #3B4455;\n",
       "      --disabled-fill-color: #666;\n",
       "  }\n",
       "\n",
       "  .colab-df-quickchart {\n",
       "    background-color: var(--bg-color);\n",
       "    border: none;\n",
       "    border-radius: 50%;\n",
       "    cursor: pointer;\n",
       "    display: none;\n",
       "    fill: var(--fill-color);\n",
       "    height: 32px;\n",
       "    padding: 0;\n",
       "    width: 32px;\n",
       "  }\n",
       "\n",
       "  .colab-df-quickchart:hover {\n",
       "    background-color: var(--hover-bg-color);\n",
       "    box-shadow: 0 1px 2px rgba(60, 64, 67, 0.3), 0 1px 3px 1px rgba(60, 64, 67, 0.15);\n",
       "    fill: var(--button-hover-fill-color);\n",
       "  }\n",
       "\n",
       "  .colab-df-quickchart-complete:disabled,\n",
       "  .colab-df-quickchart-complete:disabled:hover {\n",
       "    background-color: var(--disabled-bg-color);\n",
       "    fill: var(--disabled-fill-color);\n",
       "    box-shadow: none;\n",
       "  }\n",
       "\n",
       "  .colab-df-spinner {\n",
       "    border: 2px solid var(--fill-color);\n",
       "    border-color: transparent;\n",
       "    border-bottom-color: var(--fill-color);\n",
       "    animation:\n",
       "      spin 1s steps(1) infinite;\n",
       "  }\n",
       "\n",
       "  @keyframes spin {\n",
       "    0% {\n",
       "      border-color: transparent;\n",
       "      border-bottom-color: var(--fill-color);\n",
       "      border-left-color: var(--fill-color);\n",
       "    }\n",
       "    20% {\n",
       "      border-color: transparent;\n",
       "      border-left-color: var(--fill-color);\n",
       "      border-top-color: var(--fill-color);\n",
       "    }\n",
       "    30% {\n",
       "      border-color: transparent;\n",
       "      border-left-color: var(--fill-color);\n",
       "      border-top-color: var(--fill-color);\n",
       "      border-right-color: var(--fill-color);\n",
       "    }\n",
       "    40% {\n",
       "      border-color: transparent;\n",
       "      border-right-color: var(--fill-color);\n",
       "      border-top-color: var(--fill-color);\n",
       "    }\n",
       "    60% {\n",
       "      border-color: transparent;\n",
       "      border-right-color: var(--fill-color);\n",
       "    }\n",
       "    80% {\n",
       "      border-color: transparent;\n",
       "      border-right-color: var(--fill-color);\n",
       "      border-bottom-color: var(--fill-color);\n",
       "    }\n",
       "    90% {\n",
       "      border-color: transparent;\n",
       "      border-bottom-color: var(--fill-color);\n",
       "    }\n",
       "  }\n",
       "</style>\n",
       "\n",
       "      <script>\n",
       "        async function quickchart(key) {\n",
       "          const quickchartButtonEl =\n",
       "            document.querySelector('#' + key + ' button');\n",
       "          quickchartButtonEl.disabled = true;  // To prevent multiple clicks.\n",
       "          quickchartButtonEl.classList.add('colab-df-spinner');\n",
       "          try {\n",
       "            const charts = await google.colab.kernel.invokeFunction(\n",
       "                'suggestCharts', [key], {});\n",
       "          } catch (error) {\n",
       "            console.error('Error during call to suggestCharts:', error);\n",
       "          }\n",
       "          quickchartButtonEl.classList.remove('colab-df-spinner');\n",
       "          quickchartButtonEl.classList.add('colab-df-quickchart-complete');\n",
       "        }\n",
       "        (() => {\n",
       "          let quickchartButtonEl =\n",
       "            document.querySelector('#df-1cbfefde-6bee-49ed-8383-eaf1ce4f5da0 button');\n",
       "          quickchartButtonEl.style.display =\n",
       "            google.colab.kernel.accessAllowed ? 'block' : 'none';\n",
       "        })();\n",
       "      </script>\n",
       "    </div>\n",
       "\n",
       "    </div>\n",
       "  </div>\n"
      ],
      "text/plain": [
       "     A    B   C    D\n",
       "0  NaN  2.0 NaN  0.0\n",
       "1  3.0  4.0 NaN  1.0\n",
       "2  3.0  4.0 NaN  1.0\n",
       "3  3.0  3.0 NaN  4.0"
      ]
     },
     "execution_count": 9,
     "metadata": {},
     "output_type": "execute_result"
    }
   ],
   "source": [
    "df1.ffill()"
   ]
  },
  {
   "cell_type": "code",
   "execution_count": 11,
   "id": "cez0NVetl6ES",
   "metadata": {
    "colab": {
     "base_uri": "https://localhost:8080/",
     "height": 175
    },
    "executionInfo": {
     "elapsed": 77,
     "status": "ok",
     "timestamp": 1753433823962,
     "user": {
      "displayName": "Varun",
      "userId": "17764854446808172797"
     },
     "user_tz": -330
    },
    "id": "cez0NVetl6ES",
    "outputId": "54743611-362a-4ff6-e550-ba8011c77c97"
   },
   "outputs": [
    {
     "data": {
      "application/vnd.google.colaboratory.intrinsic+json": {
       "summary": "{\n  \"name\": \"df1\",\n  \"rows\": 4,\n  \"fields\": [\n    {\n      \"column\": \"A\",\n      \"properties\": {\n        \"dtype\": \"number\",\n        \"std\": 2.1213203435596424,\n        \"min\": 1.0,\n        \"max\": 4.0,\n        \"num_unique_values\": 2,\n        \"samples\": [\n          4.0,\n          1.0\n        ],\n        \"semantic_type\": \"\",\n        \"description\": \"\"\n      }\n    },\n    {\n      \"column\": \"B\",\n      \"properties\": {\n        \"dtype\": \"number\",\n        \"std\": 1.4142135623730951,\n        \"min\": 5.0,\n        \"max\": 7.0,\n        \"num_unique_values\": 2,\n        \"samples\": [\n          7.0,\n          5.0\n        ],\n        \"semantic_type\": \"\",\n        \"description\": \"\"\n      }\n    }\n  ]\n}",
       "type": "dataframe",
       "variable_name": "df1"
      },
      "text/html": [
       "\n",
       "  <div id=\"df-3773c2e6-6a21-4a24-a3a9-1798c4adbe77\" class=\"colab-df-container\">\n",
       "    <div>\n",
       "<style scoped>\n",
       "    .dataframe tbody tr th:only-of-type {\n",
       "        vertical-align: middle;\n",
       "    }\n",
       "\n",
       "    .dataframe tbody tr th {\n",
       "        vertical-align: top;\n",
       "    }\n",
       "\n",
       "    .dataframe thead th {\n",
       "        text-align: right;\n",
       "    }\n",
       "</style>\n",
       "<table border=\"1\" class=\"dataframe\">\n",
       "  <thead>\n",
       "    <tr style=\"text-align: right;\">\n",
       "      <th></th>\n",
       "      <th>A</th>\n",
       "      <th>B</th>\n",
       "    </tr>\n",
       "  </thead>\n",
       "  <tbody>\n",
       "    <tr>\n",
       "      <th>0</th>\n",
       "      <td>1.0</td>\n",
       "      <td>NaN</td>\n",
       "    </tr>\n",
       "    <tr>\n",
       "      <th>1</th>\n",
       "      <td>NaN</td>\n",
       "      <td>5.0</td>\n",
       "    </tr>\n",
       "    <tr>\n",
       "      <th>2</th>\n",
       "      <td>NaN</td>\n",
       "      <td>NaN</td>\n",
       "    </tr>\n",
       "    <tr>\n",
       "      <th>3</th>\n",
       "      <td>4.0</td>\n",
       "      <td>7.0</td>\n",
       "    </tr>\n",
       "  </tbody>\n",
       "</table>\n",
       "</div>\n",
       "    <div class=\"colab-df-buttons\">\n",
       "\n",
       "  <div class=\"colab-df-container\">\n",
       "    <button class=\"colab-df-convert\" onclick=\"convertToInteractive('df-3773c2e6-6a21-4a24-a3a9-1798c4adbe77')\"\n",
       "            title=\"Convert this dataframe to an interactive table.\"\n",
       "            style=\"display:none;\">\n",
       "\n",
       "  <svg xmlns=\"http://www.w3.org/2000/svg\" height=\"24px\" viewBox=\"0 -960 960 960\">\n",
       "    <path d=\"M120-120v-720h720v720H120Zm60-500h600v-160H180v160Zm220 220h160v-160H400v160Zm0 220h160v-160H400v160ZM180-400h160v-160H180v160Zm440 0h160v-160H620v160ZM180-180h160v-160H180v160Zm440 0h160v-160H620v160Z\"/>\n",
       "  </svg>\n",
       "    </button>\n",
       "\n",
       "  <style>\n",
       "    .colab-df-container {\n",
       "      display:flex;\n",
       "      gap: 12px;\n",
       "    }\n",
       "\n",
       "    .colab-df-convert {\n",
       "      background-color: #E8F0FE;\n",
       "      border: none;\n",
       "      border-radius: 50%;\n",
       "      cursor: pointer;\n",
       "      display: none;\n",
       "      fill: #1967D2;\n",
       "      height: 32px;\n",
       "      padding: 0 0 0 0;\n",
       "      width: 32px;\n",
       "    }\n",
       "\n",
       "    .colab-df-convert:hover {\n",
       "      background-color: #E2EBFA;\n",
       "      box-shadow: 0px 1px 2px rgba(60, 64, 67, 0.3), 0px 1px 3px 1px rgba(60, 64, 67, 0.15);\n",
       "      fill: #174EA6;\n",
       "    }\n",
       "\n",
       "    .colab-df-buttons div {\n",
       "      margin-bottom: 4px;\n",
       "    }\n",
       "\n",
       "    [theme=dark] .colab-df-convert {\n",
       "      background-color: #3B4455;\n",
       "      fill: #D2E3FC;\n",
       "    }\n",
       "\n",
       "    [theme=dark] .colab-df-convert:hover {\n",
       "      background-color: #434B5C;\n",
       "      box-shadow: 0px 1px 3px 1px rgba(0, 0, 0, 0.15);\n",
       "      filter: drop-shadow(0px 1px 2px rgba(0, 0, 0, 0.3));\n",
       "      fill: #FFFFFF;\n",
       "    }\n",
       "  </style>\n",
       "\n",
       "    <script>\n",
       "      const buttonEl =\n",
       "        document.querySelector('#df-3773c2e6-6a21-4a24-a3a9-1798c4adbe77 button.colab-df-convert');\n",
       "      buttonEl.style.display =\n",
       "        google.colab.kernel.accessAllowed ? 'block' : 'none';\n",
       "\n",
       "      async function convertToInteractive(key) {\n",
       "        const element = document.querySelector('#df-3773c2e6-6a21-4a24-a3a9-1798c4adbe77');\n",
       "        const dataTable =\n",
       "          await google.colab.kernel.invokeFunction('convertToInteractive',\n",
       "                                                    [key], {});\n",
       "        if (!dataTable) return;\n",
       "\n",
       "        const docLinkHtml = 'Like what you see? Visit the ' +\n",
       "          '<a target=\"_blank\" href=https://colab.research.google.com/notebooks/data_table.ipynb>data table notebook</a>'\n",
       "          + ' to learn more about interactive tables.';\n",
       "        element.innerHTML = '';\n",
       "        dataTable['output_type'] = 'display_data';\n",
       "        await google.colab.output.renderOutput(dataTable, element);\n",
       "        const docLink = document.createElement('div');\n",
       "        docLink.innerHTML = docLinkHtml;\n",
       "        element.appendChild(docLink);\n",
       "      }\n",
       "    </script>\n",
       "  </div>\n",
       "\n",
       "\n",
       "    <div id=\"df-1fa634ae-82e7-4a2b-9a34-925e35096048\">\n",
       "      <button class=\"colab-df-quickchart\" onclick=\"quickchart('df-1fa634ae-82e7-4a2b-9a34-925e35096048')\"\n",
       "                title=\"Suggest charts\"\n",
       "                style=\"display:none;\">\n",
       "\n",
       "<svg xmlns=\"http://www.w3.org/2000/svg\" height=\"24px\"viewBox=\"0 0 24 24\"\n",
       "     width=\"24px\">\n",
       "    <g>\n",
       "        <path d=\"M19 3H5c-1.1 0-2 .9-2 2v14c0 1.1.9 2 2 2h14c1.1 0 2-.9 2-2V5c0-1.1-.9-2-2-2zM9 17H7v-7h2v7zm4 0h-2V7h2v10zm4 0h-2v-4h2v4z\"/>\n",
       "    </g>\n",
       "</svg>\n",
       "      </button>\n",
       "\n",
       "<style>\n",
       "  .colab-df-quickchart {\n",
       "      --bg-color: #E8F0FE;\n",
       "      --fill-color: #1967D2;\n",
       "      --hover-bg-color: #E2EBFA;\n",
       "      --hover-fill-color: #174EA6;\n",
       "      --disabled-fill-color: #AAA;\n",
       "      --disabled-bg-color: #DDD;\n",
       "  }\n",
       "\n",
       "  [theme=dark] .colab-df-quickchart {\n",
       "      --bg-color: #3B4455;\n",
       "      --fill-color: #D2E3FC;\n",
       "      --hover-bg-color: #434B5C;\n",
       "      --hover-fill-color: #FFFFFF;\n",
       "      --disabled-bg-color: #3B4455;\n",
       "      --disabled-fill-color: #666;\n",
       "  }\n",
       "\n",
       "  .colab-df-quickchart {\n",
       "    background-color: var(--bg-color);\n",
       "    border: none;\n",
       "    border-radius: 50%;\n",
       "    cursor: pointer;\n",
       "    display: none;\n",
       "    fill: var(--fill-color);\n",
       "    height: 32px;\n",
       "    padding: 0;\n",
       "    width: 32px;\n",
       "  }\n",
       "\n",
       "  .colab-df-quickchart:hover {\n",
       "    background-color: var(--hover-bg-color);\n",
       "    box-shadow: 0 1px 2px rgba(60, 64, 67, 0.3), 0 1px 3px 1px rgba(60, 64, 67, 0.15);\n",
       "    fill: var(--button-hover-fill-color);\n",
       "  }\n",
       "\n",
       "  .colab-df-quickchart-complete:disabled,\n",
       "  .colab-df-quickchart-complete:disabled:hover {\n",
       "    background-color: var(--disabled-bg-color);\n",
       "    fill: var(--disabled-fill-color);\n",
       "    box-shadow: none;\n",
       "  }\n",
       "\n",
       "  .colab-df-spinner {\n",
       "    border: 2px solid var(--fill-color);\n",
       "    border-color: transparent;\n",
       "    border-bottom-color: var(--fill-color);\n",
       "    animation:\n",
       "      spin 1s steps(1) infinite;\n",
       "  }\n",
       "\n",
       "  @keyframes spin {\n",
       "    0% {\n",
       "      border-color: transparent;\n",
       "      border-bottom-color: var(--fill-color);\n",
       "      border-left-color: var(--fill-color);\n",
       "    }\n",
       "    20% {\n",
       "      border-color: transparent;\n",
       "      border-left-color: var(--fill-color);\n",
       "      border-top-color: var(--fill-color);\n",
       "    }\n",
       "    30% {\n",
       "      border-color: transparent;\n",
       "      border-left-color: var(--fill-color);\n",
       "      border-top-color: var(--fill-color);\n",
       "      border-right-color: var(--fill-color);\n",
       "    }\n",
       "    40% {\n",
       "      border-color: transparent;\n",
       "      border-right-color: var(--fill-color);\n",
       "      border-top-color: var(--fill-color);\n",
       "    }\n",
       "    60% {\n",
       "      border-color: transparent;\n",
       "      border-right-color: var(--fill-color);\n",
       "    }\n",
       "    80% {\n",
       "      border-color: transparent;\n",
       "      border-right-color: var(--fill-color);\n",
       "      border-bottom-color: var(--fill-color);\n",
       "    }\n",
       "    90% {\n",
       "      border-color: transparent;\n",
       "      border-bottom-color: var(--fill-color);\n",
       "    }\n",
       "  }\n",
       "</style>\n",
       "\n",
       "      <script>\n",
       "        async function quickchart(key) {\n",
       "          const quickchartButtonEl =\n",
       "            document.querySelector('#' + key + ' button');\n",
       "          quickchartButtonEl.disabled = true;  // To prevent multiple clicks.\n",
       "          quickchartButtonEl.classList.add('colab-df-spinner');\n",
       "          try {\n",
       "            const charts = await google.colab.kernel.invokeFunction(\n",
       "                'suggestCharts', [key], {});\n",
       "          } catch (error) {\n",
       "            console.error('Error during call to suggestCharts:', error);\n",
       "          }\n",
       "          quickchartButtonEl.classList.remove('colab-df-spinner');\n",
       "          quickchartButtonEl.classList.add('colab-df-quickchart-complete');\n",
       "        }\n",
       "        (() => {\n",
       "          let quickchartButtonEl =\n",
       "            document.querySelector('#df-1fa634ae-82e7-4a2b-9a34-925e35096048 button');\n",
       "          quickchartButtonEl.style.display =\n",
       "            google.colab.kernel.accessAllowed ? 'block' : 'none';\n",
       "        })();\n",
       "      </script>\n",
       "    </div>\n",
       "\n",
       "  <div id=\"id_7361135d-5b60-4279-838c-c279801b7acf\">\n",
       "    <style>\n",
       "      .colab-df-generate {\n",
       "        background-color: #E8F0FE;\n",
       "        border: none;\n",
       "        border-radius: 50%;\n",
       "        cursor: pointer;\n",
       "        display: none;\n",
       "        fill: #1967D2;\n",
       "        height: 32px;\n",
       "        padding: 0 0 0 0;\n",
       "        width: 32px;\n",
       "      }\n",
       "\n",
       "      .colab-df-generate:hover {\n",
       "        background-color: #E2EBFA;\n",
       "        box-shadow: 0px 1px 2px rgba(60, 64, 67, 0.3), 0px 1px 3px 1px rgba(60, 64, 67, 0.15);\n",
       "        fill: #174EA6;\n",
       "      }\n",
       "\n",
       "      [theme=dark] .colab-df-generate {\n",
       "        background-color: #3B4455;\n",
       "        fill: #D2E3FC;\n",
       "      }\n",
       "\n",
       "      [theme=dark] .colab-df-generate:hover {\n",
       "        background-color: #434B5C;\n",
       "        box-shadow: 0px 1px 3px 1px rgba(0, 0, 0, 0.15);\n",
       "        filter: drop-shadow(0px 1px 2px rgba(0, 0, 0, 0.3));\n",
       "        fill: #FFFFFF;\n",
       "      }\n",
       "    </style>\n",
       "    <button class=\"colab-df-generate\" onclick=\"generateWithVariable('df1')\"\n",
       "            title=\"Generate code using this dataframe.\"\n",
       "            style=\"display:none;\">\n",
       "\n",
       "  <svg xmlns=\"http://www.w3.org/2000/svg\" height=\"24px\"viewBox=\"0 0 24 24\"\n",
       "       width=\"24px\">\n",
       "    <path d=\"M7,19H8.4L18.45,9,17,7.55,7,17.6ZM5,21V16.75L18.45,3.32a2,2,0,0,1,2.83,0l1.4,1.43a1.91,1.91,0,0,1,.58,1.4,1.91,1.91,0,0,1-.58,1.4L9.25,21ZM18.45,9,17,7.55Zm-12,3A5.31,5.31,0,0,0,4.9,8.1,5.31,5.31,0,0,0,1,6.5,5.31,5.31,0,0,0,4.9,4.9,5.31,5.31,0,0,0,6.5,1,5.31,5.31,0,0,0,8.1,4.9,5.31,5.31,0,0,0,12,6.5,5.46,5.46,0,0,0,6.5,12Z\"/>\n",
       "  </svg>\n",
       "    </button>\n",
       "    <script>\n",
       "      (() => {\n",
       "      const buttonEl =\n",
       "        document.querySelector('#id_7361135d-5b60-4279-838c-c279801b7acf button.colab-df-generate');\n",
       "      buttonEl.style.display =\n",
       "        google.colab.kernel.accessAllowed ? 'block' : 'none';\n",
       "\n",
       "      buttonEl.onclick = () => {\n",
       "        google.colab.notebook.generateWithVariable('df1');\n",
       "      }\n",
       "      })();\n",
       "    </script>\n",
       "  </div>\n",
       "\n",
       "    </div>\n",
       "  </div>\n"
      ],
      "text/plain": [
       "     A    B\n",
       "0  1.0  NaN\n",
       "1  NaN  5.0\n",
       "2  NaN  NaN\n",
       "3  4.0  7.0"
      ]
     },
     "execution_count": 11,
     "metadata": {},
     "output_type": "execute_result"
    }
   ],
   "source": [
    "df1 = pd.DataFrame({'A': [1, None, None, 4], 'B': [None, 5, None, 7]})\n",
    "df1"
   ]
  },
  {
   "cell_type": "code",
   "execution_count": 12,
   "id": "X4S33KycmH8K",
   "metadata": {
    "colab": {
     "base_uri": "https://localhost:8080/",
     "height": 175
    },
    "executionInfo": {
     "elapsed": 6,
     "status": "ok",
     "timestamp": 1753433823963,
     "user": {
      "displayName": "Varun",
      "userId": "17764854446808172797"
     },
     "user_tz": -330
    },
    "id": "X4S33KycmH8K",
    "outputId": "ba75263c-0cb1-45a3-88a2-589967307dcc"
   },
   "outputs": [
    {
     "data": {
      "application/vnd.google.colaboratory.intrinsic+json": {
       "summary": "{\n  \"name\": \"df1\",\n  \"rows\": 4,\n  \"fields\": [\n    {\n      \"column\": \"A\",\n      \"properties\": {\n        \"dtype\": \"number\",\n        \"std\": 1.5,\n        \"min\": 1.0,\n        \"max\": 4.0,\n        \"num_unique_values\": 2,\n        \"samples\": [\n          4.0,\n          1.0\n        ],\n        \"semantic_type\": \"\",\n        \"description\": \"\"\n      }\n    },\n    {\n      \"column\": \"B\",\n      \"properties\": {\n        \"dtype\": \"number\",\n        \"std\": 1.1547005383792515,\n        \"min\": 5.0,\n        \"max\": 7.0,\n        \"num_unique_values\": 2,\n        \"samples\": [\n          7.0,\n          5.0\n        ],\n        \"semantic_type\": \"\",\n        \"description\": \"\"\n      }\n    }\n  ]\n}",
       "type": "dataframe"
      },
      "text/html": [
       "\n",
       "  <div id=\"df-5ba13f91-3aab-4f21-a335-63b35b32b3fc\" class=\"colab-df-container\">\n",
       "    <div>\n",
       "<style scoped>\n",
       "    .dataframe tbody tr th:only-of-type {\n",
       "        vertical-align: middle;\n",
       "    }\n",
       "\n",
       "    .dataframe tbody tr th {\n",
       "        vertical-align: top;\n",
       "    }\n",
       "\n",
       "    .dataframe thead th {\n",
       "        text-align: right;\n",
       "    }\n",
       "</style>\n",
       "<table border=\"1\" class=\"dataframe\">\n",
       "  <thead>\n",
       "    <tr style=\"text-align: right;\">\n",
       "      <th></th>\n",
       "      <th>A</th>\n",
       "      <th>B</th>\n",
       "    </tr>\n",
       "  </thead>\n",
       "  <tbody>\n",
       "    <tr>\n",
       "      <th>0</th>\n",
       "      <td>1.0</td>\n",
       "      <td>5.0</td>\n",
       "    </tr>\n",
       "    <tr>\n",
       "      <th>1</th>\n",
       "      <td>4.0</td>\n",
       "      <td>5.0</td>\n",
       "    </tr>\n",
       "    <tr>\n",
       "      <th>2</th>\n",
       "      <td>4.0</td>\n",
       "      <td>7.0</td>\n",
       "    </tr>\n",
       "    <tr>\n",
       "      <th>3</th>\n",
       "      <td>4.0</td>\n",
       "      <td>7.0</td>\n",
       "    </tr>\n",
       "  </tbody>\n",
       "</table>\n",
       "</div>\n",
       "    <div class=\"colab-df-buttons\">\n",
       "\n",
       "  <div class=\"colab-df-container\">\n",
       "    <button class=\"colab-df-convert\" onclick=\"convertToInteractive('df-5ba13f91-3aab-4f21-a335-63b35b32b3fc')\"\n",
       "            title=\"Convert this dataframe to an interactive table.\"\n",
       "            style=\"display:none;\">\n",
       "\n",
       "  <svg xmlns=\"http://www.w3.org/2000/svg\" height=\"24px\" viewBox=\"0 -960 960 960\">\n",
       "    <path d=\"M120-120v-720h720v720H120Zm60-500h600v-160H180v160Zm220 220h160v-160H400v160Zm0 220h160v-160H400v160ZM180-400h160v-160H180v160Zm440 0h160v-160H620v160ZM180-180h160v-160H180v160Zm440 0h160v-160H620v160Z\"/>\n",
       "  </svg>\n",
       "    </button>\n",
       "\n",
       "  <style>\n",
       "    .colab-df-container {\n",
       "      display:flex;\n",
       "      gap: 12px;\n",
       "    }\n",
       "\n",
       "    .colab-df-convert {\n",
       "      background-color: #E8F0FE;\n",
       "      border: none;\n",
       "      border-radius: 50%;\n",
       "      cursor: pointer;\n",
       "      display: none;\n",
       "      fill: #1967D2;\n",
       "      height: 32px;\n",
       "      padding: 0 0 0 0;\n",
       "      width: 32px;\n",
       "    }\n",
       "\n",
       "    .colab-df-convert:hover {\n",
       "      background-color: #E2EBFA;\n",
       "      box-shadow: 0px 1px 2px rgba(60, 64, 67, 0.3), 0px 1px 3px 1px rgba(60, 64, 67, 0.15);\n",
       "      fill: #174EA6;\n",
       "    }\n",
       "\n",
       "    .colab-df-buttons div {\n",
       "      margin-bottom: 4px;\n",
       "    }\n",
       "\n",
       "    [theme=dark] .colab-df-convert {\n",
       "      background-color: #3B4455;\n",
       "      fill: #D2E3FC;\n",
       "    }\n",
       "\n",
       "    [theme=dark] .colab-df-convert:hover {\n",
       "      background-color: #434B5C;\n",
       "      box-shadow: 0px 1px 3px 1px rgba(0, 0, 0, 0.15);\n",
       "      filter: drop-shadow(0px 1px 2px rgba(0, 0, 0, 0.3));\n",
       "      fill: #FFFFFF;\n",
       "    }\n",
       "  </style>\n",
       "\n",
       "    <script>\n",
       "      const buttonEl =\n",
       "        document.querySelector('#df-5ba13f91-3aab-4f21-a335-63b35b32b3fc button.colab-df-convert');\n",
       "      buttonEl.style.display =\n",
       "        google.colab.kernel.accessAllowed ? 'block' : 'none';\n",
       "\n",
       "      async function convertToInteractive(key) {\n",
       "        const element = document.querySelector('#df-5ba13f91-3aab-4f21-a335-63b35b32b3fc');\n",
       "        const dataTable =\n",
       "          await google.colab.kernel.invokeFunction('convertToInteractive',\n",
       "                                                    [key], {});\n",
       "        if (!dataTable) return;\n",
       "\n",
       "        const docLinkHtml = 'Like what you see? Visit the ' +\n",
       "          '<a target=\"_blank\" href=https://colab.research.google.com/notebooks/data_table.ipynb>data table notebook</a>'\n",
       "          + ' to learn more about interactive tables.';\n",
       "        element.innerHTML = '';\n",
       "        dataTable['output_type'] = 'display_data';\n",
       "        await google.colab.output.renderOutput(dataTable, element);\n",
       "        const docLink = document.createElement('div');\n",
       "        docLink.innerHTML = docLinkHtml;\n",
       "        element.appendChild(docLink);\n",
       "      }\n",
       "    </script>\n",
       "  </div>\n",
       "\n",
       "\n",
       "    <div id=\"df-5e8093a5-e9d2-4428-b8ce-4c6ed5f1c25a\">\n",
       "      <button class=\"colab-df-quickchart\" onclick=\"quickchart('df-5e8093a5-e9d2-4428-b8ce-4c6ed5f1c25a')\"\n",
       "                title=\"Suggest charts\"\n",
       "                style=\"display:none;\">\n",
       "\n",
       "<svg xmlns=\"http://www.w3.org/2000/svg\" height=\"24px\"viewBox=\"0 0 24 24\"\n",
       "     width=\"24px\">\n",
       "    <g>\n",
       "        <path d=\"M19 3H5c-1.1 0-2 .9-2 2v14c0 1.1.9 2 2 2h14c1.1 0 2-.9 2-2V5c0-1.1-.9-2-2-2zM9 17H7v-7h2v7zm4 0h-2V7h2v10zm4 0h-2v-4h2v4z\"/>\n",
       "    </g>\n",
       "</svg>\n",
       "      </button>\n",
       "\n",
       "<style>\n",
       "  .colab-df-quickchart {\n",
       "      --bg-color: #E8F0FE;\n",
       "      --fill-color: #1967D2;\n",
       "      --hover-bg-color: #E2EBFA;\n",
       "      --hover-fill-color: #174EA6;\n",
       "      --disabled-fill-color: #AAA;\n",
       "      --disabled-bg-color: #DDD;\n",
       "  }\n",
       "\n",
       "  [theme=dark] .colab-df-quickchart {\n",
       "      --bg-color: #3B4455;\n",
       "      --fill-color: #D2E3FC;\n",
       "      --hover-bg-color: #434B5C;\n",
       "      --hover-fill-color: #FFFFFF;\n",
       "      --disabled-bg-color: #3B4455;\n",
       "      --disabled-fill-color: #666;\n",
       "  }\n",
       "\n",
       "  .colab-df-quickchart {\n",
       "    background-color: var(--bg-color);\n",
       "    border: none;\n",
       "    border-radius: 50%;\n",
       "    cursor: pointer;\n",
       "    display: none;\n",
       "    fill: var(--fill-color);\n",
       "    height: 32px;\n",
       "    padding: 0;\n",
       "    width: 32px;\n",
       "  }\n",
       "\n",
       "  .colab-df-quickchart:hover {\n",
       "    background-color: var(--hover-bg-color);\n",
       "    box-shadow: 0 1px 2px rgba(60, 64, 67, 0.3), 0 1px 3px 1px rgba(60, 64, 67, 0.15);\n",
       "    fill: var(--button-hover-fill-color);\n",
       "  }\n",
       "\n",
       "  .colab-df-quickchart-complete:disabled,\n",
       "  .colab-df-quickchart-complete:disabled:hover {\n",
       "    background-color: var(--disabled-bg-color);\n",
       "    fill: var(--disabled-fill-color);\n",
       "    box-shadow: none;\n",
       "  }\n",
       "\n",
       "  .colab-df-spinner {\n",
       "    border: 2px solid var(--fill-color);\n",
       "    border-color: transparent;\n",
       "    border-bottom-color: var(--fill-color);\n",
       "    animation:\n",
       "      spin 1s steps(1) infinite;\n",
       "  }\n",
       "\n",
       "  @keyframes spin {\n",
       "    0% {\n",
       "      border-color: transparent;\n",
       "      border-bottom-color: var(--fill-color);\n",
       "      border-left-color: var(--fill-color);\n",
       "    }\n",
       "    20% {\n",
       "      border-color: transparent;\n",
       "      border-left-color: var(--fill-color);\n",
       "      border-top-color: var(--fill-color);\n",
       "    }\n",
       "    30% {\n",
       "      border-color: transparent;\n",
       "      border-left-color: var(--fill-color);\n",
       "      border-top-color: var(--fill-color);\n",
       "      border-right-color: var(--fill-color);\n",
       "    }\n",
       "    40% {\n",
       "      border-color: transparent;\n",
       "      border-right-color: var(--fill-color);\n",
       "      border-top-color: var(--fill-color);\n",
       "    }\n",
       "    60% {\n",
       "      border-color: transparent;\n",
       "      border-right-color: var(--fill-color);\n",
       "    }\n",
       "    80% {\n",
       "      border-color: transparent;\n",
       "      border-right-color: var(--fill-color);\n",
       "      border-bottom-color: var(--fill-color);\n",
       "    }\n",
       "    90% {\n",
       "      border-color: transparent;\n",
       "      border-bottom-color: var(--fill-color);\n",
       "    }\n",
       "  }\n",
       "</style>\n",
       "\n",
       "      <script>\n",
       "        async function quickchart(key) {\n",
       "          const quickchartButtonEl =\n",
       "            document.querySelector('#' + key + ' button');\n",
       "          quickchartButtonEl.disabled = true;  // To prevent multiple clicks.\n",
       "          quickchartButtonEl.classList.add('colab-df-spinner');\n",
       "          try {\n",
       "            const charts = await google.colab.kernel.invokeFunction(\n",
       "                'suggestCharts', [key], {});\n",
       "          } catch (error) {\n",
       "            console.error('Error during call to suggestCharts:', error);\n",
       "          }\n",
       "          quickchartButtonEl.classList.remove('colab-df-spinner');\n",
       "          quickchartButtonEl.classList.add('colab-df-quickchart-complete');\n",
       "        }\n",
       "        (() => {\n",
       "          let quickchartButtonEl =\n",
       "            document.querySelector('#df-5e8093a5-e9d2-4428-b8ce-4c6ed5f1c25a button');\n",
       "          quickchartButtonEl.style.display =\n",
       "            google.colab.kernel.accessAllowed ? 'block' : 'none';\n",
       "        })();\n",
       "      </script>\n",
       "    </div>\n",
       "\n",
       "    </div>\n",
       "  </div>\n"
      ],
      "text/plain": [
       "     A    B\n",
       "0  1.0  5.0\n",
       "1  4.0  5.0\n",
       "2  4.0  7.0\n",
       "3  4.0  7.0"
      ]
     },
     "execution_count": 12,
     "metadata": {},
     "output_type": "execute_result"
    }
   ],
   "source": [
    "df1.bfill()"
   ]
  },
  {
   "cell_type": "code",
   "execution_count": 13,
   "id": "20DLZ4sJmIdp",
   "metadata": {
    "colab": {
     "base_uri": "https://localhost:8080/",
     "height": 175
    },
    "executionInfo": {
     "elapsed": 82,
     "status": "ok",
     "timestamp": 1753433824045,
     "user": {
      "displayName": "Varun",
      "userId": "17764854446808172797"
     },
     "user_tz": -330
    },
    "id": "20DLZ4sJmIdp",
    "outputId": "d8878c73-3646-40a5-a3dd-d75ffb05f58e"
   },
   "outputs": [
    {
     "data": {
      "application/vnd.google.colaboratory.intrinsic+json": {
       "summary": "{\n  \"name\": \"df1\",\n  \"rows\": 4,\n  \"fields\": [\n    {\n      \"column\": \"A\",\n      \"properties\": {\n        \"dtype\": \"number\",\n        \"std\": 1.7320508075688772,\n        \"min\": 1.0,\n        \"max\": 4.0,\n        \"num_unique_values\": 2,\n        \"samples\": [\n          4.0,\n          1.0\n        ],\n        \"semantic_type\": \"\",\n        \"description\": \"\"\n      }\n    },\n    {\n      \"column\": \"B\",\n      \"properties\": {\n        \"dtype\": \"number\",\n        \"std\": 1.1547005383792515,\n        \"min\": 5.0,\n        \"max\": 7.0,\n        \"num_unique_values\": 2,\n        \"samples\": [\n          7.0,\n          5.0\n        ],\n        \"semantic_type\": \"\",\n        \"description\": \"\"\n      }\n    }\n  ]\n}",
       "type": "dataframe"
      },
      "text/html": [
       "\n",
       "  <div id=\"df-8ec1c914-d86c-4c3f-9ef8-942a5465a178\" class=\"colab-df-container\">\n",
       "    <div>\n",
       "<style scoped>\n",
       "    .dataframe tbody tr th:only-of-type {\n",
       "        vertical-align: middle;\n",
       "    }\n",
       "\n",
       "    .dataframe tbody tr th {\n",
       "        vertical-align: top;\n",
       "    }\n",
       "\n",
       "    .dataframe thead th {\n",
       "        text-align: right;\n",
       "    }\n",
       "</style>\n",
       "<table border=\"1\" class=\"dataframe\">\n",
       "  <thead>\n",
       "    <tr style=\"text-align: right;\">\n",
       "      <th></th>\n",
       "      <th>A</th>\n",
       "      <th>B</th>\n",
       "    </tr>\n",
       "  </thead>\n",
       "  <tbody>\n",
       "    <tr>\n",
       "      <th>0</th>\n",
       "      <td>1.0</td>\n",
       "      <td>5.0</td>\n",
       "    </tr>\n",
       "    <tr>\n",
       "      <th>1</th>\n",
       "      <td>NaN</td>\n",
       "      <td>5.0</td>\n",
       "    </tr>\n",
       "    <tr>\n",
       "      <th>2</th>\n",
       "      <td>4.0</td>\n",
       "      <td>7.0</td>\n",
       "    </tr>\n",
       "    <tr>\n",
       "      <th>3</th>\n",
       "      <td>4.0</td>\n",
       "      <td>7.0</td>\n",
       "    </tr>\n",
       "  </tbody>\n",
       "</table>\n",
       "</div>\n",
       "    <div class=\"colab-df-buttons\">\n",
       "\n",
       "  <div class=\"colab-df-container\">\n",
       "    <button class=\"colab-df-convert\" onclick=\"convertToInteractive('df-8ec1c914-d86c-4c3f-9ef8-942a5465a178')\"\n",
       "            title=\"Convert this dataframe to an interactive table.\"\n",
       "            style=\"display:none;\">\n",
       "\n",
       "  <svg xmlns=\"http://www.w3.org/2000/svg\" height=\"24px\" viewBox=\"0 -960 960 960\">\n",
       "    <path d=\"M120-120v-720h720v720H120Zm60-500h600v-160H180v160Zm220 220h160v-160H400v160Zm0 220h160v-160H400v160ZM180-400h160v-160H180v160Zm440 0h160v-160H620v160ZM180-180h160v-160H180v160Zm440 0h160v-160H620v160Z\"/>\n",
       "  </svg>\n",
       "    </button>\n",
       "\n",
       "  <style>\n",
       "    .colab-df-container {\n",
       "      display:flex;\n",
       "      gap: 12px;\n",
       "    }\n",
       "\n",
       "    .colab-df-convert {\n",
       "      background-color: #E8F0FE;\n",
       "      border: none;\n",
       "      border-radius: 50%;\n",
       "      cursor: pointer;\n",
       "      display: none;\n",
       "      fill: #1967D2;\n",
       "      height: 32px;\n",
       "      padding: 0 0 0 0;\n",
       "      width: 32px;\n",
       "    }\n",
       "\n",
       "    .colab-df-convert:hover {\n",
       "      background-color: #E2EBFA;\n",
       "      box-shadow: 0px 1px 2px rgba(60, 64, 67, 0.3), 0px 1px 3px 1px rgba(60, 64, 67, 0.15);\n",
       "      fill: #174EA6;\n",
       "    }\n",
       "\n",
       "    .colab-df-buttons div {\n",
       "      margin-bottom: 4px;\n",
       "    }\n",
       "\n",
       "    [theme=dark] .colab-df-convert {\n",
       "      background-color: #3B4455;\n",
       "      fill: #D2E3FC;\n",
       "    }\n",
       "\n",
       "    [theme=dark] .colab-df-convert:hover {\n",
       "      background-color: #434B5C;\n",
       "      box-shadow: 0px 1px 3px 1px rgba(0, 0, 0, 0.15);\n",
       "      filter: drop-shadow(0px 1px 2px rgba(0, 0, 0, 0.3));\n",
       "      fill: #FFFFFF;\n",
       "    }\n",
       "  </style>\n",
       "\n",
       "    <script>\n",
       "      const buttonEl =\n",
       "        document.querySelector('#df-8ec1c914-d86c-4c3f-9ef8-942a5465a178 button.colab-df-convert');\n",
       "      buttonEl.style.display =\n",
       "        google.colab.kernel.accessAllowed ? 'block' : 'none';\n",
       "\n",
       "      async function convertToInteractive(key) {\n",
       "        const element = document.querySelector('#df-8ec1c914-d86c-4c3f-9ef8-942a5465a178');\n",
       "        const dataTable =\n",
       "          await google.colab.kernel.invokeFunction('convertToInteractive',\n",
       "                                                    [key], {});\n",
       "        if (!dataTable) return;\n",
       "\n",
       "        const docLinkHtml = 'Like what you see? Visit the ' +\n",
       "          '<a target=\"_blank\" href=https://colab.research.google.com/notebooks/data_table.ipynb>data table notebook</a>'\n",
       "          + ' to learn more about interactive tables.';\n",
       "        element.innerHTML = '';\n",
       "        dataTable['output_type'] = 'display_data';\n",
       "        await google.colab.output.renderOutput(dataTable, element);\n",
       "        const docLink = document.createElement('div');\n",
       "        docLink.innerHTML = docLinkHtml;\n",
       "        element.appendChild(docLink);\n",
       "      }\n",
       "    </script>\n",
       "  </div>\n",
       "\n",
       "\n",
       "    <div id=\"df-622853b7-8e2d-4307-aaa7-43a60fd0617b\">\n",
       "      <button class=\"colab-df-quickchart\" onclick=\"quickchart('df-622853b7-8e2d-4307-aaa7-43a60fd0617b')\"\n",
       "                title=\"Suggest charts\"\n",
       "                style=\"display:none;\">\n",
       "\n",
       "<svg xmlns=\"http://www.w3.org/2000/svg\" height=\"24px\"viewBox=\"0 0 24 24\"\n",
       "     width=\"24px\">\n",
       "    <g>\n",
       "        <path d=\"M19 3H5c-1.1 0-2 .9-2 2v14c0 1.1.9 2 2 2h14c1.1 0 2-.9 2-2V5c0-1.1-.9-2-2-2zM9 17H7v-7h2v7zm4 0h-2V7h2v10zm4 0h-2v-4h2v4z\"/>\n",
       "    </g>\n",
       "</svg>\n",
       "      </button>\n",
       "\n",
       "<style>\n",
       "  .colab-df-quickchart {\n",
       "      --bg-color: #E8F0FE;\n",
       "      --fill-color: #1967D2;\n",
       "      --hover-bg-color: #E2EBFA;\n",
       "      --hover-fill-color: #174EA6;\n",
       "      --disabled-fill-color: #AAA;\n",
       "      --disabled-bg-color: #DDD;\n",
       "  }\n",
       "\n",
       "  [theme=dark] .colab-df-quickchart {\n",
       "      --bg-color: #3B4455;\n",
       "      --fill-color: #D2E3FC;\n",
       "      --hover-bg-color: #434B5C;\n",
       "      --hover-fill-color: #FFFFFF;\n",
       "      --disabled-bg-color: #3B4455;\n",
       "      --disabled-fill-color: #666;\n",
       "  }\n",
       "\n",
       "  .colab-df-quickchart {\n",
       "    background-color: var(--bg-color);\n",
       "    border: none;\n",
       "    border-radius: 50%;\n",
       "    cursor: pointer;\n",
       "    display: none;\n",
       "    fill: var(--fill-color);\n",
       "    height: 32px;\n",
       "    padding: 0;\n",
       "    width: 32px;\n",
       "  }\n",
       "\n",
       "  .colab-df-quickchart:hover {\n",
       "    background-color: var(--hover-bg-color);\n",
       "    box-shadow: 0 1px 2px rgba(60, 64, 67, 0.3), 0 1px 3px 1px rgba(60, 64, 67, 0.15);\n",
       "    fill: var(--button-hover-fill-color);\n",
       "  }\n",
       "\n",
       "  .colab-df-quickchart-complete:disabled,\n",
       "  .colab-df-quickchart-complete:disabled:hover {\n",
       "    background-color: var(--disabled-bg-color);\n",
       "    fill: var(--disabled-fill-color);\n",
       "    box-shadow: none;\n",
       "  }\n",
       "\n",
       "  .colab-df-spinner {\n",
       "    border: 2px solid var(--fill-color);\n",
       "    border-color: transparent;\n",
       "    border-bottom-color: var(--fill-color);\n",
       "    animation:\n",
       "      spin 1s steps(1) infinite;\n",
       "  }\n",
       "\n",
       "  @keyframes spin {\n",
       "    0% {\n",
       "      border-color: transparent;\n",
       "      border-bottom-color: var(--fill-color);\n",
       "      border-left-color: var(--fill-color);\n",
       "    }\n",
       "    20% {\n",
       "      border-color: transparent;\n",
       "      border-left-color: var(--fill-color);\n",
       "      border-top-color: var(--fill-color);\n",
       "    }\n",
       "    30% {\n",
       "      border-color: transparent;\n",
       "      border-left-color: var(--fill-color);\n",
       "      border-top-color: var(--fill-color);\n",
       "      border-right-color: var(--fill-color);\n",
       "    }\n",
       "    40% {\n",
       "      border-color: transparent;\n",
       "      border-right-color: var(--fill-color);\n",
       "      border-top-color: var(--fill-color);\n",
       "    }\n",
       "    60% {\n",
       "      border-color: transparent;\n",
       "      border-right-color: var(--fill-color);\n",
       "    }\n",
       "    80% {\n",
       "      border-color: transparent;\n",
       "      border-right-color: var(--fill-color);\n",
       "      border-bottom-color: var(--fill-color);\n",
       "    }\n",
       "    90% {\n",
       "      border-color: transparent;\n",
       "      border-bottom-color: var(--fill-color);\n",
       "    }\n",
       "  }\n",
       "</style>\n",
       "\n",
       "      <script>\n",
       "        async function quickchart(key) {\n",
       "          const quickchartButtonEl =\n",
       "            document.querySelector('#' + key + ' button');\n",
       "          quickchartButtonEl.disabled = true;  // To prevent multiple clicks.\n",
       "          quickchartButtonEl.classList.add('colab-df-spinner');\n",
       "          try {\n",
       "            const charts = await google.colab.kernel.invokeFunction(\n",
       "                'suggestCharts', [key], {});\n",
       "          } catch (error) {\n",
       "            console.error('Error during call to suggestCharts:', error);\n",
       "          }\n",
       "          quickchartButtonEl.classList.remove('colab-df-spinner');\n",
       "          quickchartButtonEl.classList.add('colab-df-quickchart-complete');\n",
       "        }\n",
       "        (() => {\n",
       "          let quickchartButtonEl =\n",
       "            document.querySelector('#df-622853b7-8e2d-4307-aaa7-43a60fd0617b button');\n",
       "          quickchartButtonEl.style.display =\n",
       "            google.colab.kernel.accessAllowed ? 'block' : 'none';\n",
       "        })();\n",
       "      </script>\n",
       "    </div>\n",
       "\n",
       "    </div>\n",
       "  </div>\n"
      ],
      "text/plain": [
       "     A    B\n",
       "0  1.0  5.0\n",
       "1  NaN  5.0\n",
       "2  4.0  7.0\n",
       "3  4.0  7.0"
      ]
     },
     "execution_count": 13,
     "metadata": {},
     "output_type": "execute_result"
    }
   ],
   "source": [
    "df1.bfill(limit=1)"
   ]
  },
  {
   "cell_type": "code",
   "execution_count": 10,
   "id": "77606002",
   "metadata": {
    "colab": {
     "base_uri": "https://localhost:8080/"
    },
    "executionInfo": {
     "elapsed": 62,
     "status": "ok",
     "timestamp": 1753433823883,
     "user": {
      "displayName": "Varun",
      "userId": "17764854446808172797"
     },
     "user_tz": -330
    },
    "id": "77606002",
    "outputId": "848f368b-e41f-4271-af82-69ee225c527c"
   },
   "outputs": [
    {
     "name": "stdout",
     "output_type": "stream",
     "text": [
      "\n",
      "After method fill (ffill then bfill), Age head:\n",
      "0    22.0\n",
      "1    38.0\n",
      "2    26.0\n",
      "3    35.0\n",
      "4    35.0\n",
      "5    35.0\n",
      "6    54.0\n",
      "7     2.0\n",
      "8    27.0\n",
      "9    14.0\n",
      "Name: Age, dtype: float64\n",
      "\n",
      "After method fill (ffill then bfill), missing Age: 0\n"
     ]
    },
    {
     "name": "stderr",
     "output_type": "stream",
     "text": [
      "/tmp/ipython-input-10-1200109802.py:3: FutureWarning: Series.fillna with 'method' is deprecated and will raise in a future version. Use obj.ffill() or obj.bfill() instead.\n",
      "  df_method['Age'] = df_method['Age'].fillna(method='ffill').fillna(method='bfill')\n"
     ]
    }
   ],
   "source": [
    "# Forward fill then backward fill\n",
    "df_method = df.copy()\n",
    "df_method['Age'] = df_method['Age'].fillna(method='ffill').fillna(method='bfill')\n",
    "print(\"\\nAfter method fill (ffill then bfill), Age head:\")\n",
    "print(df_method['Age'].head(10))\n",
    "print(\"\\nAfter method fill (ffill then bfill), missing Age:\", df_method['Age'].isnull().sum())"
   ]
  },
  {
   "cell_type": "code",
   "execution_count": 14,
   "id": "acc33a3b",
   "metadata": {
    "colab": {
     "base_uri": "https://localhost:8080/"
    },
    "executionInfo": {
     "elapsed": 9,
     "status": "ok",
     "timestamp": 1753433824055,
     "user": {
      "displayName": "Varun",
      "userId": "17764854446808172797"
     },
     "user_tz": -330
    },
    "id": "acc33a3b",
    "outputId": "e69c00fd-4e10-4c95-b5a5-3daa97413bc1"
   },
   "outputs": [
    {
     "name": "stdout",
     "output_type": "stream",
     "text": [
      "0    22.0\n",
      "1    38.0\n",
      "2    26.0\n",
      "3    35.0\n",
      "4    35.0\n",
      "5    54.0\n",
      "6    54.0\n",
      "7     2.0\n",
      "8    27.0\n",
      "9    14.0\n",
      "Name: Age, dtype: float64\n",
      "\n",
      "After method fill (bfill then ffill), missing Age: 0\n"
     ]
    },
    {
     "name": "stderr",
     "output_type": "stream",
     "text": [
      "/tmp/ipython-input-14-2447485261.py:3: FutureWarning: Series.fillna with 'method' is deprecated and will raise in a future version. Use obj.ffill() or obj.bfill() instead.\n",
      "  df_bfill['Age'] = df_bfill['Age'].fillna(method='bfill')\n",
      "/tmp/ipython-input-14-2447485261.py:4: FutureWarning: Series.fillna with 'method' is deprecated and will raise in a future version. Use obj.ffill() or obj.bfill() instead.\n",
      "  df_bfill['Age'] = df_bfill['Age'].fillna(method='ffill')\n"
     ]
    }
   ],
   "source": [
    "# Backward fill then forward fill\n",
    "df_bfill = df.copy()\n",
    "df_bfill['Age'] = df_bfill['Age'].fillna(method='bfill')\n",
    "df_bfill['Age'] = df_bfill['Age'].fillna(method='ffill')\n",
    "print(df_bfill['Age'].head(10))\n",
    "print(\"\\nAfter method fill (bfill then ffill), missing Age:\", df_bfill['Age'].isnull().sum())"
   ]
  },
  {
   "cell_type": "markdown",
   "id": "de146666",
   "metadata": {
    "id": "de146666"
   },
   "source": [
    "## 3. Sorting & Filtering\n",
    "Organizing and subsetting data helps in analysis and visualization.\n",
    "\n",
    "### 3.1 Sorting\n",
    "- `df.sort_values(by='col', ascending=True/False)` reorders rows based on column values.\n",
    "- Sorting can be multi-key with `by=[col1, col2]` and corresponding `ascending=[True,False]`."
   ]
  },
  {
   "cell_type": "code",
   "execution_count": 15,
   "id": "93b9e614",
   "metadata": {
    "colab": {
     "base_uri": "https://localhost:8080/"
    },
    "executionInfo": {
     "elapsed": 10,
     "status": "ok",
     "timestamp": 1753433824068,
     "user": {
      "displayName": "Varun",
      "userId": "17764854446808172797"
     },
     "user_tz": -330
    },
    "id": "93b9e614",
    "outputId": "f296c971-ed84-48d8-e5c1-3774c0d3e6ab"
   },
   "outputs": [
    {
     "name": "stdout",
     "output_type": "stream",
     "text": [
      "Top 5 fares:\n",
      "                                   Name      Fare\n",
      "679  Cardeza, Mr. Thomas Drake Martinez  512.3292\n",
      "258                    Ward, Miss. Anna  512.3292\n",
      "737              Lesurer, Mr. Gustave J  512.3292\n",
      "88           Fortune, Miss. Mabel Helen  263.0000\n",
      "438                   Fortune, Mr. Mark  263.0000\n"
     ]
    }
   ],
   "source": [
    "# Single-column sort by Fare\n",
    "df_sorted_fare = df.sort_values(by='Fare', ascending=False)\n",
    "print(\"Top 5 fares:\")\n",
    "print(df_sorted_fare[['Name','Fare']].head(5))"
   ]
  },
  {
   "cell_type": "code",
   "execution_count": 16,
   "id": "8ddb8ff2",
   "metadata": {
    "colab": {
     "base_uri": "https://localhost:8080/"
    },
    "executionInfo": {
     "elapsed": 9,
     "status": "ok",
     "timestamp": 1753433824075,
     "user": {
      "displayName": "Varun",
      "userId": "17764854446808172797"
     },
     "user_tz": -330
    },
    "id": "8ddb8ff2",
    "outputId": "5e883037-9cc1-4e0b-972c-249c4ad6d2f9"
   },
   "outputs": [
    {
     "name": "stdout",
     "output_type": "stream",
     "text": [
      "\n",
      "Top entries by class and age:\n",
      "                                     Name  Pclass   Age\n",
      "630  Barkworth, Mr. Algernon Henry Wilson       1  80.0\n",
      "96              Goldschmidt, Mr. George B       1  71.0\n",
      "493               Artagaveytia, Mr. Ramon       1  71.0\n",
      "745          Crosby, Capt. Edward Gifford       1  70.0\n",
      "54         Ostby, Mr. Engelhart Cornelius       1  65.0\n"
     ]
    }
   ],
   "source": [
    "# Multi-column sort: Pclass asc, Age desc\n",
    "df_sorted_multi = df.sort_values(by=['Pclass','Age'], ascending=[True,False])\n",
    "print(\"\\nTop entries by class and age:\")\n",
    "print(df_sorted_multi[['Name','Pclass','Age']].head(5))"
   ]
  },
  {
   "cell_type": "markdown",
   "id": "b2ec698d",
   "metadata": {
    "id": "b2ec698d"
   },
   "source": [
    "### 3.2 Filtering\n",
    "- Use boolean masks: `df[condition]`.\n",
    "- Combine conditions with `&`, `|`, and parentheses."
   ]
  },
  {
   "cell_type": "code",
   "execution_count": 17,
   "id": "205f0dc3",
   "metadata": {
    "colab": {
     "base_uri": "https://localhost:8080/"
    },
    "executionInfo": {
     "elapsed": 11,
     "status": "ok",
     "timestamp": 1753433824122,
     "user": {
      "displayName": "Varun",
      "userId": "17764854446808172797"
     },
     "user_tz": -330
    },
    "id": "205f0dc3",
    "outputId": "b68d986c-1d36-40eb-ae9b-a41966deddce"
   },
   "outputs": [
    {
     "name": "stdout",
     "output_type": "stream",
     "text": [
      "Passengers older than 60: 22\n"
     ]
    }
   ],
   "source": [
    "# Age > 60\n",
    "older = df[df['Age'] > 60]\n",
    "print(\"Passengers older than 60:\", older.shape[0])"
   ]
  },
  {
   "cell_type": "code",
   "execution_count": 18,
   "id": "vhO0tYWXiWjB",
   "metadata": {
    "colab": {
     "base_uri": "https://localhost:8080/"
    },
    "executionInfo": {
     "elapsed": 6,
     "status": "ok",
     "timestamp": 1753433824129,
     "user": {
      "displayName": "Varun",
      "userId": "17764854446808172797"
     },
     "user_tz": -330
    },
    "id": "vhO0tYWXiWjB",
    "outputId": "1e9a3e1b-4ebe-4a1c-f4e9-5c0043347559"
   },
   "outputs": [
    {
     "name": "stdout",
     "output_type": "stream",
     "text": [
      "Names with 'Smith':\n",
      "                           Name\n",
      "174     Smith, Mr. James Clinch\n",
      "260           Smith, Mr. Thomas\n",
      "284  Smith, Mr. Richard William\n",
      "346   Smith, Miss. Marion Elsie\n"
     ]
    }
   ],
   "source": [
    "# Names containing 'Smith'\n",
    "smiths = df[df['Name'].str.contains('Smith', na=False)]\n",
    "print(\"Names with 'Smith':\")\n",
    "print(smiths[['Name']].head())"
   ]
  },
  {
   "cell_type": "code",
   "execution_count": 19,
   "id": "XOc8FQdyiXGA",
   "metadata": {
    "colab": {
     "base_uri": "https://localhost:8080/"
    },
    "executionInfo": {
     "elapsed": 7,
     "status": "ok",
     "timestamp": 1753433824137,
     "user": {
      "displayName": "Varun",
      "userId": "17764854446808172797"
     },
     "user_tz": -330
    },
    "id": "XOc8FQdyiXGA",
    "outputId": "36967e8e-f94e-4871-8da4-c6d7bbc58eeb"
   },
   "outputs": [
    {
     "name": "stdout",
     "output_type": "stream",
     "text": [
      "\n",
      "Female, 1st class, fare>100:\n",
      "                                                  Name     Sex  Pclass  \\\n",
      "31      Spencer, Mrs. William Augustus (Marie Eugenie)  female       1   \n",
      "88                          Fortune, Miss. Mabel Helen  female       1   \n",
      "195                               Lurette, Miss. Elise  female       1   \n",
      "215                            Newell, Miss. Madeleine  female       1   \n",
      "258                                   Ward, Miss. Anna  female       1   \n",
      "268      Graham, Mrs. William Thompson (Edith Junkins)  female       1   \n",
      "269                             Bissette, Miss. Amelia  female       1   \n",
      "297                       Allison, Miss. Helen Loraine  female       1   \n",
      "299    Baxter, Mrs. James (Helene DeLaudeniere Chaput)  female       1   \n",
      "306                            Fleming, Miss. Margaret  female       1   \n",
      "307  Penasco y Castellana, Mrs. Victor de Satode (M...  female       1   \n",
      "311                         Ryerson, Miss. Emily Borie  female       1   \n",
      "318                           Wick, Miss. Mary Natalie  female       1   \n",
      "319  Spedden, Mrs. Frederic Oakley (Margaretta Corn...  female       1   \n",
      "325                           Young, Miss. Marie Grice  female       1   \n",
      "334  Frauenthal, Mrs. Henry William (Clara Heinshei...  female       1   \n",
      "337                    Burns, Miss. Elizabeth Margaret  female       1   \n",
      "341                     Fortune, Miss. Alice Elizabeth  female       1   \n",
      "380                              Bidois, Miss. Rosalie  female       1   \n",
      "393                             Newell, Miss. Marjorie  female       1   \n",
      "435                          Carter, Miss. Lucile Polk  female       1   \n",
      "498    Allison, Mrs. Hudson J C (Bessie Waldo Daniels)  female       1   \n",
      "537                                LeRoy, Miss. Bertha  female       1   \n",
      "581  Thayer, Mrs. John Borland (Marian Longstreth M...  female       1   \n",
      "609                          Shutes, Miss. Elizabeth W  female       1   \n",
      "689                  Madill, Miss. Georgette Alexandra  female       1   \n",
      "700  Astor, Mrs. John Jacob (Madeleine Talmadge Force)  female       1   \n",
      "708                               Cleaver, Miss. Alice  female       1   \n",
      "716                      Endres, Miss. Caroline Louise  female       1   \n",
      "730                      Allen, Miss. Elisabeth Walton  female       1   \n",
      "742              Ryerson, Miss. Susan Parker \"Suzette\"  female       1   \n",
      "763          Carter, Mrs. William Ernest (Lucile Polk)  female       1   \n",
      "779  Robert, Mrs. Edward Scott (Elisabeth Walton Mc...  female       1   \n",
      "856         Wick, Mrs. George Dennick (Mary Hitchcock)  female       1   \n",
      "\n",
      "         Fare  \n",
      "31   146.5208  \n",
      "88   263.0000  \n",
      "195  146.5208  \n",
      "215  113.2750  \n",
      "258  512.3292  \n",
      "268  153.4625  \n",
      "269  135.6333  \n",
      "297  151.5500  \n",
      "299  247.5208  \n",
      "306  110.8833  \n",
      "307  108.9000  \n",
      "311  262.3750  \n",
      "318  164.8667  \n",
      "319  134.5000  \n",
      "325  135.6333  \n",
      "334  133.6500  \n",
      "337  134.5000  \n",
      "341  263.0000  \n",
      "380  227.5250  \n",
      "393  113.2750  \n",
      "435  120.0000  \n",
      "498  151.5500  \n",
      "537  106.4250  \n",
      "581  110.8833  \n",
      "609  153.4625  \n",
      "689  211.3375  \n",
      "700  227.5250  \n",
      "708  151.5500  \n",
      "716  227.5250  \n",
      "730  211.3375  \n",
      "742  262.3750  \n",
      "763  120.0000  \n",
      "779  211.3375  \n",
      "856  164.8667  \n"
     ]
    }
   ],
   "source": [
    "# Combined conditions: female, Pclass 1, Fare > 100\n",
    "sel = df[(df['Sex']=='female') & (df['Pclass']==1) & (df['Fare']>100)]\n",
    "print(\"\\nFemale, 1st class, fare>100:\")\n",
    "print(sel[['Name','Sex','Pclass','Fare']])"
   ]
  },
  {
   "cell_type": "code",
   "execution_count": 20,
   "id": "Lw8DPeqYi-jl",
   "metadata": {
    "colab": {
     "base_uri": "https://localhost:8080/"
    },
    "executionInfo": {
     "elapsed": 6,
     "status": "ok",
     "timestamp": 1753433824144,
     "user": {
      "displayName": "Varun",
      "userId": "17764854446808172797"
     },
     "user_tz": -330
    },
    "id": "Lw8DPeqYi-jl",
    "outputId": "23d0d12d-15d5-44d7-fe29-56ba4b040d3e"
   },
   "outputs": [
    {
     "name": "stdout",
     "output_type": "stream",
     "text": [
      "22\n"
     ]
    }
   ],
   "source": [
    "older = df[df['Age']>60]\n",
    "johns = df[df['Name'].str.contains('John', na=False)]\n",
    "sel = df[(df['Sex']=='female')&(df['Pclass']==1)&(df['Fare']>100)]\n",
    "print(len(older))"
   ]
  },
  {
   "cell_type": "code",
   "execution_count": 21,
   "id": "8du-uFPUjGqk",
   "metadata": {
    "colab": {
     "base_uri": "https://localhost:8080/"
    },
    "executionInfo": {
     "elapsed": 6,
     "status": "ok",
     "timestamp": 1753433824152,
     "user": {
      "displayName": "Varun",
      "userId": "17764854446808172797"
     },
     "user_tz": -330
    },
    "id": "8du-uFPUjGqk",
    "outputId": "caf3ba9d-704f-4b45-b090-c90c3a7bb843"
   },
   "outputs": [
    {
     "name": "stdout",
     "output_type": "stream",
     "text": [
      "    PassengerId  Survived  Pclass  \\\n",
      "1             2         1       1   \n",
      "8             9         1       3   \n",
      "41           42         0       2   \n",
      "45           46         0       3   \n",
      "98           99         1       2   \n",
      "\n",
      "                                                 Name     Sex   Age  SibSp  \\\n",
      "1   Cumings, Mrs. John Bradley (Florence Briggs Th...  female  38.0      1   \n",
      "8   Johnson, Mrs. Oscar W (Elisabeth Vilhelmina Berg)  female  27.0      0   \n",
      "41  Turpin, Mrs. William John Robert (Dorothy Ann ...  female  27.0      1   \n",
      "45                           Rogers, Mr. William John    male   NaN      0   \n",
      "98               Doling, Mrs. John T (Ada Julia Bone)  female  34.0      0   \n",
      "\n",
      "    Parch           Ticket     Fare Cabin Embarked  \n",
      "1       0         PC 17599  71.2833   C85        C  \n",
      "8       2           347742  11.1333   NaN        S  \n",
      "41      0            11668  21.0000   NaN        S  \n",
      "45      0  S.C./A.4. 23567   8.0500   NaN        S  \n",
      "98      1           231919  23.0000   NaN        S  \n"
     ]
    }
   ],
   "source": [
    "print(johns.head())"
   ]
  },
  {
   "cell_type": "code",
   "execution_count": 22,
   "id": "-EUlBXRWjJIg",
   "metadata": {
    "colab": {
     "base_uri": "https://localhost:8080/"
    },
    "executionInfo": {
     "elapsed": 5,
     "status": "ok",
     "timestamp": 1753433824159,
     "user": {
      "displayName": "Varun",
      "userId": "17764854446808172797"
     },
     "user_tz": -330
    },
    "id": "-EUlBXRWjJIg",
    "outputId": "0329ed63-e357-4843-d5d5-5491354fe6e3"
   },
   "outputs": [
    {
     "name": "stdout",
     "output_type": "stream",
     "text": [
      "     PassengerId  Survived  Pclass  \\\n",
      "31            32         1       1   \n",
      "88            89         1       1   \n",
      "195          196         1       1   \n",
      "215          216         1       1   \n",
      "258          259         1       1   \n",
      "\n",
      "                                               Name     Sex   Age  SibSp  \\\n",
      "31   Spencer, Mrs. William Augustus (Marie Eugenie)  female   NaN      1   \n",
      "88                       Fortune, Miss. Mabel Helen  female  23.0      3   \n",
      "195                            Lurette, Miss. Elise  female  58.0      0   \n",
      "215                         Newell, Miss. Madeleine  female  31.0      1   \n",
      "258                                Ward, Miss. Anna  female  35.0      0   \n",
      "\n",
      "     Parch    Ticket      Fare        Cabin Embarked  \n",
      "31       0  PC 17569  146.5208          B78        C  \n",
      "88       2     19950  263.0000  C23 C25 C27        S  \n",
      "195      0  PC 17569  146.5208          B80        C  \n",
      "215      0     35273  113.2750          D36        C  \n",
      "258      0  PC 17755  512.3292          NaN        C  \n"
     ]
    }
   ],
   "source": [
    "print(sel.head())"
   ]
  },
  {
   "cell_type": "code",
   "execution_count": 23,
   "id": "wiIs53NcidvB",
   "metadata": {
    "colab": {
     "base_uri": "https://localhost:8080/"
    },
    "executionInfo": {
     "elapsed": 7,
     "status": "ok",
     "timestamp": 1753433824168,
     "user": {
      "displayName": "Varun",
      "userId": "17764854446808172797"
     },
     "user_tz": -330
    },
    "id": "wiIs53NcidvB",
    "outputId": "c2fefe17-4a61-4ebb-da47-ece81a6fd606"
   },
   "outputs": [
    {
     "name": "stdout",
     "output_type": "stream",
     "text": [
      "135\n",
      "    PassengerId  Survived  Pclass                                  Name  \\\n",
      "7             8         0       3        Palsson, Master. Gosta Leonard   \n",
      "9            10         1       2   Nasser, Mrs. Nicholas (Adele Achem)   \n",
      "10           11         1       3       Sandstrom, Miss. Marguerite Rut   \n",
      "14           15         0       3  Vestrom, Miss. Hulda Amanda Adolfina   \n",
      "16           17         0       3                  Rice, Master. Eugene   \n",
      "\n",
      "       Sex   Age  SibSp  Parch   Ticket     Fare Cabin Embarked  \n",
      "7     male   2.0      3      1   349909  21.0750   NaN        S  \n",
      "9   female  14.0      1      0   237736  30.0708   NaN        C  \n",
      "10  female   4.0      1      1  PP 9549  16.7000    G6        S  \n",
      "14  female  14.0      0      0   350406   7.8542   NaN        S  \n",
      "16    male   2.0      4      1   382652  29.1250   NaN        Q  \n"
     ]
    }
   ],
   "source": [
    "youth_senior = df.query('Age<18 or Age>60')\n",
    "print(len(youth_senior))\n",
    "print(youth_senior.head())"
   ]
  },
  {
   "cell_type": "markdown",
   "id": "8da1e9f3",
   "metadata": {
    "id": "8da1e9f3"
   },
   "source": [
    "## 4. GroupBy\n",
    "Grouping and aggregating data simplifies understanding of grouped statistics.\n",
    "\n",
    "- Syntax: `df.groupby('key').agg({'col1':'func','col2':'func2'})`."
   ]
  },
  {
   "cell_type": "code",
   "execution_count": 24,
   "id": "0249e9ad",
   "metadata": {
    "colab": {
     "base_uri": "https://localhost:8080/"
    },
    "executionInfo": {
     "elapsed": 7,
     "status": "ok",
     "timestamp": 1753433824176,
     "user": {
      "displayName": "Varun",
      "userId": "17764854446808172797"
     },
     "user_tz": -330
    },
    "id": "0249e9ad",
    "outputId": "c052a106-544e-4824-bcf1-800369f723fd"
   },
   "outputs": [
    {
     "name": "stdout",
     "output_type": "stream",
     "text": [
      "Aggregated by Pclass:\n",
      "              Age       Fare  Survived\n",
      "Pclass                                \n",
      "1       38.233441  84.154687       136\n",
      "2       29.877630  20.662183        87\n",
      "3       25.140620  13.675550       119\n"
     ]
    }
   ],
   "source": [
    "# Mean Age and Fare by Pclass\n",
    "agg_class = df.groupby('Pclass').agg({'Age':'mean','Fare':'mean','Survived':'sum'})\n",
    "print(\"Aggregated by Pclass:\")\n",
    "print(agg_class)"
   ]
  },
  {
   "cell_type": "code",
   "execution_count": 25,
   "id": "a24083ab",
   "metadata": {
    "colab": {
     "base_uri": "https://localhost:8080/"
    },
    "executionInfo": {
     "elapsed": 15,
     "status": "ok",
     "timestamp": 1753433824192,
     "user": {
      "displayName": "Varun",
      "userId": "17764854446808172797"
     },
     "user_tz": -330
    },
    "id": "a24083ab",
    "outputId": "96b0d65e-3583-4066-8818-1d18ecc4ac06"
   },
   "outputs": [
    {
     "name": "stdout",
     "output_type": "stream",
     "text": [
      "\n",
      "Survival rate by Embarked:\n",
      "Embarked\n",
      "C    0.553571\n",
      "Q    0.389610\n",
      "S    0.336957\n",
      "Name: Survived, dtype: float64\n"
     ]
    }
   ],
   "source": [
    "# Survival rate by Embarked\n",
    "surv_rate = df.groupby('Embarked')['Survived'].mean()\n",
    "print(\"\\nSurvival rate by Embarked:\")\n",
    "print(surv_rate)"
   ]
  },
  {
   "cell_type": "code",
   "execution_count": 43,
   "id": "IJPcOz9oztok",
   "metadata": {
    "colab": {
     "base_uri": "https://localhost:8080/"
    },
    "executionInfo": {
     "elapsed": 23,
     "status": "ok",
     "timestamp": 1753433985636,
     "user": {
      "displayName": "Varun",
      "userId": "17764854446808172797"
     },
     "user_tz": -330
    },
    "id": "IJPcOz9oztok",
    "outputId": "e268c717-f82d-4d11-ca78-5d3849211166"
   },
   "outputs": [
    {
     "name": "stdout",
     "output_type": "stream",
     "text": [
      "         C\n",
      "A   B     \n",
      "bar one  3\n",
      "    two  4\n",
      "foo one  6\n",
      "    two  2\n"
     ]
    }
   ],
   "source": [
    "# Groupby multiple columns\n",
    "df3 = pd.DataFrame({\n",
    "    'A': ['foo','foo','bar','bar','foo'],\n",
    "    'B': ['one','two','one','two','one'],\n",
    "    'C': [1,2,3,4,5]\n",
    "})\n",
    "grouped = df3.groupby(['A','B']).sum()\n",
    "print(grouped)"
   ]
  },
  {
   "cell_type": "markdown",
   "id": "b51f2437",
   "metadata": {
    "id": "b51f2437"
   },
   "source": [
    "## 5. Combining DataFrames\n",
    "### 5.1 Merge\n",
    "- Performs database-style join operations.\n",
    "`pd.merge(df1, df2, on='key', how='left')`.\n",
    "\n",
    "### 5.2 Concat\n",
    "- Stacks DataFrames along rows or columns.\n",
    "`pd.concat([df1, df2], axis=0)`."
   ]
  },
  {
   "cell_type": "code",
   "execution_count": 26,
   "id": "vztHxoLXymX0",
   "metadata": {
    "colab": {
     "base_uri": "https://localhost:8080/"
    },
    "executionInfo": {
     "elapsed": 47,
     "status": "ok",
     "timestamp": 1753433824241,
     "user": {
      "displayName": "Varun",
      "userId": "17764854446808172797"
     },
     "user_tz": -330
    },
    "id": "vztHxoLXymX0",
    "outputId": "4baa8903-db12-46ff-c8c1-8bba4654c049"
   },
   "outputs": [
    {
     "name": "stdout",
     "output_type": "stream",
     "text": [
      "  key  A  B\n",
      "0  K1  1  4\n",
      "1  K2  2  5\n"
     ]
    }
   ],
   "source": [
    "#inner merge\n",
    "df1 = pd.DataFrame({'key': ['K1','K2','K3'], 'A':[1,2,3]})\n",
    "df2 = pd.DataFrame({'key': ['K1','K2','K4'], 'B':[4,5,6]})\n",
    "merged_inner = pd.merge(df1, df2, on='key', how='inner')\n",
    "print(merged_inner)"
   ]
  },
  {
   "cell_type": "code",
   "execution_count": 27,
   "id": "gMc-zgB9yp7S",
   "metadata": {
    "colab": {
     "base_uri": "https://localhost:8080/"
    },
    "executionInfo": {
     "elapsed": 9,
     "status": "ok",
     "timestamp": 1753433824253,
     "user": {
      "displayName": "Varun",
      "userId": "17764854446808172797"
     },
     "user_tz": -330
    },
    "id": "gMc-zgB9yp7S",
    "outputId": "013a7191-1d18-49a8-ecba-e8ce4f285937"
   },
   "outputs": [
    {
     "name": "stdout",
     "output_type": "stream",
     "text": [
      "  key  A    B\n",
      "0  K1  1  4.0\n",
      "1  K2  2  5.0\n",
      "2  K3  3  NaN\n"
     ]
    }
   ],
   "source": [
    "# left join\n",
    "merged_left = pd.merge(df1, df2, on='key', how='left')\n",
    "print(merged_left)"
   ]
  },
  {
   "cell_type": "code",
   "execution_count": 28,
   "id": "GLiabamayuOV",
   "metadata": {
    "colab": {
     "base_uri": "https://localhost:8080/"
    },
    "executionInfo": {
     "elapsed": 14,
     "status": "ok",
     "timestamp": 1753433824269,
     "user": {
      "displayName": "Varun",
      "userId": "17764854446808172797"
     },
     "user_tz": -330
    },
    "id": "GLiabamayuOV",
    "outputId": "5ac8dd73-8b23-4dde-d9f4-84dff6e3baa1"
   },
   "outputs": [
    {
     "name": "stdout",
     "output_type": "stream",
     "text": [
      "  key    A    B\n",
      "0  K1  1.0  4.0\n",
      "1  K2  2.0  5.0\n",
      "2  K3  3.0  NaN\n",
      "3  K4  NaN  6.0\n"
     ]
    }
   ],
   "source": [
    "# outer join\n",
    "merged_outer = pd.merge(df1, df2, on='key', how='outer')\n",
    "print(merged_outer)"
   ]
  },
  {
   "cell_type": "code",
   "execution_count": 29,
   "id": "LWRDwaH_yuwl",
   "metadata": {
    "colab": {
     "base_uri": "https://localhost:8080/"
    },
    "executionInfo": {
     "elapsed": 29,
     "status": "ok",
     "timestamp": 1753433824307,
     "user": {
      "displayName": "Varun",
      "userId": "17764854446808172797"
     },
     "user_tz": -330
    },
    "id": "LWRDwaH_yuwl",
    "outputId": "a289a7ae-69fe-4f1c-a577-dfd3fb3096c9"
   },
   "outputs": [
    {
     "name": "stdout",
     "output_type": "stream",
     "text": [
      "  k1  val1 k2  val2\n",
      "0  X     7  X     9\n"
     ]
    }
   ],
   "source": [
    "# Merging on different columns\n",
    "df3 = pd.DataFrame({'k1': ['X','Y'], 'val1':[7,8]})\n",
    "df4 = pd.DataFrame({'k2': ['X','Z'], 'val2':[9,10]})\n",
    "merged_diff = pd.merge(df3, df4, left_on='k1', right_on='k2', how='inner')\n",
    "print(merged_diff)"
   ]
  },
  {
   "cell_type": "code",
   "execution_count": 30,
   "id": "EH_1U0eEy3wQ",
   "metadata": {
    "colab": {
     "base_uri": "https://localhost:8080/"
    },
    "executionInfo": {
     "elapsed": 131,
     "status": "ok",
     "timestamp": 1753433824435,
     "user": {
      "displayName": "Varun",
      "userId": "17764854446808172797"
     },
     "user_tz": -330
    },
    "id": "EH_1U0eEy3wQ",
    "outputId": "a02bb05a-754d-4fdd-f508-98d1fbb46fb9"
   },
   "outputs": [
    {
     "name": "stdout",
     "output_type": "stream",
     "text": [
      "   v\n",
      "0  1\n",
      "1  2\n",
      "0  3\n",
      "1  4\n"
     ]
    }
   ],
   "source": [
    "# Concatenating vercally(Stacking)\n",
    "dfA = pd.DataFrame({'v':[1,2]})\n",
    "dfB = pd.DataFrame({'v':[3,4]})\n",
    "concat_vert = pd.concat([dfA, dfB], axis=0)\n",
    "print(concat_vert)"
   ]
  },
  {
   "cell_type": "code",
   "execution_count": 31,
   "id": "kRg71YuRy87M",
   "metadata": {
    "colab": {
     "base_uri": "https://localhost:8080/"
    },
    "executionInfo": {
     "elapsed": 25,
     "status": "ok",
     "timestamp": 1753433824465,
     "user": {
      "displayName": "Varun",
      "userId": "17764854446808172797"
     },
     "user_tz": -330
    },
    "id": "kRg71YuRy87M",
    "outputId": "3ee70eaa-5612-48e7-b48b-271ee7edcd48"
   },
   "outputs": [
    {
     "name": "stdout",
     "output_type": "stream",
     "text": [
      "   A  B\n",
      "0  1  3\n",
      "1  2  4\n"
     ]
    }
   ],
   "source": [
    "# Concatenating horizontally\n",
    "dfX = pd.DataFrame({'A':[1,2]})\n",
    "dfY = pd.DataFrame({'B':[3,4]})\n",
    "concat_horiz = pd.concat([dfX, dfY], axis=1)\n",
    "print(concat_horiz)"
   ]
  },
  {
   "cell_type": "code",
   "execution_count": 32,
   "id": "uMWdFKLQzEQH",
   "metadata": {
    "colab": {
     "base_uri": "https://localhost:8080/"
    },
    "executionInfo": {
     "elapsed": 11,
     "status": "ok",
     "timestamp": 1753433824468,
     "user": {
      "displayName": "Varun",
      "userId": "17764854446808172797"
     },
     "user_tz": -330
    },
    "id": "uMWdFKLQzEQH",
    "outputId": "da59bd29-4141-42fc-a985-f473ab946850"
   },
   "outputs": [
    {
     "name": "stdout",
     "output_type": "stream",
     "text": [
      "    val  val2\n",
      "a  10.0   NaN\n",
      "b  20.0  30.0\n",
      "c   NaN  40.0\n"
     ]
    }
   ],
   "source": [
    "# Joining on index\n",
    "dfL = pd.DataFrame({'val':[10,20]}, index=['a','b'])\n",
    "dfR = pd.DataFrame({'val2':[30,40]}, index=['b','c'])\n",
    "joined = dfL.join(dfR, how='outer')\n",
    "print(joined)"
   ]
  },
  {
   "cell_type": "code",
   "execution_count": 33,
   "id": "68c65024",
   "metadata": {
    "colab": {
     "base_uri": "https://localhost:8080/"
    },
    "executionInfo": {
     "elapsed": 11,
     "status": "ok",
     "timestamp": 1753433824475,
     "user": {
      "displayName": "Varun",
      "userId": "17764854446808172797"
     },
     "user_tz": -330
    },
    "id": "68c65024",
    "outputId": "d0989a22-80f7-49a7-d845-afb784f8d474"
   },
   "outputs": [
    {
     "name": "stdout",
     "output_type": "stream",
     "text": [
      "Merged head:\n",
      "   PassengerId                                               Name  \\\n",
      "0            1                            Braund, Mr. Owen Harris   \n",
      "1            2  Cumings, Mrs. John Bradley (Florence Briggs Th...   \n",
      "2            3                             Heikkinen, Miss. Laina   \n",
      "3            4       Futrelle, Mrs. Jacques Heath (Lily May Peel)   \n",
      "4            5                           Allen, Mr. William Henry   \n",
      "\n",
      "             Ticket  \n",
      "0         A/5 21171  \n",
      "1          PC 17599  \n",
      "2  STON/O2. 3101282  \n",
      "3            113803  \n",
      "4            373450  \n"
     ]
    }
   ],
   "source": [
    "# Merge names with tickets\n",
    "names = df[['PassengerId','Name']]\n",
    "tickets = df[['PassengerId','Ticket']]\n",
    "merged = pd.merge(names, tickets, on='PassengerId', how='left')\n",
    "print(\"Merged head:\")\n",
    "print(merged.head())"
   ]
  },
  {
   "cell_type": "code",
   "execution_count": 34,
   "id": "d86e4634",
   "metadata": {
    "colab": {
     "base_uri": "https://localhost:8080/"
    },
    "executionInfo": {
     "elapsed": 36,
     "status": "ok",
     "timestamp": 1753433824512,
     "user": {
      "displayName": "Varun",
      "userId": "17764854446808172797"
     },
     "user_tz": -330
    },
    "id": "d86e4634",
    "outputId": "16571068-3748-458d-add4-50ec1e9e1e4f"
   },
   "outputs": [
    {
     "name": "stdout",
     "output_type": "stream",
     "text": [
      "Combined shape: (891, 12)\n",
      "Combined head:    PassengerId  Survived  Pclass  \\\n",
      "0            2         1       1   \n",
      "1            3         1       3   \n",
      "2            4         1       1   \n",
      "3            9         1       3   \n",
      "4           10         1       2   \n",
      "\n",
      "                                                Name     Sex   Age  SibSp  \\\n",
      "0  Cumings, Mrs. John Bradley (Florence Briggs Th...  female  38.0      1   \n",
      "1                             Heikkinen, Miss. Laina  female  26.0      0   \n",
      "2       Futrelle, Mrs. Jacques Heath (Lily May Peel)  female  35.0      1   \n",
      "3  Johnson, Mrs. Oscar W (Elisabeth Vilhelmina Berg)  female  27.0      0   \n",
      "4                Nasser, Mrs. Nicholas (Adele Achem)  female  14.0      1   \n",
      "\n",
      "   Parch            Ticket     Fare Cabin Embarked  \n",
      "0      0          PC 17599  71.2833   C85        C  \n",
      "1      0  STON/O2. 3101282   7.9250   NaN        S  \n",
      "2      0            113803  53.1000  C123        S  \n",
      "3      2            347742  11.1333   NaN        S  \n",
      "4      0            237736  30.0708   NaN        C  \n"
     ]
    }
   ],
   "source": [
    "# Concat survivors and non-survivors\n",
    "survived = df[df['Survived']==1]\n",
    "not_survived = df[df['Survived']==0]\n",
    "combined = pd.concat([survived, not_survived], axis=0, ignore_index=True)\n",
    "print(\"Combined shape:\", combined.shape)\n",
    "print(\"Combined head:\", combined.head())"
   ]
  },
  {
   "cell_type": "markdown",
   "id": "37d7a012",
   "metadata": {
    "id": "37d7a012"
   },
   "source": [
    "## 6. Indexing: `iloc` vs `loc`\n",
    "- `iloc`: integer-based position indexing.\n",
    "- `loc`: label-based indexing by index and column names."
   ]
  },
  {
   "cell_type": "code",
   "execution_count": 35,
   "id": "53c9521d",
   "metadata": {
    "colab": {
     "base_uri": "https://localhost:8080/"
    },
    "executionInfo": {
     "elapsed": 11,
     "status": "ok",
     "timestamp": 1753433824522,
     "user": {
      "displayName": "Varun",
      "userId": "17764854446808172797"
     },
     "user_tz": -330
    },
    "id": "53c9521d",
    "outputId": "9074f1a4-e938-48d2-cca6-6a25a73639b5"
   },
   "outputs": [
    {
     "name": "stdout",
     "output_type": "stream",
     "text": [
      "   PassengerId  Survived  Pclass  \\\n",
      "0            1         0       3   \n",
      "1            2         1       1   \n",
      "2            3         1       3   \n",
      "\n",
      "                                                Name  \n",
      "0                            Braund, Mr. Owen Harris  \n",
      "1  Cumings, Mrs. John Bradley (Florence Briggs Th...  \n",
      "2                             Heikkinen, Miss. Laina  \n"
     ]
    }
   ],
   "source": [
    "# iloc: first 3 rows, first 4 cols\n",
    "print(df.iloc[:3, :4])"
   ]
  },
  {
   "cell_type": "code",
   "execution_count": 36,
   "id": "8b44e6ec",
   "metadata": {
    "colab": {
     "base_uri": "https://localhost:8080/"
    },
    "executionInfo": {
     "elapsed": 25,
     "status": "ok",
     "timestamp": 1753433824544,
     "user": {
      "displayName": "Varun",
      "userId": "17764854446808172797"
     },
     "user_tz": -330
    },
    "id": "8b44e6ec",
    "outputId": "c51d646e-8834-4c0f-d1e2-7d984f958052"
   },
   "outputs": [
    {
     "name": "stdout",
     "output_type": "stream",
     "text": [
      "                                                Name   Age     Fare\n",
      "0                            Braund, Mr. Owen Harris  22.0   7.2500\n",
      "1  Cumings, Mrs. John Bradley (Florence Briggs Th...  38.0  71.2833\n",
      "2                             Heikkinen, Miss. Laina  26.0   7.9250\n"
     ]
    }
   ],
   "source": [
    "# loc: rows labeled 0 to 2, specific columns\n",
    "print(df.loc[0:2, ['Name','Age','Fare']])"
   ]
  },
  {
   "cell_type": "markdown",
   "id": "552bd200",
   "metadata": {
    "id": "552bd200"
   },
   "source": [
    "## 7. Applying Functions & Mapping\n",
    "- `apply`: apply function element- or row-wise.\n",
    "- `map`: substitute based on mapping dict or Series."
   ]
  },
  {
   "cell_type": "code",
   "execution_count": 37,
   "id": "892225a8",
   "metadata": {
    "colab": {
     "base_uri": "https://localhost:8080/"
    },
    "executionInfo": {
     "elapsed": 9,
     "status": "ok",
     "timestamp": 1753433824554,
     "user": {
      "displayName": "Varun",
      "userId": "17764854446808172797"
     },
     "user_tz": -330
    },
    "id": "892225a8",
    "outputId": "bb8ebc3e-21fb-4c64-9d8c-6bf2384ceb40"
   },
   "outputs": [
    {
     "name": "stdout",
     "output_type": "stream",
     "text": [
      "                                                Name  NameLength\n",
      "0                            Braund, Mr. Owen Harris          23\n",
      "1  Cumings, Mrs. John Bradley (Florence Briggs Th...          51\n",
      "2                             Heikkinen, Miss. Laina          22\n",
      "3       Futrelle, Mrs. Jacques Heath (Lily May Peel)          44\n",
      "4                           Allen, Mr. William Henry          24\n"
     ]
    }
   ],
   "source": [
    "# apply: calculate name length\n",
    "df['NameLength'] = df['Name'].apply(len)\n",
    "print(df[['Name','NameLength']].head())"
   ]
  },
  {
   "cell_type": "code",
   "execution_count": 38,
   "id": "fc99f60f",
   "metadata": {
    "colab": {
     "base_uri": "https://localhost:8080/"
    },
    "executionInfo": {
     "elapsed": 32,
     "status": "ok",
     "timestamp": 1753433824587,
     "user": {
      "displayName": "Varun",
      "userId": "17764854446808172797"
     },
     "user_tz": -330
    },
    "id": "fc99f60f",
    "outputId": "eed219ee-80f3-40cb-bffd-e601f91068e1"
   },
   "outputs": [
    {
     "name": "stdout",
     "output_type": "stream",
     "text": [
      "      Sex  SexBinary\n",
      "0    male          0\n",
      "1  female          1\n",
      "2  female          1\n",
      "3  female          1\n",
      "4    male          0\n"
     ]
    }
   ],
   "source": [
    "# map: convert gender to binary\n",
    "df['SexBinary'] = df['Sex'].map({'male':0,'female':1})\n",
    "print(df[['Sex','SexBinary']].head())"
   ]
  },
  {
   "cell_type": "markdown",
   "id": "c828c8b5",
   "metadata": {
    "id": "c828c8b5"
   },
   "source": [
    "## 8. Modifying Columns\n",
    "- **Create new column:** direct assignment.\n",
    "- **Update existing column:** reassign values."
   ]
  },
  {
   "cell_type": "code",
   "execution_count": 39,
   "id": "c2397a48",
   "metadata": {
    "colab": {
     "base_uri": "https://localhost:8080/"
    },
    "executionInfo": {
     "elapsed": 16,
     "status": "ok",
     "timestamp": 1753433824588,
     "user": {
      "displayName": "Varun",
      "userId": "17764854446808172797"
     },
     "user_tz": -330
    },
    "id": "c2397a48",
    "outputId": "165d0605-489c-4633-f013-65e604713bb2"
   },
   "outputs": [
    {
     "name": "stdout",
     "output_type": "stream",
     "text": [
      "      Fare  AboveAvgFare\n",
      "0   7.2500         False\n",
      "1  71.2833          True\n",
      "2   7.9250         False\n",
      "3  53.1000          True\n",
      "4   8.0500         False\n"
     ]
    }
   ],
   "source": [
    "# Create 'AboveAvgFare' flag\n",
    "avg_fare = df['Fare'].mean()\n",
    "df['AboveAvgFare'] = df['Fare'] > avg_fare\n",
    "print(df[['Fare','AboveAvgFare']].head())"
   ]
  },
  {
   "cell_type": "code",
   "execution_count": 40,
   "id": "bb200a78",
   "metadata": {
    "colab": {
     "base_uri": "https://localhost:8080/"
    },
    "executionInfo": {
     "elapsed": 9,
     "status": "ok",
     "timestamp": 1753433824588,
     "user": {
      "displayName": "Varun",
      "userId": "17764854446808172797"
     },
     "user_tz": -330
    },
    "id": "bb200a78",
    "outputId": "3cb96dc2-901b-4e88-d1a8-22288098b279"
   },
   "outputs": [
    {
     "name": "stdout",
     "output_type": "stream",
     "text": [
      "                                                Name Survived\n",
      "0                            Braund, Mr. Owen Harris       No\n",
      "1  Cumings, Mrs. John Bradley (Florence Briggs Th...      Yes\n",
      "2                             Heikkinen, Miss. Laina      Yes\n",
      "3       Futrelle, Mrs. Jacques Heath (Lily May Peel)      Yes\n",
      "4                           Allen, Mr. William Henry       No\n"
     ]
    }
   ],
   "source": [
    "# Update Survived to 'Yes'/'No'\n",
    "df['Survived'] = df['Survived'].map({0:'No',1:'Yes'})\n",
    "print(df[['Name','Survived']].head())"
   ]
  },
  {
   "cell_type": "markdown",
   "id": "0a75aae3",
   "metadata": {
    "id": "0a75aae3"
   },
   "source": [
    "## 9. Saving Data\n",
    "- CSV: interoperability with other tools.\n",
    "- Excel: for spreadsheets."
   ]
  },
  {
   "cell_type": "code",
   "execution_count": 41,
   "id": "4cd47ccd",
   "metadata": {
    "colab": {
     "base_uri": "https://localhost:8080/"
    },
    "executionInfo": {
     "elapsed": 315,
     "status": "ok",
     "timestamp": 1753433824903,
     "user": {
      "displayName": "Varun",
      "userId": "17764854446808172797"
     },
     "user_tz": -330
    },
    "id": "4cd47ccd",
    "outputId": "90d84fae-3b3e-4f52-f681-d0165a63d144"
   },
   "outputs": [
    {
     "name": "stdout",
     "output_type": "stream",
     "text": [
      "Files saved successfully.\n"
     ]
    }
   ],
   "source": [
    "# Save to CSV and Excel\n",
    "df.to_csv('titanic_detailed.csv', index=False)\n",
    "df.to_excel('titanic_detailed.xlsx', index=False)\n",
    "print(\"Files saved successfully.\")"
   ]
  },
  {
   "cell_type": "markdown",
   "id": "0c4b74e2",
   "metadata": {
    "id": "0c4b74e2"
   },
   "source": [
    "## 10. Outlier Detection (IQR Method)\n",
    "Outliers are extreme values. The IQR method identifies them robustly.\n",
    "\n",
    "**Procedure:**\n",
    "1. Compute Q1 and Q3 (25th & 75th percentiles).\n",
    "2. IQR = Q3 - Q1.\n",
    "3. Lower/upper bounds = Q1 - 1.5*IQR, Q3 + 1.5*IQR.\n",
    "4. Filter rows outside bounds."
   ]
  },
  {
   "cell_type": "markdown",
   "id": "m6mxG9bQe6fr",
   "metadata": {
    "id": "m6mxG9bQe6fr"
   },
   "source": [
    "![WhatsApp Image 2025-07-03 at 23.20.28_840f4a3b.jpg](data:image/jpeg;base64,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)"
   ]
  },
  {
   "cell_type": "code",
   "execution_count": 42,
   "id": "0a65908f",
   "metadata": {
    "colab": {
     "base_uri": "https://localhost:8080/"
    },
    "executionInfo": {
     "elapsed": 7,
     "status": "ok",
     "timestamp": 1753433824907,
     "user": {
      "displayName": "Varun",
      "userId": "17764854446808172797"
     },
     "user_tz": -330
    },
    "id": "0a65908f",
    "outputId": "0038c46b-d9ad-45c6-a462-9c7441be6afa"
   },
   "outputs": [
    {
     "name": "stdout",
     "output_type": "stream",
     "text": [
      "Age: detected 11 outliers; bounds: -6.6875 64.8125\n",
      "Fare: detected 116 outliers; bounds: -26.724 65.6344\n"
     ]
    }
   ],
   "source": [
    "# Compute and detect outliers for numeric columns\n",
    "for col in ['Age','Fare']:\n",
    "    Q1 = df[col].quantile(0.25)\n",
    "    Q3 = df[col].quantile(0.75)\n",
    "    IQR = Q3 - Q1\n",
    "    lower, upper = Q1 - 1.5*IQR, Q3 + 1.5*IQR\n",
    "    outliers = df[(df[col] < lower) | (df[col] > upper)]\n",
    "    print(f\"{col}: detected\", len(outliers), \"outliers; bounds:\", lower, upper)"
   ]
  }
 ],
 "metadata": {
  "colab": {
   "provenance": []
  },
  "kernelspec": {
   "display_name": "Python 3",
   "language": "python",
   "name": "python3"
  },
  "language_info": {
   "codemirror_mode": {
    "name": "ipython",
    "version": 3
   },
   "file_extension": ".py",
   "mimetype": "text/x-python",
   "name": "python",
   "nbconvert_exporter": "python",
   "pygments_lexer": "ipython3",
   "version": "3.10.0"
  }
 },
 "nbformat": 4,
 "nbformat_minor": 5
}

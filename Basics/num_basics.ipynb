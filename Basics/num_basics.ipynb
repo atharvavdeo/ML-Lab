{
 "cells": [
  {
   "cell_type": "code",
   "execution_count": 2,
   "id": "bb508171",
   "metadata": {},
   "outputs": [
    {
     "name": "stdout",
     "output_type": "stream",
     "text": [
      "Requirement already satisfied: numpy in /opt/anaconda3/lib/python3.13/site-packages (2.1.3)\n"
     ]
    }
   ],
   "source": [
    "!pip install numpy \n",
    "import numpy as np"
   ]
  },
  {
   "cell_type": "markdown",
   "id": "bb51a436",
   "metadata": {},
   "source": [
    "NumPy is mainly used because it allows vectoriation of a list and makes operations faster.\n"
   ]
  },
  {
   "cell_type": "markdown",
   "id": "2e94de47",
   "metadata": {},
   "source": [
    "**CREATING A ARRAY**"
   ]
  },
  {
   "cell_type": "code",
   "execution_count": null,
   "id": "1a771f5e",
   "metadata": {},
   "outputs": [
    {
     "name": "stdout",
     "output_type": "stream",
     "text": [
      "Using method 1 of creating a list :  [1 2 3 4 5]\n",
      "Creating a 2D array : \n",
      " [[1 2 3 4 5]\n",
      " [1 2 3 4 5]]\n",
      "Using method 2  - using arrange function :  [ 1  3  5  7  9 11 13 15 17 19]\n",
      "Using method 3 - using linspace function :  [ 0. 15. 30.]\n",
      "Using method 4 - using zeros function : \n",
      " [[0. 0. 0.]\n",
      " [0. 0. 0.]\n",
      " [0. 0. 0.]]\n",
      "Using method 5 - using ones function : \n",
      " [[1. 1. 1.]\n",
      " [1. 1. 1.]\n",
      " [1. 1. 1.]]\n",
      "Using method 6 - using full function : \n",
      " [[5 5 5]\n",
      " [5 5 5]\n",
      " [5 5 5]]\n",
      "Using method 7 - using identity function : \n",
      " [[1. 0. 0.]\n",
      " [0. 1. 0.]\n",
      " [0. 0. 1.]]\n",
      "Using method 8 - using diag function : \n",
      " [[1 0 0]\n",
      " [0 2 0]\n",
      " [0 0 3]]\n",
      "Using method 9 - using random function : \n",
      " [[9 9 8]\n",
      " [1 1 7]\n",
      " [6 8 8]]\n"
     ]
    }
   ],
   "source": [
    "#Creating Arrays\n",
    "\n",
    "#1. Converting a list into arrays\n",
    "arr1 = np.array([1,2,3,4,5])\n",
    "print(\"Using method 1 of creating a list : \",arr1)\n",
    "\n",
    "arr2 = np.array([[1,2,3,4,5], [1,2,3,4,5]])\n",
    "print(\"Creating a 2D array : \\n\",arr2)\n",
    "\n",
    "# 2.Using arrange() function like in python\n",
    "# creates an array using (x,y,z) where x is lower limit (inclusive), y is upper limit (exclusive), z represents jumps\n",
    "arr3 = np.arange(1,20,2)\n",
    "print(\"Using method 2  - using arrange function : \",arr3)\n",
    "\n",
    "# 3. Using linspace function - \n",
    "arr4 = np.linspace(0,30,3)      #0 - 20 with a total of 3 elements\n",
    "print(\"Using method 3 - using linspace function : \",arr4)\n",
    "\n",
    "arr5 = np.zeros((3,3))\n",
    "print(\"Using method 4 - using zeros function : \\n\",arr5)\n",
    "arr6 = np.ones((3,3))\n",
    "print(\"Using method 5 - using ones function : \\n\",arr6)\n",
    "\n",
    "#5. Creating an array of (x,y) dimension with value of user's choice\n",
    "arr7 = np.full((3,3),5)\n",
    "print(\"Using method 6 - using full function : \\n\",arr7)\n",
    "\n",
    "#6. Identity Matrix\n",
    "I = np.identity(3)\n",
    "print(\"Using method 7 - using identity function : \\n\",I)\n",
    "\n",
    "#7. Diagonal Matrix\n",
    "D = np.diag([1,2,3])\n",
    "print(\"Using method 8 - using diag function : \\n\",D)\n",
    "\n",
    "#8. Random Matrix\n",
    "arr8 = np.random.randint(1,10,(3,3))        #1 - 10 with a total of 3x3 elements : LowerLimit, UpperLimit, Dimension\n",
    "print(\"Using method 9 - using random function : \\n\",arr8)"
   ]
  },
  {
   "cell_type": "markdown",
   "id": "be765705",
   "metadata": {},
   "source": [
    "**INDEXING AND SLICING AN ARRAY**"
   ]
  },
  {
   "cell_type": "code",
   "execution_count": null,
   "id": "18cdbbc8",
   "metadata": {},
   "outputs": [
    {
     "name": "stdout",
     "output_type": "stream",
     "text": [
      "1\n",
      "10\n",
      "[2, 3, 4]\n",
      "[2, 4]\n",
      "[]\n",
      "[1, 2, 3]\n",
      "[3, 4, 5, 5, 6, 7, 8, 9, 10]\n",
      "[10, 9, 8, 7, 6, 5, 5, 4, 3, 2, 1]\n"
     ]
    }
   ],
   "source": [
    "arr = [1,2,3,4,5,5,6,7,8,9,10]\n",
    "print(arr[0])          #First element           -       1\n",
    "print(arr[-1])         #Last element            -       10\n",
    "\n",
    "print(arr[1:4])        #Elements from index 1 to 3                              -       [2,3,4]\n",
    "print(arr[1:4:2])      #Elements from index 1 to 3 with a step of 2             -       [2,4]\n",
    "\n",
    "print(arr[:3])        # from start till index 2                                 -       [1,2,3]\n",
    "print(arr[2:])        # from index 2 to end)                                    -       [3,4,5,6,7,8,9,10]  \n",
    "print(arr[::-1])      # from end to start - REVERSED                            -       [10,9,8,7,6,5,4,3,2,1]\n"
   ]
  },
  {
   "cell_type": "markdown",
   "id": "a8d3348e",
   "metadata": {},
   "source": [
    "For a 2D Array,"
   ]
  },
  {
   "cell_type": "code",
   "execution_count": null,
   "id": "4110ee72",
   "metadata": {},
   "outputs": [
    {
     "name": "stdout",
     "output_type": "stream",
     "text": [
      "2\n",
      "6\n",
      "[1 2 3]\n",
      "[4 5 6]\n"
     ]
    }
   ],
   "source": [
    "import numpy as np\n",
    "arr2d = np.array([\n",
    "    [1, 2, 3],\n",
    "    [4, 5, 6],\n",
    "    [7, 8, 9]\n",
    "])\n",
    "\n",
    "print(arr2d[0, 1])              # Access element at row 0, column 1\n",
    "print(arr2d[1, 2])              # Access element at row 1, column 2\n",
    "\n",
    "print(arr2d[0])                 # Access entire row 0\n",
    "print(arr2d[1])                 # Access entire row 1\n",
    "\n",
    "\n"
   ]
  },
  {
   "cell_type": "markdown",
   "id": "bc9abfe7",
   "metadata": {},
   "source": [
    "Intersting array : "
   ]
  },
  {
   "cell_type": "code",
   "execution_count": null,
   "id": "c4229fd2",
   "metadata": {},
   "outputs": [
    {
     "name": "stdout",
     "output_type": "stream",
     "text": [
      "[11 14]\n"
     ]
    }
   ],
   "source": [
    "arr9 = np.arange(20)\n",
    "a = arr9[-9:15:3]\n",
    "print(a)\n",
    "\n",
    "#Creates an array from 0-19\n",
    "#arr9[-9:15:3] means start from -9th index(arr[11]), end at 15th index(arr[14]), and jump by 3"
   ]
  },
  {
   "cell_type": "markdown",
   "id": "b0c44a48",
   "metadata": {},
   "source": [
    "Some Functions : "
   ]
  },
  {
   "cell_type": "code",
   "execution_count": null,
   "id": "9dbf001a",
   "metadata": {},
   "outputs": [
    {
     "name": "stdout",
     "output_type": "stream",
     "text": [
      "[[[1 2]\n",
      "  [3 4]]\n",
      "\n",
      " [[5 6]\n",
      "  [7 8]]] \n",
      "\n",
      "[[ 1 10]\n",
      " [ 2 20]\n",
      " [ 3 30]\n",
      " [ 4 40]\n",
      " [ 5 50]\n",
      " [ 6 60]\n",
      " [ 7 70]\n",
      " [ 8 80]]\n"
     ]
    }
   ],
   "source": [
    "#Reshape : \n",
    "m = np.array([1,2,3,4,5,6,7,8])\n",
    "new = m.reshape(2,2,2)                  #\n",
    "print(new,'\\n')\n",
    "\n",
    "s = np.array([[1,2,3,4,5,6,7,8], [10,20,30,40,50,60,70,80]])\n",
    "print(s.transpose())"
   ]
  },
  {
   "cell_type": "markdown",
   "id": "ecdc72da",
   "metadata": {},
   "source": [
    "Intersting Array : "
   ]
  },
  {
   "cell_type": "code",
   "execution_count": 26,
   "id": "7f0584c0",
   "metadata": {},
   "outputs": [
    {
     "name": "stdout",
     "output_type": "stream",
     "text": [
      "[[5]\n",
      " [6]\n",
      " [7]]\n"
     ]
    }
   ],
   "source": [
    "a = np.arange(6)       # Step 1\n",
    "b = a.reshape(2, 3)    # Step 2         #Reshapes into 2 rows and 3 columns\n",
    "c = b[1] + 2           # Step 3         #Adds 2 to the second row\n",
    "d = c.reshape(3, 1)    # Step 4         #Reshapes into 3 rows and 1 column\n",
    "\n",
    "print(d)               # Final output"
   ]
  },
  {
   "cell_type": "markdown",
   "id": "53e07db9",
   "metadata": {},
   "source": [
    "**DOT PRODUCT :**"
   ]
  },
  {
   "cell_type": "code",
   "execution_count": 21,
   "id": "a702ab95",
   "metadata": {},
   "outputs": [
    {
     "name": "stdout",
     "output_type": "stream",
     "text": [
      "Dot product: 11\n",
      "2D Matrix Dot Product :\n",
      " [[19 22]\n",
      " [43 50]]\n"
     ]
    }
   ],
   "source": [
    "a = np.array([1, 2])\n",
    "b = np.array([3, 4])\n",
    "dotpr = np.dot(a, b)\n",
    "print(\"Dot product:\", dotpr)\n",
    "\n",
    "# 2D matrix dot product\n",
    "A = np.array([[1, 2], [3, 4]])\n",
    "B = np.array([[5, 6], [7, 8]])\n",
    "print(\"2D Matrix Dot Product :\\n\", np.dot(A, B))"
   ]
  }
 ],
 "metadata": {
  "kernelspec": {
   "display_name": "Python 3",
   "language": "python",
   "name": "python3"
  },
  "language_info": {
   "codemirror_mode": {
    "name": "ipython",
    "version": 3
   },
   "file_extension": ".py",
   "mimetype": "text/x-python",
   "name": "python",
   "nbconvert_exporter": "python",
   "pygments_lexer": "ipython3",
   "version": "3.13.3"
  }
 },
 "nbformat": 4,
 "nbformat_minor": 5
}

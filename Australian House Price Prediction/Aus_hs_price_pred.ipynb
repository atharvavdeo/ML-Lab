{
 "cells": [
  {
   "cell_type": "code",
   "execution_count": 1,
   "id": "0e12ed03",
   "metadata": {},
   "outputs": [],
   "source": [
    "import pandas as pd\n",
    "import numpy as np\n",
    "import matplotlib.pyplot as plt\n",
    "import seaborn as sns\n",
    "from sklearn.model_selection import train_test_split\n",
    "from sklearn.linear_model import LinearRegression\n",
    "from sklearn.metrics import mean_squared_error\n",
    "from sklearn.metrics import r2_score\n",
    "from sklearn.preprocessing import StandardScaler\n"
   ]
  },
  {
   "cell_type": "code",
   "execution_count": 2,
   "id": "a257d64c",
   "metadata": {},
   "outputs": [
    {
     "name": "stdout",
     "output_type": "stream",
     "text": [
      "Requirement already satisfied: kaggle in /Library/Frameworks/Python.framework/Versions/3.13/lib/python3.13/site-packages (1.7.4.5)\n",
      "Requirement already satisfied: bleach in /Library/Frameworks/Python.framework/Versions/3.13/lib/python3.13/site-packages (from kaggle) (6.2.0)\n",
      "Requirement already satisfied: certifi>=14.05.14 in /Library/Frameworks/Python.framework/Versions/3.13/lib/python3.13/site-packages (from kaggle) (2025.8.3)\n",
      "Requirement already satisfied: charset-normalizer in /Library/Frameworks/Python.framework/Versions/3.13/lib/python3.13/site-packages (from kaggle) (3.4.2)\n",
      "Requirement already satisfied: idna in /Library/Frameworks/Python.framework/Versions/3.13/lib/python3.13/site-packages (from kaggle) (3.10)\n",
      "Requirement already satisfied: protobuf in /Library/Frameworks/Python.framework/Versions/3.13/lib/python3.13/site-packages (from kaggle) (6.31.1)\n",
      "Requirement already satisfied: python-dateutil>=2.5.3 in /Library/Frameworks/Python.framework/Versions/3.13/lib/python3.13/site-packages (from kaggle) (2.9.0.post0)\n",
      "Requirement already satisfied: python-slugify in /Library/Frameworks/Python.framework/Versions/3.13/lib/python3.13/site-packages (from kaggle) (8.0.4)\n",
      "Requirement already satisfied: requests in /Library/Frameworks/Python.framework/Versions/3.13/lib/python3.13/site-packages (from kaggle) (2.32.4)\n",
      "Requirement already satisfied: setuptools>=21.0.0 in /Library/Frameworks/Python.framework/Versions/3.13/lib/python3.13/site-packages (from kaggle) (80.9.0)\n",
      "Requirement already satisfied: six>=1.10 in /Library/Frameworks/Python.framework/Versions/3.13/lib/python3.13/site-packages (from kaggle) (1.17.0)\n",
      "Requirement already satisfied: text-unidecode in /Library/Frameworks/Python.framework/Versions/3.13/lib/python3.13/site-packages (from kaggle) (1.3)\n",
      "Requirement already satisfied: tqdm in /Library/Frameworks/Python.framework/Versions/3.13/lib/python3.13/site-packages (from kaggle) (4.67.1)\n",
      "Requirement already satisfied: urllib3>=1.15.1 in /Library/Frameworks/Python.framework/Versions/3.13/lib/python3.13/site-packages (from kaggle) (2.5.0)\n",
      "Requirement already satisfied: webencodings in /Library/Frameworks/Python.framework/Versions/3.13/lib/python3.13/site-packages (from kaggle) (0.5.1)\n",
      "Note: you may need to restart the kernel to use updated packages.\n",
      "Note: you may need to restart the kernel to use updated packages.\n"
     ]
    }
   ],
   "source": [
    "pip install kaggle"
   ]
  },
  {
   "cell_type": "markdown",
   "id": "f59ae43e",
   "metadata": {},
   "source": [
    "Reading Data"
   ]
  },
  {
   "cell_type": "code",
   "execution_count": 3,
   "id": "34f29eac",
   "metadata": {},
   "outputs": [],
   "source": [
    "df = pd.read_csv(\"train.csv\")"
   ]
  },
  {
   "cell_type": "markdown",
   "id": "2bb4d434",
   "metadata": {},
   "source": [
    "Understanding Data"
   ]
  },
  {
   "cell_type": "code",
   "execution_count": 4,
   "id": "bece9b5e",
   "metadata": {},
   "outputs": [
    {
     "data": {
      "text/html": [
       "<div>\n",
       "<style scoped>\n",
       "    .dataframe tbody tr th:only-of-type {\n",
       "        vertical-align: middle;\n",
       "    }\n",
       "\n",
       "    .dataframe tbody tr th {\n",
       "        vertical-align: top;\n",
       "    }\n",
       "\n",
       "    .dataframe thead th {\n",
       "        text-align: right;\n",
       "    }\n",
       "</style>\n",
       "<table border=\"1\" class=\"dataframe\">\n",
       "  <thead>\n",
       "    <tr style=\"text-align: right;\">\n",
       "      <th></th>\n",
       "      <th>Id</th>\n",
       "      <th>MSSubClass</th>\n",
       "      <th>MSZoning</th>\n",
       "      <th>LotFrontage</th>\n",
       "      <th>LotArea</th>\n",
       "      <th>Street</th>\n",
       "      <th>Alley</th>\n",
       "      <th>LotShape</th>\n",
       "      <th>LandContour</th>\n",
       "      <th>Utilities</th>\n",
       "      <th>...</th>\n",
       "      <th>PoolArea</th>\n",
       "      <th>PoolQC</th>\n",
       "      <th>Fence</th>\n",
       "      <th>MiscFeature</th>\n",
       "      <th>MiscVal</th>\n",
       "      <th>MoSold</th>\n",
       "      <th>YrSold</th>\n",
       "      <th>SaleType</th>\n",
       "      <th>SaleCondition</th>\n",
       "      <th>SalePrice</th>\n",
       "    </tr>\n",
       "  </thead>\n",
       "  <tbody>\n",
       "    <tr>\n",
       "      <th>0</th>\n",
       "      <td>1</td>\n",
       "      <td>60</td>\n",
       "      <td>RL</td>\n",
       "      <td>65.0</td>\n",
       "      <td>8450</td>\n",
       "      <td>Pave</td>\n",
       "      <td>NaN</td>\n",
       "      <td>Reg</td>\n",
       "      <td>Lvl</td>\n",
       "      <td>AllPub</td>\n",
       "      <td>...</td>\n",
       "      <td>0</td>\n",
       "      <td>NaN</td>\n",
       "      <td>NaN</td>\n",
       "      <td>NaN</td>\n",
       "      <td>0</td>\n",
       "      <td>2</td>\n",
       "      <td>2008</td>\n",
       "      <td>WD</td>\n",
       "      <td>Normal</td>\n",
       "      <td>208500</td>\n",
       "    </tr>\n",
       "    <tr>\n",
       "      <th>1</th>\n",
       "      <td>2</td>\n",
       "      <td>20</td>\n",
       "      <td>RL</td>\n",
       "      <td>80.0</td>\n",
       "      <td>9600</td>\n",
       "      <td>Pave</td>\n",
       "      <td>NaN</td>\n",
       "      <td>Reg</td>\n",
       "      <td>Lvl</td>\n",
       "      <td>AllPub</td>\n",
       "      <td>...</td>\n",
       "      <td>0</td>\n",
       "      <td>NaN</td>\n",
       "      <td>NaN</td>\n",
       "      <td>NaN</td>\n",
       "      <td>0</td>\n",
       "      <td>5</td>\n",
       "      <td>2007</td>\n",
       "      <td>WD</td>\n",
       "      <td>Normal</td>\n",
       "      <td>181500</td>\n",
       "    </tr>\n",
       "    <tr>\n",
       "      <th>2</th>\n",
       "      <td>3</td>\n",
       "      <td>60</td>\n",
       "      <td>RL</td>\n",
       "      <td>68.0</td>\n",
       "      <td>11250</td>\n",
       "      <td>Pave</td>\n",
       "      <td>NaN</td>\n",
       "      <td>IR1</td>\n",
       "      <td>Lvl</td>\n",
       "      <td>AllPub</td>\n",
       "      <td>...</td>\n",
       "      <td>0</td>\n",
       "      <td>NaN</td>\n",
       "      <td>NaN</td>\n",
       "      <td>NaN</td>\n",
       "      <td>0</td>\n",
       "      <td>9</td>\n",
       "      <td>2008</td>\n",
       "      <td>WD</td>\n",
       "      <td>Normal</td>\n",
       "      <td>223500</td>\n",
       "    </tr>\n",
       "    <tr>\n",
       "      <th>3</th>\n",
       "      <td>4</td>\n",
       "      <td>70</td>\n",
       "      <td>RL</td>\n",
       "      <td>60.0</td>\n",
       "      <td>9550</td>\n",
       "      <td>Pave</td>\n",
       "      <td>NaN</td>\n",
       "      <td>IR1</td>\n",
       "      <td>Lvl</td>\n",
       "      <td>AllPub</td>\n",
       "      <td>...</td>\n",
       "      <td>0</td>\n",
       "      <td>NaN</td>\n",
       "      <td>NaN</td>\n",
       "      <td>NaN</td>\n",
       "      <td>0</td>\n",
       "      <td>2</td>\n",
       "      <td>2006</td>\n",
       "      <td>WD</td>\n",
       "      <td>Abnorml</td>\n",
       "      <td>140000</td>\n",
       "    </tr>\n",
       "    <tr>\n",
       "      <th>4</th>\n",
       "      <td>5</td>\n",
       "      <td>60</td>\n",
       "      <td>RL</td>\n",
       "      <td>84.0</td>\n",
       "      <td>14260</td>\n",
       "      <td>Pave</td>\n",
       "      <td>NaN</td>\n",
       "      <td>IR1</td>\n",
       "      <td>Lvl</td>\n",
       "      <td>AllPub</td>\n",
       "      <td>...</td>\n",
       "      <td>0</td>\n",
       "      <td>NaN</td>\n",
       "      <td>NaN</td>\n",
       "      <td>NaN</td>\n",
       "      <td>0</td>\n",
       "      <td>12</td>\n",
       "      <td>2008</td>\n",
       "      <td>WD</td>\n",
       "      <td>Normal</td>\n",
       "      <td>250000</td>\n",
       "    </tr>\n",
       "    <tr>\n",
       "      <th>...</th>\n",
       "      <td>...</td>\n",
       "      <td>...</td>\n",
       "      <td>...</td>\n",
       "      <td>...</td>\n",
       "      <td>...</td>\n",
       "      <td>...</td>\n",
       "      <td>...</td>\n",
       "      <td>...</td>\n",
       "      <td>...</td>\n",
       "      <td>...</td>\n",
       "      <td>...</td>\n",
       "      <td>...</td>\n",
       "      <td>...</td>\n",
       "      <td>...</td>\n",
       "      <td>...</td>\n",
       "      <td>...</td>\n",
       "      <td>...</td>\n",
       "      <td>...</td>\n",
       "      <td>...</td>\n",
       "      <td>...</td>\n",
       "      <td>...</td>\n",
       "    </tr>\n",
       "    <tr>\n",
       "      <th>1455</th>\n",
       "      <td>1456</td>\n",
       "      <td>60</td>\n",
       "      <td>RL</td>\n",
       "      <td>62.0</td>\n",
       "      <td>7917</td>\n",
       "      <td>Pave</td>\n",
       "      <td>NaN</td>\n",
       "      <td>Reg</td>\n",
       "      <td>Lvl</td>\n",
       "      <td>AllPub</td>\n",
       "      <td>...</td>\n",
       "      <td>0</td>\n",
       "      <td>NaN</td>\n",
       "      <td>NaN</td>\n",
       "      <td>NaN</td>\n",
       "      <td>0</td>\n",
       "      <td>8</td>\n",
       "      <td>2007</td>\n",
       "      <td>WD</td>\n",
       "      <td>Normal</td>\n",
       "      <td>175000</td>\n",
       "    </tr>\n",
       "    <tr>\n",
       "      <th>1456</th>\n",
       "      <td>1457</td>\n",
       "      <td>20</td>\n",
       "      <td>RL</td>\n",
       "      <td>85.0</td>\n",
       "      <td>13175</td>\n",
       "      <td>Pave</td>\n",
       "      <td>NaN</td>\n",
       "      <td>Reg</td>\n",
       "      <td>Lvl</td>\n",
       "      <td>AllPub</td>\n",
       "      <td>...</td>\n",
       "      <td>0</td>\n",
       "      <td>NaN</td>\n",
       "      <td>MnPrv</td>\n",
       "      <td>NaN</td>\n",
       "      <td>0</td>\n",
       "      <td>2</td>\n",
       "      <td>2010</td>\n",
       "      <td>WD</td>\n",
       "      <td>Normal</td>\n",
       "      <td>210000</td>\n",
       "    </tr>\n",
       "    <tr>\n",
       "      <th>1457</th>\n",
       "      <td>1458</td>\n",
       "      <td>70</td>\n",
       "      <td>RL</td>\n",
       "      <td>66.0</td>\n",
       "      <td>9042</td>\n",
       "      <td>Pave</td>\n",
       "      <td>NaN</td>\n",
       "      <td>Reg</td>\n",
       "      <td>Lvl</td>\n",
       "      <td>AllPub</td>\n",
       "      <td>...</td>\n",
       "      <td>0</td>\n",
       "      <td>NaN</td>\n",
       "      <td>GdPrv</td>\n",
       "      <td>Shed</td>\n",
       "      <td>2500</td>\n",
       "      <td>5</td>\n",
       "      <td>2010</td>\n",
       "      <td>WD</td>\n",
       "      <td>Normal</td>\n",
       "      <td>266500</td>\n",
       "    </tr>\n",
       "    <tr>\n",
       "      <th>1458</th>\n",
       "      <td>1459</td>\n",
       "      <td>20</td>\n",
       "      <td>RL</td>\n",
       "      <td>68.0</td>\n",
       "      <td>9717</td>\n",
       "      <td>Pave</td>\n",
       "      <td>NaN</td>\n",
       "      <td>Reg</td>\n",
       "      <td>Lvl</td>\n",
       "      <td>AllPub</td>\n",
       "      <td>...</td>\n",
       "      <td>0</td>\n",
       "      <td>NaN</td>\n",
       "      <td>NaN</td>\n",
       "      <td>NaN</td>\n",
       "      <td>0</td>\n",
       "      <td>4</td>\n",
       "      <td>2010</td>\n",
       "      <td>WD</td>\n",
       "      <td>Normal</td>\n",
       "      <td>142125</td>\n",
       "    </tr>\n",
       "    <tr>\n",
       "      <th>1459</th>\n",
       "      <td>1460</td>\n",
       "      <td>20</td>\n",
       "      <td>RL</td>\n",
       "      <td>75.0</td>\n",
       "      <td>9937</td>\n",
       "      <td>Pave</td>\n",
       "      <td>NaN</td>\n",
       "      <td>Reg</td>\n",
       "      <td>Lvl</td>\n",
       "      <td>AllPub</td>\n",
       "      <td>...</td>\n",
       "      <td>0</td>\n",
       "      <td>NaN</td>\n",
       "      <td>NaN</td>\n",
       "      <td>NaN</td>\n",
       "      <td>0</td>\n",
       "      <td>6</td>\n",
       "      <td>2008</td>\n",
       "      <td>WD</td>\n",
       "      <td>Normal</td>\n",
       "      <td>147500</td>\n",
       "    </tr>\n",
       "  </tbody>\n",
       "</table>\n",
       "<p>1460 rows × 81 columns</p>\n",
       "</div>"
      ],
      "text/plain": [
       "        Id  MSSubClass MSZoning  LotFrontage  LotArea Street Alley LotShape  \\\n",
       "0        1          60       RL         65.0     8450   Pave   NaN      Reg   \n",
       "1        2          20       RL         80.0     9600   Pave   NaN      Reg   \n",
       "2        3          60       RL         68.0    11250   Pave   NaN      IR1   \n",
       "3        4          70       RL         60.0     9550   Pave   NaN      IR1   \n",
       "4        5          60       RL         84.0    14260   Pave   NaN      IR1   \n",
       "...    ...         ...      ...          ...      ...    ...   ...      ...   \n",
       "1455  1456          60       RL         62.0     7917   Pave   NaN      Reg   \n",
       "1456  1457          20       RL         85.0    13175   Pave   NaN      Reg   \n",
       "1457  1458          70       RL         66.0     9042   Pave   NaN      Reg   \n",
       "1458  1459          20       RL         68.0     9717   Pave   NaN      Reg   \n",
       "1459  1460          20       RL         75.0     9937   Pave   NaN      Reg   \n",
       "\n",
       "     LandContour Utilities  ... PoolArea PoolQC  Fence MiscFeature MiscVal  \\\n",
       "0            Lvl    AllPub  ...        0    NaN    NaN         NaN       0   \n",
       "1            Lvl    AllPub  ...        0    NaN    NaN         NaN       0   \n",
       "2            Lvl    AllPub  ...        0    NaN    NaN         NaN       0   \n",
       "3            Lvl    AllPub  ...        0    NaN    NaN         NaN       0   \n",
       "4            Lvl    AllPub  ...        0    NaN    NaN         NaN       0   \n",
       "...          ...       ...  ...      ...    ...    ...         ...     ...   \n",
       "1455         Lvl    AllPub  ...        0    NaN    NaN         NaN       0   \n",
       "1456         Lvl    AllPub  ...        0    NaN  MnPrv         NaN       0   \n",
       "1457         Lvl    AllPub  ...        0    NaN  GdPrv        Shed    2500   \n",
       "1458         Lvl    AllPub  ...        0    NaN    NaN         NaN       0   \n",
       "1459         Lvl    AllPub  ...        0    NaN    NaN         NaN       0   \n",
       "\n",
       "     MoSold YrSold  SaleType  SaleCondition  SalePrice  \n",
       "0         2   2008        WD         Normal     208500  \n",
       "1         5   2007        WD         Normal     181500  \n",
       "2         9   2008        WD         Normal     223500  \n",
       "3         2   2006        WD        Abnorml     140000  \n",
       "4        12   2008        WD         Normal     250000  \n",
       "...     ...    ...       ...            ...        ...  \n",
       "1455      8   2007        WD         Normal     175000  \n",
       "1456      2   2010        WD         Normal     210000  \n",
       "1457      5   2010        WD         Normal     266500  \n",
       "1458      4   2010        WD         Normal     142125  \n",
       "1459      6   2008        WD         Normal     147500  \n",
       "\n",
       "[1460 rows x 81 columns]"
      ]
     },
     "execution_count": 4,
     "metadata": {},
     "output_type": "execute_result"
    }
   ],
   "source": [
    "df"
   ]
  },
  {
   "cell_type": "code",
   "execution_count": 5,
   "id": "18bc4a72",
   "metadata": {},
   "outputs": [
    {
     "name": "stdout",
     "output_type": "stream",
     "text": [
      "<class 'pandas.core.frame.DataFrame'>\n",
      "RangeIndex: 1460 entries, 0 to 1459\n",
      "Data columns (total 81 columns):\n",
      " #   Column         Non-Null Count  Dtype  \n",
      "---  ------         --------------  -----  \n",
      " 0   Id             1460 non-null   int64  \n",
      " 1   MSSubClass     1460 non-null   int64  \n",
      " 2   MSZoning       1460 non-null   object \n",
      " 3   LotFrontage    1201 non-null   float64\n",
      " 4   LotArea        1460 non-null   int64  \n",
      " 5   Street         1460 non-null   object \n",
      " 6   Alley          91 non-null     object \n",
      " 7   LotShape       1460 non-null   object \n",
      " 8   LandContour    1460 non-null   object \n",
      " 9   Utilities      1460 non-null   object \n",
      " 10  LotConfig      1460 non-null   object \n",
      " 11  LandSlope      1460 non-null   object \n",
      " 12  Neighborhood   1460 non-null   object \n",
      " 13  Condition1     1460 non-null   object \n",
      " 14  Condition2     1460 non-null   object \n",
      " 15  BldgType       1460 non-null   object \n",
      " 16  HouseStyle     1460 non-null   object \n",
      " 17  OverallQual    1460 non-null   int64  \n",
      " 18  OverallCond    1460 non-null   int64  \n",
      " 19  YearBuilt      1460 non-null   int64  \n",
      " 20  YearRemodAdd   1460 non-null   int64  \n",
      " 21  RoofStyle      1460 non-null   object \n",
      " 22  RoofMatl       1460 non-null   object \n",
      " 23  Exterior1st    1460 non-null   object \n",
      " 24  Exterior2nd    1460 non-null   object \n",
      " 25  MasVnrType     588 non-null    object \n",
      " 26  MasVnrArea     1452 non-null   float64\n",
      " 27  ExterQual      1460 non-null   object \n",
      " 28  ExterCond      1460 non-null   object \n",
      " 29  Foundation     1460 non-null   object \n",
      " 30  BsmtQual       1423 non-null   object \n",
      " 31  BsmtCond       1423 non-null   object \n",
      " 32  BsmtExposure   1422 non-null   object \n",
      " 33  BsmtFinType1   1423 non-null   object \n",
      " 34  BsmtFinSF1     1460 non-null   int64  \n",
      " 35  BsmtFinType2   1422 non-null   object \n",
      " 36  BsmtFinSF2     1460 non-null   int64  \n",
      " 37  BsmtUnfSF      1460 non-null   int64  \n",
      " 38  TotalBsmtSF    1460 non-null   int64  \n",
      " 39  Heating        1460 non-null   object \n",
      " 40  HeatingQC      1460 non-null   object \n",
      " 41  CentralAir     1460 non-null   object \n",
      " 42  Electrical     1459 non-null   object \n",
      " 43  1stFlrSF       1460 non-null   int64  \n",
      " 44  2ndFlrSF       1460 non-null   int64  \n",
      " 45  LowQualFinSF   1460 non-null   int64  \n",
      " 46  GrLivArea      1460 non-null   int64  \n",
      " 47  BsmtFullBath   1460 non-null   int64  \n",
      " 48  BsmtHalfBath   1460 non-null   int64  \n",
      " 49  FullBath       1460 non-null   int64  \n",
      " 50  HalfBath       1460 non-null   int64  \n",
      " 51  BedroomAbvGr   1460 non-null   int64  \n",
      " 52  KitchenAbvGr   1460 non-null   int64  \n",
      " 53  KitchenQual    1460 non-null   object \n",
      " 54  TotRmsAbvGrd   1460 non-null   int64  \n",
      " 55  Functional     1460 non-null   object \n",
      " 56  Fireplaces     1460 non-null   int64  \n",
      " 57  FireplaceQu    770 non-null    object \n",
      " 58  GarageType     1379 non-null   object \n",
      " 59  GarageYrBlt    1379 non-null   float64\n",
      " 60  GarageFinish   1379 non-null   object \n",
      " 61  GarageCars     1460 non-null   int64  \n",
      " 62  GarageArea     1460 non-null   int64  \n",
      " 63  GarageQual     1379 non-null   object \n",
      " 64  GarageCond     1379 non-null   object \n",
      " 65  PavedDrive     1460 non-null   object \n",
      " 66  WoodDeckSF     1460 non-null   int64  \n",
      " 67  OpenPorchSF    1460 non-null   int64  \n",
      " 68  EnclosedPorch  1460 non-null   int64  \n",
      " 69  3SsnPorch      1460 non-null   int64  \n",
      " 70  ScreenPorch    1460 non-null   int64  \n",
      " 71  PoolArea       1460 non-null   int64  \n",
      " 72  PoolQC         7 non-null      object \n",
      " 73  Fence          281 non-null    object \n",
      " 74  MiscFeature    54 non-null     object \n",
      " 75  MiscVal        1460 non-null   int64  \n",
      " 76  MoSold         1460 non-null   int64  \n",
      " 77  YrSold         1460 non-null   int64  \n",
      " 78  SaleType       1460 non-null   object \n",
      " 79  SaleCondition  1460 non-null   object \n",
      " 80  SalePrice      1460 non-null   int64  \n",
      "dtypes: float64(3), int64(35), object(43)\n",
      "memory usage: 924.0+ KB\n"
     ]
    }
   ],
   "source": [
    "df.info()"
   ]
  },
  {
   "cell_type": "code",
   "execution_count": 6,
   "id": "23e384f0",
   "metadata": {},
   "outputs": [
    {
     "data": {
      "text/plain": [
       "Id               1460\n",
       "MSSubClass         15\n",
       "MSZoning            5\n",
       "LotFrontage       110\n",
       "LotArea          1073\n",
       "                 ... \n",
       "MoSold             12\n",
       "YrSold              5\n",
       "SaleType            9\n",
       "SaleCondition       6\n",
       "SalePrice         663\n",
       "Length: 81, dtype: int64"
      ]
     },
     "execution_count": 6,
     "metadata": {},
     "output_type": "execute_result"
    }
   ],
   "source": [
    "df.nunique()"
   ]
  },
  {
   "cell_type": "markdown",
   "id": "514754b2",
   "metadata": {},
   "source": [
    "Checking null values"
   ]
  },
  {
   "cell_type": "code",
   "execution_count": 7,
   "id": "562ae5b4",
   "metadata": {},
   "outputs": [
    {
     "data": {
      "text/plain": [
       "Id                 0\n",
       "MSSubClass         0\n",
       "MSZoning           0\n",
       "LotFrontage      259\n",
       "LotArea            0\n",
       "                ... \n",
       "MoSold             0\n",
       "YrSold             0\n",
       "SaleType           0\n",
       "SaleCondition      0\n",
       "SalePrice          0\n",
       "Length: 81, dtype: int64"
      ]
     },
     "execution_count": 7,
     "metadata": {},
     "output_type": "execute_result"
    }
   ],
   "source": [
    "df.isnull().sum()"
   ]
  },
  {
   "cell_type": "code",
   "execution_count": 8,
   "id": "55b06958",
   "metadata": {},
   "outputs": [
    {
     "data": {
      "text/html": [
       "<div>\n",
       "<style scoped>\n",
       "    .dataframe tbody tr th:only-of-type {\n",
       "        vertical-align: middle;\n",
       "    }\n",
       "\n",
       "    .dataframe tbody tr th {\n",
       "        vertical-align: top;\n",
       "    }\n",
       "\n",
       "    .dataframe thead th {\n",
       "        text-align: right;\n",
       "    }\n",
       "</style>\n",
       "<table border=\"1\" class=\"dataframe\">\n",
       "  <thead>\n",
       "    <tr style=\"text-align: right;\">\n",
       "      <th></th>\n",
       "      <th>Id</th>\n",
       "      <th>MSSubClass</th>\n",
       "      <th>LotFrontage</th>\n",
       "      <th>LotArea</th>\n",
       "      <th>OverallQual</th>\n",
       "      <th>OverallCond</th>\n",
       "      <th>YearBuilt</th>\n",
       "      <th>YearRemodAdd</th>\n",
       "      <th>MasVnrArea</th>\n",
       "      <th>BsmtFinSF1</th>\n",
       "      <th>...</th>\n",
       "      <th>WoodDeckSF</th>\n",
       "      <th>OpenPorchSF</th>\n",
       "      <th>EnclosedPorch</th>\n",
       "      <th>3SsnPorch</th>\n",
       "      <th>ScreenPorch</th>\n",
       "      <th>PoolArea</th>\n",
       "      <th>MiscVal</th>\n",
       "      <th>MoSold</th>\n",
       "      <th>YrSold</th>\n",
       "      <th>SalePrice</th>\n",
       "    </tr>\n",
       "  </thead>\n",
       "  <tbody>\n",
       "    <tr>\n",
       "      <th>count</th>\n",
       "      <td>1460.000000</td>\n",
       "      <td>1460.000000</td>\n",
       "      <td>1201.000000</td>\n",
       "      <td>1460.000000</td>\n",
       "      <td>1460.000000</td>\n",
       "      <td>1460.000000</td>\n",
       "      <td>1460.000000</td>\n",
       "      <td>1460.000000</td>\n",
       "      <td>1452.000000</td>\n",
       "      <td>1460.000000</td>\n",
       "      <td>...</td>\n",
       "      <td>1460.000000</td>\n",
       "      <td>1460.000000</td>\n",
       "      <td>1460.000000</td>\n",
       "      <td>1460.000000</td>\n",
       "      <td>1460.000000</td>\n",
       "      <td>1460.000000</td>\n",
       "      <td>1460.000000</td>\n",
       "      <td>1460.000000</td>\n",
       "      <td>1460.000000</td>\n",
       "      <td>1460.000000</td>\n",
       "    </tr>\n",
       "    <tr>\n",
       "      <th>mean</th>\n",
       "      <td>730.500000</td>\n",
       "      <td>56.897260</td>\n",
       "      <td>70.049958</td>\n",
       "      <td>10516.828082</td>\n",
       "      <td>6.099315</td>\n",
       "      <td>5.575342</td>\n",
       "      <td>1971.267808</td>\n",
       "      <td>1984.865753</td>\n",
       "      <td>103.685262</td>\n",
       "      <td>443.639726</td>\n",
       "      <td>...</td>\n",
       "      <td>94.244521</td>\n",
       "      <td>46.660274</td>\n",
       "      <td>21.954110</td>\n",
       "      <td>3.409589</td>\n",
       "      <td>15.060959</td>\n",
       "      <td>2.758904</td>\n",
       "      <td>43.489041</td>\n",
       "      <td>6.321918</td>\n",
       "      <td>2007.815753</td>\n",
       "      <td>180921.195890</td>\n",
       "    </tr>\n",
       "    <tr>\n",
       "      <th>std</th>\n",
       "      <td>421.610009</td>\n",
       "      <td>42.300571</td>\n",
       "      <td>24.284752</td>\n",
       "      <td>9981.264932</td>\n",
       "      <td>1.382997</td>\n",
       "      <td>1.112799</td>\n",
       "      <td>30.202904</td>\n",
       "      <td>20.645407</td>\n",
       "      <td>181.066207</td>\n",
       "      <td>456.098091</td>\n",
       "      <td>...</td>\n",
       "      <td>125.338794</td>\n",
       "      <td>66.256028</td>\n",
       "      <td>61.119149</td>\n",
       "      <td>29.317331</td>\n",
       "      <td>55.757415</td>\n",
       "      <td>40.177307</td>\n",
       "      <td>496.123024</td>\n",
       "      <td>2.703626</td>\n",
       "      <td>1.328095</td>\n",
       "      <td>79442.502883</td>\n",
       "    </tr>\n",
       "    <tr>\n",
       "      <th>min</th>\n",
       "      <td>1.000000</td>\n",
       "      <td>20.000000</td>\n",
       "      <td>21.000000</td>\n",
       "      <td>1300.000000</td>\n",
       "      <td>1.000000</td>\n",
       "      <td>1.000000</td>\n",
       "      <td>1872.000000</td>\n",
       "      <td>1950.000000</td>\n",
       "      <td>0.000000</td>\n",
       "      <td>0.000000</td>\n",
       "      <td>...</td>\n",
       "      <td>0.000000</td>\n",
       "      <td>0.000000</td>\n",
       "      <td>0.000000</td>\n",
       "      <td>0.000000</td>\n",
       "      <td>0.000000</td>\n",
       "      <td>0.000000</td>\n",
       "      <td>0.000000</td>\n",
       "      <td>1.000000</td>\n",
       "      <td>2006.000000</td>\n",
       "      <td>34900.000000</td>\n",
       "    </tr>\n",
       "    <tr>\n",
       "      <th>25%</th>\n",
       "      <td>365.750000</td>\n",
       "      <td>20.000000</td>\n",
       "      <td>59.000000</td>\n",
       "      <td>7553.500000</td>\n",
       "      <td>5.000000</td>\n",
       "      <td>5.000000</td>\n",
       "      <td>1954.000000</td>\n",
       "      <td>1967.000000</td>\n",
       "      <td>0.000000</td>\n",
       "      <td>0.000000</td>\n",
       "      <td>...</td>\n",
       "      <td>0.000000</td>\n",
       "      <td>0.000000</td>\n",
       "      <td>0.000000</td>\n",
       "      <td>0.000000</td>\n",
       "      <td>0.000000</td>\n",
       "      <td>0.000000</td>\n",
       "      <td>0.000000</td>\n",
       "      <td>5.000000</td>\n",
       "      <td>2007.000000</td>\n",
       "      <td>129975.000000</td>\n",
       "    </tr>\n",
       "    <tr>\n",
       "      <th>50%</th>\n",
       "      <td>730.500000</td>\n",
       "      <td>50.000000</td>\n",
       "      <td>69.000000</td>\n",
       "      <td>9478.500000</td>\n",
       "      <td>6.000000</td>\n",
       "      <td>5.000000</td>\n",
       "      <td>1973.000000</td>\n",
       "      <td>1994.000000</td>\n",
       "      <td>0.000000</td>\n",
       "      <td>383.500000</td>\n",
       "      <td>...</td>\n",
       "      <td>0.000000</td>\n",
       "      <td>25.000000</td>\n",
       "      <td>0.000000</td>\n",
       "      <td>0.000000</td>\n",
       "      <td>0.000000</td>\n",
       "      <td>0.000000</td>\n",
       "      <td>0.000000</td>\n",
       "      <td>6.000000</td>\n",
       "      <td>2008.000000</td>\n",
       "      <td>163000.000000</td>\n",
       "    </tr>\n",
       "    <tr>\n",
       "      <th>75%</th>\n",
       "      <td>1095.250000</td>\n",
       "      <td>70.000000</td>\n",
       "      <td>80.000000</td>\n",
       "      <td>11601.500000</td>\n",
       "      <td>7.000000</td>\n",
       "      <td>6.000000</td>\n",
       "      <td>2000.000000</td>\n",
       "      <td>2004.000000</td>\n",
       "      <td>166.000000</td>\n",
       "      <td>712.250000</td>\n",
       "      <td>...</td>\n",
       "      <td>168.000000</td>\n",
       "      <td>68.000000</td>\n",
       "      <td>0.000000</td>\n",
       "      <td>0.000000</td>\n",
       "      <td>0.000000</td>\n",
       "      <td>0.000000</td>\n",
       "      <td>0.000000</td>\n",
       "      <td>8.000000</td>\n",
       "      <td>2009.000000</td>\n",
       "      <td>214000.000000</td>\n",
       "    </tr>\n",
       "    <tr>\n",
       "      <th>max</th>\n",
       "      <td>1460.000000</td>\n",
       "      <td>190.000000</td>\n",
       "      <td>313.000000</td>\n",
       "      <td>215245.000000</td>\n",
       "      <td>10.000000</td>\n",
       "      <td>9.000000</td>\n",
       "      <td>2010.000000</td>\n",
       "      <td>2010.000000</td>\n",
       "      <td>1600.000000</td>\n",
       "      <td>5644.000000</td>\n",
       "      <td>...</td>\n",
       "      <td>857.000000</td>\n",
       "      <td>547.000000</td>\n",
       "      <td>552.000000</td>\n",
       "      <td>508.000000</td>\n",
       "      <td>480.000000</td>\n",
       "      <td>738.000000</td>\n",
       "      <td>15500.000000</td>\n",
       "      <td>12.000000</td>\n",
       "      <td>2010.000000</td>\n",
       "      <td>755000.000000</td>\n",
       "    </tr>\n",
       "  </tbody>\n",
       "</table>\n",
       "<p>8 rows × 38 columns</p>\n",
       "</div>"
      ],
      "text/plain": [
       "                Id   MSSubClass  LotFrontage        LotArea  OverallQual  \\\n",
       "count  1460.000000  1460.000000  1201.000000    1460.000000  1460.000000   \n",
       "mean    730.500000    56.897260    70.049958   10516.828082     6.099315   \n",
       "std     421.610009    42.300571    24.284752    9981.264932     1.382997   \n",
       "min       1.000000    20.000000    21.000000    1300.000000     1.000000   \n",
       "25%     365.750000    20.000000    59.000000    7553.500000     5.000000   \n",
       "50%     730.500000    50.000000    69.000000    9478.500000     6.000000   \n",
       "75%    1095.250000    70.000000    80.000000   11601.500000     7.000000   \n",
       "max    1460.000000   190.000000   313.000000  215245.000000    10.000000   \n",
       "\n",
       "       OverallCond    YearBuilt  YearRemodAdd   MasVnrArea   BsmtFinSF1  ...  \\\n",
       "count  1460.000000  1460.000000   1460.000000  1452.000000  1460.000000  ...   \n",
       "mean      5.575342  1971.267808   1984.865753   103.685262   443.639726  ...   \n",
       "std       1.112799    30.202904     20.645407   181.066207   456.098091  ...   \n",
       "min       1.000000  1872.000000   1950.000000     0.000000     0.000000  ...   \n",
       "25%       5.000000  1954.000000   1967.000000     0.000000     0.000000  ...   \n",
       "50%       5.000000  1973.000000   1994.000000     0.000000   383.500000  ...   \n",
       "75%       6.000000  2000.000000   2004.000000   166.000000   712.250000  ...   \n",
       "max       9.000000  2010.000000   2010.000000  1600.000000  5644.000000  ...   \n",
       "\n",
       "        WoodDeckSF  OpenPorchSF  EnclosedPorch    3SsnPorch  ScreenPorch  \\\n",
       "count  1460.000000  1460.000000    1460.000000  1460.000000  1460.000000   \n",
       "mean     94.244521    46.660274      21.954110     3.409589    15.060959   \n",
       "std     125.338794    66.256028      61.119149    29.317331    55.757415   \n",
       "min       0.000000     0.000000       0.000000     0.000000     0.000000   \n",
       "25%       0.000000     0.000000       0.000000     0.000000     0.000000   \n",
       "50%       0.000000    25.000000       0.000000     0.000000     0.000000   \n",
       "75%     168.000000    68.000000       0.000000     0.000000     0.000000   \n",
       "max     857.000000   547.000000     552.000000   508.000000   480.000000   \n",
       "\n",
       "          PoolArea       MiscVal       MoSold       YrSold      SalePrice  \n",
       "count  1460.000000   1460.000000  1460.000000  1460.000000    1460.000000  \n",
       "mean      2.758904     43.489041     6.321918  2007.815753  180921.195890  \n",
       "std      40.177307    496.123024     2.703626     1.328095   79442.502883  \n",
       "min       0.000000      0.000000     1.000000  2006.000000   34900.000000  \n",
       "25%       0.000000      0.000000     5.000000  2007.000000  129975.000000  \n",
       "50%       0.000000      0.000000     6.000000  2008.000000  163000.000000  \n",
       "75%       0.000000      0.000000     8.000000  2009.000000  214000.000000  \n",
       "max     738.000000  15500.000000    12.000000  2010.000000  755000.000000  \n",
       "\n",
       "[8 rows x 38 columns]"
      ]
     },
     "execution_count": 8,
     "metadata": {},
     "output_type": "execute_result"
    }
   ],
   "source": [
    "df.describe()"
   ]
  },
  {
   "cell_type": "markdown",
   "id": "59773056",
   "metadata": {},
   "source": [
    "Drop these absolutely useless column with lots of nAn values"
   ]
  },
  {
   "cell_type": "code",
   "execution_count": 9,
   "id": "6066cede",
   "metadata": {},
   "outputs": [],
   "source": [
    "df = df.drop(columns=['Id', 'PoolQC', 'FireplaceQu'])"
   ]
  },
  {
   "cell_type": "markdown",
   "id": "91463bd3",
   "metadata": {},
   "source": [
    "Categorizing Data into numerical and categorical"
   ]
  },
  {
   "cell_type": "code",
   "execution_count": 10,
   "id": "d8f3455b",
   "metadata": {},
   "outputs": [
    {
     "name": "stdout",
     "output_type": "stream",
     "text": [
      "Numerical Columns \n",
      " Index(['MSSubClass', 'LotFrontage', 'LotArea', 'OverallQual', 'OverallCond',\n",
      "       'YearBuilt', 'YearRemodAdd', 'MasVnrArea', 'BsmtFinSF1', 'BsmtFinSF2',\n",
      "       'BsmtUnfSF', 'TotalBsmtSF', '1stFlrSF', '2ndFlrSF', 'LowQualFinSF',\n",
      "       'GrLivArea', 'BsmtFullBath', 'BsmtHalfBath', 'FullBath', 'HalfBath',\n",
      "       'BedroomAbvGr', 'KitchenAbvGr', 'TotRmsAbvGrd', 'Fireplaces',\n",
      "       'GarageYrBlt', 'GarageCars', 'GarageArea', 'WoodDeckSF', 'OpenPorchSF',\n",
      "       'EnclosedPorch', '3SsnPorch', 'ScreenPorch', 'PoolArea', 'MiscVal',\n",
      "       'MoSold', 'YrSold', 'SalePrice'],\n",
      "      dtype='object') \n",
      "\n",
      "Categorical Columns \n",
      " Index(['MSZoning', 'Street', 'Alley', 'LotShape', 'LandContour', 'Utilities',\n",
      "       'LotConfig', 'LandSlope', 'Neighborhood', 'Condition1', 'Condition2',\n",
      "       'BldgType', 'HouseStyle', 'RoofStyle', 'RoofMatl', 'Exterior1st',\n",
      "       'Exterior2nd', 'MasVnrType', 'ExterQual', 'ExterCond', 'Foundation',\n",
      "       'BsmtQual', 'BsmtCond', 'BsmtExposure', 'BsmtFinType1', 'BsmtFinType2',\n",
      "       'Heating', 'HeatingQC', 'CentralAir', 'Electrical', 'KitchenQual',\n",
      "       'Functional', 'GarageType', 'GarageFinish', 'GarageQual', 'GarageCond',\n",
      "       'PavedDrive', 'Fence', 'MiscFeature', 'SaleType', 'SaleCondition'],\n",
      "      dtype='object')\n"
     ]
    }
   ],
   "source": [
    "numerical_column=df.select_dtypes(include=['int64','float64']).columns\n",
    "categorical_columns=df.select_dtypes(include=['object']).columns\n",
    "print(\"Numerical Columns \\n\",numerical_column,\"\\n\")\n",
    "print(\"Categorical Columns \\n\",categorical_columns)"
   ]
  },
  {
   "cell_type": "markdown",
   "id": "e9bc3de0",
   "metadata": {},
   "source": [
    "Checking percentage of null values before Data Cleaning and Feature Engineering"
   ]
  },
  {
   "cell_type": "code",
   "execution_count": 11,
   "id": "b59e433a",
   "metadata": {},
   "outputs": [
    {
     "data": {
      "text/html": [
       "<div>\n",
       "<style scoped>\n",
       "    .dataframe tbody tr th:only-of-type {\n",
       "        vertical-align: middle;\n",
       "    }\n",
       "\n",
       "    .dataframe tbody tr th {\n",
       "        vertical-align: top;\n",
       "    }\n",
       "\n",
       "    .dataframe thead th {\n",
       "        text-align: right;\n",
       "    }\n",
       "</style>\n",
       "<table border=\"1\" class=\"dataframe\">\n",
       "  <thead>\n",
       "    <tr style=\"text-align: right;\">\n",
       "      <th></th>\n",
       "      <th>Total</th>\n",
       "      <th>Percent</th>\n",
       "    </tr>\n",
       "  </thead>\n",
       "  <tbody>\n",
       "    <tr>\n",
       "      <th>MiscFeature</th>\n",
       "      <td>1406</td>\n",
       "      <td>96.30</td>\n",
       "    </tr>\n",
       "    <tr>\n",
       "      <th>Alley</th>\n",
       "      <td>1369</td>\n",
       "      <td>93.77</td>\n",
       "    </tr>\n",
       "    <tr>\n",
       "      <th>Fence</th>\n",
       "      <td>1179</td>\n",
       "      <td>80.75</td>\n",
       "    </tr>\n",
       "    <tr>\n",
       "      <th>MasVnrType</th>\n",
       "      <td>872</td>\n",
       "      <td>59.73</td>\n",
       "    </tr>\n",
       "    <tr>\n",
       "      <th>LotFrontage</th>\n",
       "      <td>259</td>\n",
       "      <td>17.74</td>\n",
       "    </tr>\n",
       "    <tr>\n",
       "      <th>...</th>\n",
       "      <td>...</td>\n",
       "      <td>...</td>\n",
       "    </tr>\n",
       "    <tr>\n",
       "      <th>TotalBsmtSF</th>\n",
       "      <td>0</td>\n",
       "      <td>0.00</td>\n",
       "    </tr>\n",
       "    <tr>\n",
       "      <th>Heating</th>\n",
       "      <td>0</td>\n",
       "      <td>0.00</td>\n",
       "    </tr>\n",
       "    <tr>\n",
       "      <th>MSZoning</th>\n",
       "      <td>0</td>\n",
       "      <td>0.00</td>\n",
       "    </tr>\n",
       "    <tr>\n",
       "      <th>CentralAir</th>\n",
       "      <td>0</td>\n",
       "      <td>0.00</td>\n",
       "    </tr>\n",
       "    <tr>\n",
       "      <th>SalePrice</th>\n",
       "      <td>0</td>\n",
       "      <td>0.00</td>\n",
       "    </tr>\n",
       "  </tbody>\n",
       "</table>\n",
       "<p>78 rows × 2 columns</p>\n",
       "</div>"
      ],
      "text/plain": [
       "             Total  Percent\n",
       "MiscFeature   1406    96.30\n",
       "Alley         1369    93.77\n",
       "Fence         1179    80.75\n",
       "MasVnrType     872    59.73\n",
       "LotFrontage    259    17.74\n",
       "...            ...      ...\n",
       "TotalBsmtSF      0     0.00\n",
       "Heating          0     0.00\n",
       "MSZoning         0     0.00\n",
       "CentralAir       0     0.00\n",
       "SalePrice        0     0.00\n",
       "\n",
       "[78 rows x 2 columns]"
      ]
     },
     "execution_count": 11,
     "metadata": {},
     "output_type": "execute_result"
    }
   ],
   "source": [
    "total = df.isnull().sum().sort_values(ascending = False)\n",
    "percent = (df.isnull().sum()/df.shape[0]*100).round(2).sort_values(ascending = False)\n",
    "pd.concat([total, percent], axis=1, keys=['Total', 'Percent'])\n"
   ]
  },
  {
   "cell_type": "markdown",
   "id": "60df45c3",
   "metadata": {},
   "source": [
    "Checking diff values in Alley"
   ]
  },
  {
   "cell_type": "code",
   "execution_count": 12,
   "id": "0593ce78",
   "metadata": {},
   "outputs": [
    {
     "data": {
      "text/plain": [
       "Alley\n",
       "NaN     1369\n",
       "Grvl      50\n",
       "Pave      41\n",
       "Name: count, dtype: int64"
      ]
     },
     "execution_count": 12,
     "metadata": {},
     "output_type": "execute_result"
    }
   ],
   "source": [
    "df['Alley'].value_counts(dropna = False)"
   ]
  },
  {
   "cell_type": "markdown",
   "id": "537b12a5",
   "metadata": {},
   "source": [
    "Replacing Nan values with NA"
   ]
  },
  {
   "cell_type": "code",
   "execution_count": 13,
   "id": "ea1f5784",
   "metadata": {},
   "outputs": [
    {
     "name": "stderr",
     "output_type": "stream",
     "text": [
      "/var/folders/35/h2vzj0092n76sg7z3vjwcv3r0000gn/T/ipykernel_3377/1494726707.py:1: FutureWarning: A value is trying to be set on a copy of a DataFrame or Series through chained assignment using an inplace method.\n",
      "The behavior will change in pandas 3.0. This inplace method will never work because the intermediate object on which we are setting values always behaves as a copy.\n",
      "\n",
      "For example, when doing 'df[col].method(value, inplace=True)', try using 'df.method({col: value}, inplace=True)' or df[col] = df[col].method(value) instead, to perform the operation inplace on the original object.\n",
      "\n",
      "\n",
      "  df['Alley'].fillna('NA', inplace = True)\n"
     ]
    }
   ],
   "source": [
    "df['Alley'].fillna('NA', inplace = True)"
   ]
  },
  {
   "cell_type": "markdown",
   "id": "9380e56e",
   "metadata": {},
   "source": [
    "Checking diff values in Masonry veneer type"
   ]
  },
  {
   "cell_type": "code",
   "execution_count": 14,
   "id": "df25206b",
   "metadata": {},
   "outputs": [
    {
     "data": {
      "text/plain": [
       "MasVnrType\n",
       "NaN        872\n",
       "BrkFace    445\n",
       "Stone      128\n",
       "BrkCmn      15\n",
       "Name: count, dtype: int64"
      ]
     },
     "execution_count": 14,
     "metadata": {},
     "output_type": "execute_result"
    }
   ],
   "source": [
    "df['MasVnrType'].value_counts(dropna = False)"
   ]
  },
  {
   "cell_type": "markdown",
   "id": "05a361d5",
   "metadata": {},
   "source": [
    "Filling NaN values with mode"
   ]
  },
  {
   "cell_type": "code",
   "execution_count": 15,
   "id": "4469fc4e",
   "metadata": {},
   "outputs": [
    {
     "name": "stderr",
     "output_type": "stream",
     "text": [
      "/var/folders/35/h2vzj0092n76sg7z3vjwcv3r0000gn/T/ipykernel_3377/4196558824.py:2: FutureWarning: A value is trying to be set on a copy of a DataFrame or Series through chained assignment using an inplace method.\n",
      "The behavior will change in pandas 3.0. This inplace method will never work because the intermediate object on which we are setting values always behaves as a copy.\n",
      "\n",
      "For example, when doing 'df[col].method(value, inplace=True)', try using 'df.method({col: value}, inplace=True)' or df[col] = df[col].method(value) instead, to perform the operation inplace on the original object.\n",
      "\n",
      "\n",
      "  df['MasVnrType'].fillna(m, inplace = True)\n"
     ]
    }
   ],
   "source": [
    "m = df['MasVnrType'].mode()[0]\n",
    "df['MasVnrType'].fillna(m, inplace = True)"
   ]
  },
  {
   "cell_type": "markdown",
   "id": "1e03b34e",
   "metadata": {},
   "source": [
    "Reconstructing all Basement related columns"
   ]
  },
  {
   "cell_type": "code",
   "execution_count": 16,
   "id": "53a455e2",
   "metadata": {},
   "outputs": [],
   "source": [
    "#basement related fields with missing values\n",
    "cols = ['BsmtQual','BsmtCond','BsmtExposure','BsmtFinType1','BsmtFinType2']\n",
    "\n",
    "#imputing 'NA' in place of NaN for the above columns where there is no basement\n",
    "df.loc[df['TotalBsmtSF'] == 0, cols] = df.loc[df['TotalBsmtSF'] == 0, cols].fillna('NA')"
   ]
  },
  {
   "cell_type": "markdown",
   "id": "9617b15b",
   "metadata": {},
   "source": [
    "Checking diff values in Electrical"
   ]
  },
  {
   "cell_type": "code",
   "execution_count": 17,
   "id": "ad252762",
   "metadata": {},
   "outputs": [
    {
     "data": {
      "text/plain": [
       "Electrical\n",
       "SBrkr    1334\n",
       "FuseA      94\n",
       "FuseF      27\n",
       "FuseP       3\n",
       "Mix         1\n",
       "NaN         1\n",
       "Name: count, dtype: int64"
      ]
     },
     "execution_count": 17,
     "metadata": {},
     "output_type": "execute_result"
    }
   ],
   "source": [
    "df['Electrical'].value_counts(dropna = False)"
   ]
  },
  {
   "cell_type": "markdown",
   "id": "c2504a43",
   "metadata": {},
   "source": [
    "Filing nan values with mode"
   ]
  },
  {
   "cell_type": "code",
   "execution_count": 18,
   "id": "fc5971d9",
   "metadata": {},
   "outputs": [
    {
     "name": "stderr",
     "output_type": "stream",
     "text": [
      "/var/folders/35/h2vzj0092n76sg7z3vjwcv3r0000gn/T/ipykernel_3377/804612581.py:1: FutureWarning: A value is trying to be set on a copy of a DataFrame or Series through chained assignment using an inplace method.\n",
      "The behavior will change in pandas 3.0. This inplace method will never work because the intermediate object on which we are setting values always behaves as a copy.\n",
      "\n",
      "For example, when doing 'df[col].method(value, inplace=True)', try using 'df.method({col: value}, inplace=True)' or df[col] = df[col].method(value) instead, to perform the operation inplace on the original object.\n",
      "\n",
      "\n",
      "  df['Electrical'].fillna(df['Electrical'].mode()[0], inplace = True)\n"
     ]
    }
   ],
   "source": [
    "df['Electrical'].fillna(df['Electrical'].mode()[0], inplace = True)"
   ]
  },
  {
   "cell_type": "markdown",
   "id": "44848cad",
   "metadata": {},
   "source": [
    "Reconstructing all Garage related columns"
   ]
  },
  {
   "cell_type": "code",
   "execution_count": 19,
   "id": "4049ad14",
   "metadata": {},
   "outputs": [
    {
     "name": "stderr",
     "output_type": "stream",
     "text": [
      "/var/folders/35/h2vzj0092n76sg7z3vjwcv3r0000gn/T/ipykernel_3377/133794807.py:5: FutureWarning: Setting an item of incompatible dtype is deprecated and will raise an error in a future version of pandas. Value '['NA' 'NA' 'NA' 'NA' 'NA' 'NA' 'NA' 'NA' 'NA' 'NA' 'NA' 'NA' 'NA' 'NA'\n",
      " 'NA' 'NA' 'NA' 'NA' 'NA' 'NA' 'NA' 'NA' 'NA' 'NA' 'NA' 'NA' 'NA' 'NA'\n",
      " 'NA' 'NA' 'NA' 'NA' 'NA' 'NA' 'NA' 'NA' 'NA' 'NA' 'NA' 'NA' 'NA' 'NA'\n",
      " 'NA' 'NA' 'NA' 'NA' 'NA' 'NA' 'NA' 'NA' 'NA' 'NA' 'NA' 'NA' 'NA' 'NA'\n",
      " 'NA' 'NA' 'NA' 'NA' 'NA' 'NA' 'NA' 'NA' 'NA' 'NA' 'NA' 'NA' 'NA' 'NA'\n",
      " 'NA' 'NA' 'NA' 'NA' 'NA' 'NA' 'NA' 'NA' 'NA' 'NA' 'NA']' has dtype incompatible with float64, please explicitly cast to a compatible dtype first.\n",
      "  df.loc[df['GarageArea'] == 0, cols] = df.loc[df['GarageArea'] == 0, cols].fillna('NA')\n"
     ]
    }
   ],
   "source": [
    "#garage related fields with missing values\n",
    "cols = ['GarageType','GarageYrBlt','GarageFinish','GarageQual','GarageCond']\n",
    "\n",
    "#imputing 'NA' in place of NaN for the above columns where there is no basement\n",
    "df.loc[df['GarageArea'] == 0, cols] = df.loc[df['GarageArea'] == 0, cols].fillna('NA')"
   ]
  },
  {
   "cell_type": "markdown",
   "id": "4b80f433",
   "metadata": {},
   "source": [
    "Filling NaN values of fence with NA"
   ]
  },
  {
   "cell_type": "code",
   "execution_count": 20,
   "id": "9c833c84",
   "metadata": {},
   "outputs": [
    {
     "name": "stderr",
     "output_type": "stream",
     "text": [
      "/var/folders/35/h2vzj0092n76sg7z3vjwcv3r0000gn/T/ipykernel_3377/744867289.py:1: FutureWarning: A value is trying to be set on a copy of a DataFrame or Series through chained assignment using an inplace method.\n",
      "The behavior will change in pandas 3.0. This inplace method will never work because the intermediate object on which we are setting values always behaves as a copy.\n",
      "\n",
      "For example, when doing 'df[col].method(value, inplace=True)', try using 'df.method({col: value}, inplace=True)' or df[col] = df[col].method(value) instead, to perform the operation inplace on the original object.\n",
      "\n",
      "\n",
      "  df['Fence'].fillna('NA', inplace = True)\n"
     ]
    }
   ],
   "source": [
    "df['Fence'].fillna('NA', inplace = True)"
   ]
  },
  {
   "cell_type": "markdown",
   "id": "c5a5ee03",
   "metadata": {},
   "source": [
    "Checking diff values in Miscellaneous"
   ]
  },
  {
   "cell_type": "code",
   "execution_count": 21,
   "id": "95f493ae",
   "metadata": {},
   "outputs": [
    {
     "data": {
      "text/plain": [
       "MiscFeature\n",
       "NaN     1406\n",
       "Shed      49\n",
       "Gar2       2\n",
       "Othr       2\n",
       "TenC       1\n",
       "Name: count, dtype: int64"
      ]
     },
     "execution_count": 21,
     "metadata": {},
     "output_type": "execute_result"
    }
   ],
   "source": [
    "df['MiscFeature'].value_counts(dropna = False)"
   ]
  },
  {
   "cell_type": "markdown",
   "id": "80f4c0c3",
   "metadata": {},
   "source": [
    "Changing the MiscFeature to Shed/ No Shed"
   ]
  },
  {
   "cell_type": "code",
   "execution_count": 22,
   "id": "694035fc",
   "metadata": {},
   "outputs": [
    {
     "data": {
      "text/plain": [
       "Shed\n",
       "0    1411\n",
       "1      49\n",
       "Name: count, dtype: int64"
      ]
     },
     "execution_count": 22,
     "metadata": {},
     "output_type": "execute_result"
    }
   ],
   "source": [
    "df['MiscFeature'] = df['MiscFeature'].map(lambda x: 1 if x == 'Shed' else 0)\n",
    "\n",
    "df = df.rename(columns = {'MiscFeature': 'Shed'})\n",
    "df['Shed'].value_counts()"
   ]
  },
  {
   "cell_type": "markdown",
   "id": "112f7736",
   "metadata": {},
   "source": [
    "Renaming MiscFeature to Shed"
   ]
  },
  {
   "cell_type": "code",
   "execution_count": 23,
   "id": "bcbb80f9",
   "metadata": {},
   "outputs": [],
   "source": [
    "df = df.rename(columns = {'MiscVal': 'ShedVal'})"
   ]
  },
  {
   "cell_type": "markdown",
   "id": "09ffc646",
   "metadata": {},
   "source": [
    "checking pending null values to better clean the dataset"
   ]
  },
  {
   "cell_type": "code",
   "execution_count": 24,
   "id": "011af406",
   "metadata": {},
   "outputs": [
    {
     "name": "stdout",
     "output_type": "stream",
     "text": [
      "<class 'pandas.core.frame.DataFrame'>\n",
      "RangeIndex: 1460 entries, 0 to 1459\n",
      "Data columns (total 78 columns):\n",
      " #   Column         Non-Null Count  Dtype  \n",
      "---  ------         --------------  -----  \n",
      " 0   MSSubClass     1460 non-null   int64  \n",
      " 1   MSZoning       1460 non-null   object \n",
      " 2   LotFrontage    1201 non-null   float64\n",
      " 3   LotArea        1460 non-null   int64  \n",
      " 4   Street         1460 non-null   object \n",
      " 5   Alley          1460 non-null   object \n",
      " 6   LotShape       1460 non-null   object \n",
      " 7   LandContour    1460 non-null   object \n",
      " 8   Utilities      1460 non-null   object \n",
      " 9   LotConfig      1460 non-null   object \n",
      " 10  LandSlope      1460 non-null   object \n",
      " 11  Neighborhood   1460 non-null   object \n",
      " 12  Condition1     1460 non-null   object \n",
      " 13  Condition2     1460 non-null   object \n",
      " 14  BldgType       1460 non-null   object \n",
      " 15  HouseStyle     1460 non-null   object \n",
      " 16  OverallQual    1460 non-null   int64  \n",
      " 17  OverallCond    1460 non-null   int64  \n",
      " 18  YearBuilt      1460 non-null   int64  \n",
      " 19  YearRemodAdd   1460 non-null   int64  \n",
      " 20  RoofStyle      1460 non-null   object \n",
      " 21  RoofMatl       1460 non-null   object \n",
      " 22  Exterior1st    1460 non-null   object \n",
      " 23  Exterior2nd    1460 non-null   object \n",
      " 24  MasVnrType     1460 non-null   object \n",
      " 25  MasVnrArea     1452 non-null   float64\n",
      " 26  ExterQual      1460 non-null   object \n",
      " 27  ExterCond      1460 non-null   object \n",
      " 28  Foundation     1460 non-null   object \n",
      " 29  BsmtQual       1460 non-null   object \n",
      " 30  BsmtCond       1460 non-null   object \n",
      " 31  BsmtExposure   1459 non-null   object \n",
      " 32  BsmtFinType1   1460 non-null   object \n",
      " 33  BsmtFinSF1     1460 non-null   int64  \n",
      " 34  BsmtFinType2   1459 non-null   object \n",
      " 35  BsmtFinSF2     1460 non-null   int64  \n",
      " 36  BsmtUnfSF      1460 non-null   int64  \n",
      " 37  TotalBsmtSF    1460 non-null   int64  \n",
      " 38  Heating        1460 non-null   object \n",
      " 39  HeatingQC      1460 non-null   object \n",
      " 40  CentralAir     1460 non-null   object \n",
      " 41  Electrical     1460 non-null   object \n",
      " 42  1stFlrSF       1460 non-null   int64  \n",
      " 43  2ndFlrSF       1460 non-null   int64  \n",
      " 44  LowQualFinSF   1460 non-null   int64  \n",
      " 45  GrLivArea      1460 non-null   int64  \n",
      " 46  BsmtFullBath   1460 non-null   int64  \n",
      " 47  BsmtHalfBath   1460 non-null   int64  \n",
      " 48  FullBath       1460 non-null   int64  \n",
      " 49  HalfBath       1460 non-null   int64  \n",
      " 50  BedroomAbvGr   1460 non-null   int64  \n",
      " 51  KitchenAbvGr   1460 non-null   int64  \n",
      " 52  KitchenQual    1460 non-null   object \n",
      " 53  TotRmsAbvGrd   1460 non-null   int64  \n",
      " 54  Functional     1460 non-null   object \n",
      " 55  Fireplaces     1460 non-null   int64  \n",
      " 56  GarageType     1460 non-null   object \n",
      " 57  GarageYrBlt    1460 non-null   object \n",
      " 58  GarageFinish   1460 non-null   object \n",
      " 59  GarageCars     1460 non-null   int64  \n",
      " 60  GarageArea     1460 non-null   int64  \n",
      " 61  GarageQual     1460 non-null   object \n",
      " 62  GarageCond     1460 non-null   object \n",
      " 63  PavedDrive     1460 non-null   object \n",
      " 64  WoodDeckSF     1460 non-null   int64  \n",
      " 65  OpenPorchSF    1460 non-null   int64  \n",
      " 66  EnclosedPorch  1460 non-null   int64  \n",
      " 67  3SsnPorch      1460 non-null   int64  \n",
      " 68  ScreenPorch    1460 non-null   int64  \n",
      " 69  PoolArea       1460 non-null   int64  \n",
      " 70  Fence          1460 non-null   object \n",
      " 71  Shed           1460 non-null   int64  \n",
      " 72  ShedVal        1460 non-null   int64  \n",
      " 73  MoSold         1460 non-null   int64  \n",
      " 74  YrSold         1460 non-null   int64  \n",
      " 75  SaleType       1460 non-null   object \n",
      " 76  SaleCondition  1460 non-null   object \n",
      " 77  SalePrice      1460 non-null   int64  \n",
      "dtypes: float64(2), int64(35), object(41)\n",
      "memory usage: 889.8+ KB\n"
     ]
    }
   ],
   "source": [
    "df.info()"
   ]
  },
  {
   "cell_type": "markdown",
   "id": "9f58986a",
   "metadata": {},
   "source": [
    "Replacing NA in LotFrontage with 0 as all other vlues are numericals"
   ]
  },
  {
   "cell_type": "code",
   "execution_count": 25,
   "id": "3a21c102",
   "metadata": {},
   "outputs": [
    {
     "name": "stderr",
     "output_type": "stream",
     "text": [
      "/var/folders/35/h2vzj0092n76sg7z3vjwcv3r0000gn/T/ipykernel_3377/2394256573.py:1: FutureWarning: A value is trying to be set on a copy of a DataFrame or Series through chained assignment using an inplace method.\n",
      "The behavior will change in pandas 3.0. This inplace method will never work because the intermediate object on which we are setting values always behaves as a copy.\n",
      "\n",
      "For example, when doing 'df[col].method(value, inplace=True)', try using 'df.method({col: value}, inplace=True)' or df[col] = df[col].method(value) instead, to perform the operation inplace on the original object.\n",
      "\n",
      "\n",
      "  df['LotFrontage'].replace('NA',0, inplace = True)\n"
     ]
    }
   ],
   "source": [
    "df['LotFrontage'].replace('NA',0, inplace = True)"
   ]
  },
  {
   "cell_type": "markdown",
   "id": "5b3a5605",
   "metadata": {},
   "source": [
    "Checking diff values in LotFrontage"
   ]
  },
  {
   "cell_type": "code",
   "execution_count": 26,
   "id": "875261ac",
   "metadata": {},
   "outputs": [
    {
     "data": {
      "text/plain": [
       "Street\n",
       "Pave    1454\n",
       "Grvl       6\n",
       "Name: count, dtype: int64"
      ]
     },
     "execution_count": 26,
     "metadata": {},
     "output_type": "execute_result"
    }
   ],
   "source": [
    "df['Street'].value_counts()"
   ]
  },
  {
   "cell_type": "markdown",
   "id": "541d47aa",
   "metadata": {},
   "source": [
    "If Street is Paved then it is 1 else 0"
   ]
  },
  {
   "cell_type": "code",
   "execution_count": 27,
   "id": "24c9dd05",
   "metadata": {},
   "outputs": [],
   "source": [
    "df['Street'] = df['Street'].apply(lambda x: 1 if x == 'Pave' else 0)"
   ]
  },
  {
   "cell_type": "markdown",
   "id": "b6761b53",
   "metadata": {},
   "source": [
    "If Alley exists then it is 1 else 0"
   ]
  },
  {
   "cell_type": "code",
   "execution_count": 28,
   "id": "b53652ba",
   "metadata": {},
   "outputs": [],
   "source": [
    "df['Alley'] = df['Alley'].apply(lambda x: 1 if x == 'NA' else 0)"
   ]
  },
  {
   "cell_type": "code",
   "execution_count": 29,
   "id": "6493ec40",
   "metadata": {},
   "outputs": [],
   "source": [
    "#Convert CentralAir to binary (Y=1, N=0)\n",
    "df['CentralAir'] = df['CentralAir'].map({'Y': 1, 'N': 0})\n",
    "\n",
    "#Convert Utilities to binary (AllPub=1, No=0)\n",
    "df['Utilities'] = df['Utilities'].map({'AllPub': 1, 'No': 0})\n",
    "\n",
    "#Convert BsmtCond to binary (TA=1, Fa=0)\n",
    "df['BsmtCond'] = df['BsmtCond'].map({'TA': 1, 'Fa': 0})\n",
    "\n",
    "#Convert BsmtExposure to binary (Gd=1, No=0)\n",
    "df['BsmtExposure'] = df['BsmtExposure'].map({'Gd': 1, 'No': 0})"
   ]
  },
  {
   "cell_type": "markdown",
   "id": "453b3f17",
   "metadata": {},
   "source": [
    "Creating column to store Age of house and when it was renovated"
   ]
  },
  {
   "cell_type": "code",
   "execution_count": 30,
   "id": "acd7e9b4",
   "metadata": {},
   "outputs": [],
   "source": [
    "from datetime import datetime \n",
    "#Create Age Features\n",
    "current_year = datetime.now().year\n",
    "df['HouseAge'] = current_year - df['YearBuilt']\n",
    "df['RemodAge'] = current_year - df['YearRemodAdd']"
   ]
  },
  {
   "cell_type": "markdown",
   "id": "620f4c94",
   "metadata": {},
   "source": [
    "Create Time Since Sold feature"
   ]
  },
  {
   "cell_type": "code",
   "execution_count": 31,
   "id": "01d5e58f",
   "metadata": {},
   "outputs": [
    {
     "name": "stdout",
     "output_type": "stream",
     "text": [
      "   CentralAir  YearBuilt  YearRemodAdd  YrSold  HouseAge  RemodAge  \\\n",
      "0           1       2003          2003    2008        22        22   \n",
      "1           1       1976          1976    2007        49        49   \n",
      "2           1       2001          2002    2008        24        23   \n",
      "3           1       1915          1970    2006       110        55   \n",
      "4           1       2000          2000    2008        25        25   \n",
      "\n",
      "   YearsSinceSold  \n",
      "0              17  \n",
      "1              18  \n",
      "2              17  \n",
      "3              19  \n",
      "4              17  \n"
     ]
    }
   ],
   "source": [
    "df['YearsSinceSold'] = current_year - df['YrSold']\n",
    "\n",
    "print(df[['CentralAir', 'YearBuilt', 'YearRemodAdd', 'YrSold', 'HouseAge', 'RemodAge', 'YearsSinceSold']].head())"
   ]
  },
  {
   "cell_type": "markdown",
   "id": "34cacd44",
   "metadata": {},
   "source": [
    "Creating TotalBath by summing full and half baths"
   ]
  },
  {
   "cell_type": "code",
   "execution_count": 32,
   "id": "3741bb3c",
   "metadata": {},
   "outputs": [],
   "source": [
    "df['TotalBath'] = (df['FullBath'] + \n",
    "                  0.5 * df['HalfBath'] + \n",
    "                  df['BsmtFullBath'] + \n",
    "                  0.5 * df['BsmtHalfBath'])"
   ]
  },
  {
   "cell_type": "markdown",
   "id": "bce45c46",
   "metadata": {},
   "source": [
    "Ordinal Encoding"
   ]
  },
  {
   "cell_type": "code",
   "execution_count": 33,
   "id": "f1f72329",
   "metadata": {},
   "outputs": [],
   "source": [
    "# Quality/Condition mappings\n",
    "quality_map = {\n",
    "    'Ex': 5, \n",
    "    'Gd': 4, \n",
    "    'TA': 3, \n",
    "    'Fa': 2, \n",
    "    'Po': 1, \n",
    "    'NA': 0, \n",
    "    'None': 0\n",
    "}\n",
    "\n",
    "# Apply to quality/condition columns\n",
    "quality_cols = [\n",
    "    'ExterQual', 'ExterCond', \n",
    "    'BsmtQual', 'BsmtCond', \n",
    "    'HeatingQC', \n",
    "    'KitchenQual', \n",
    "    'FireplaceQu', \n",
    "    'GarageQual', 'GarageCond', \n",
    "    'PoolQC'\n",
    "]\n",
    "\n",
    "for col in quality_cols:\n",
    "    if col in df.columns:\n",
    "        df[col] = df[col].map(quality_map).fillna(0).astype(int)\n",
    "\n",
    "# GarageFinish mapping\n",
    "garage_finish_map = {\n",
    "    'Fin': 3,\n",
    "    'RFn': 2,\n",
    "    'Unf': 1,\n",
    "    'None': 0,\n",
    "    'NA': 0\n",
    "}\n",
    "\n",
    "if 'GarageFinish' in df.columns:\n",
    "    df['GarageFinish'] = df['GarageFinish'].map(garage_finish_map).fillna(0).astype(int)\n",
    "\n",
    "# Additional ordinal features\n",
    "bsmt_exposure_map = {\n",
    "    'Gd': 4,\n",
    "    'Av': 3,\n",
    "    'Mn': 2,\n",
    "    'No': 1,\n",
    "    'NA': 0,\n",
    "    'None': 0\n",
    "}\n",
    "\n",
    "bsmt_fin_type_map = {\n",
    "    'GLQ': 6,\n",
    "    'ALQ': 5,\n",
    "    'BLQ': 4,\n",
    "    'Rec': 3,\n",
    "    'LwQ': 2,\n",
    "    'Unf': 1,\n",
    "    'NA': 0,\n",
    "    'None': 0\n",
    "}\n",
    "\n",
    "functional_map = {\n",
    "    'Typ': 8,\n",
    "    'Min1': 7,\n",
    "    'Min2': 6,\n",
    "    'Mod': 5,\n",
    "    'Maj1': 4,\n",
    "    'Maj2': 3,\n",
    "    'Sev': 2,\n",
    "    'Sal': 1,\n",
    "    'NA': 0\n",
    "}\n",
    "\n",
    "# Apply additional mappings\n",
    "if 'BsmtExposure' in df.columns:\n",
    "    df['BsmtExposure'] = df['BsmtExposure'].map(bsmt_exposure_map).fillna(0).astype(int)\n",
    "\n",
    "bsmt_fin_cols = ['BsmtFinType1', 'BsmtFinType2']\n",
    "for col in bsmt_fin_cols:\n",
    "    if col in df.columns:\n",
    "        df[col] = df[col].map(bsmt_fin_type_map).fillna(0).astype(int)\n",
    "\n",
    "if 'Functional' in df.columns:\n",
    "    df['Functional'] = df['Functional'].map(functional_map).fillna(0).astype(int)"
   ]
  },
  {
   "cell_type": "code",
   "execution_count": 34,
   "id": "807b91b8",
   "metadata": {},
   "outputs": [
    {
     "name": "stdout",
     "output_type": "stream",
     "text": [
      "      ExterQual  KitchenQual  GarageFinish  BsmtExposure  BsmtFinType1  \\\n",
      "0             4            4             2             0             6   \n",
      "1             3            3             2             0             5   \n",
      "2             4            4             2             0             6   \n",
      "3             3            4             1             0             5   \n",
      "4             4            4             2             0             6   \n",
      "...         ...          ...           ...           ...           ...   \n",
      "1455          3            3             2             0             1   \n",
      "1456          3            3             1             0             5   \n",
      "1457          5            4             2             0             6   \n",
      "1458          3            4             1             0             6   \n",
      "1459          4            3             3             0             4   \n",
      "\n",
      "      Functional  \n",
      "0              8  \n",
      "1              8  \n",
      "2              8  \n",
      "3              8  \n",
      "4              8  \n",
      "...          ...  \n",
      "1455           8  \n",
      "1456           7  \n",
      "1457           8  \n",
      "1458           8  \n",
      "1459           8  \n",
      "\n",
      "[1460 rows x 6 columns]\n"
     ]
    }
   ],
   "source": [
    "print(df[['ExterQual', 'KitchenQual', 'GarageFinish', 'BsmtExposure', 'BsmtFinType1', 'Functional']])"
   ]
  },
  {
   "cell_type": "code",
   "execution_count": 35,
   "id": "e18df096",
   "metadata": {},
   "outputs": [],
   "source": [
    "#Convert columns to categorical\n",
    "categorical_cols = ['MoSold', 'YrSold', 'MSSubClass', 'OverallQual', 'OverallCond']\n",
    "for col in categorical_cols:\n",
    "    if col in df.columns:\n",
    "        df[col] = df[col].astype('category')"
   ]
  },
  {
   "cell_type": "markdown",
   "id": "93213872",
   "metadata": {},
   "source": [
    "Multiplyin co-realted columns"
   ]
  },
  {
   "cell_type": "code",
   "execution_count": 36,
   "id": "ce0195dd",
   "metadata": {},
   "outputs": [
    {
     "name": "stdout",
     "output_type": "stream",
     "text": [
      "New columns created:\n",
      "   TotalSF  TotalSF_OverallQual  GarageCars_Area  TotalBath_GrLivArea\n",
      "0     2566                17962             1096               5985.0\n",
      "1     2524                15144              920               3155.0\n",
      "2     2706                18942             1216               6251.0\n",
      "3     2473                17311             1926               3434.0\n",
      "4     3343                26744             2508               7693.0\n"
     ]
    }
   ],
   "source": [
    "if '1stFlrSF' in df.columns and '2ndFlrSF' in df.columns and 'TotalBsmtSF' in df.columns:\n",
    "    df['TotalSF'] = df['1stFlrSF'] + df['2ndFlrSF'] + df['TotalBsmtSF']\n",
    "\n",
    "df['TotalSF_OverallQual'] = df['TotalSF'] * df['OverallQual'].astype('int')\n",
    "df['GarageCars_Area'] = df['GarageCars'] * df['GarageArea']\n",
    "df['TotalBath_GrLivArea'] = df['TotalBath'] * df['GrLivArea']\n",
    "\n",
    "print(\"New columns created:\")\n",
    "print(df[['TotalSF', 'TotalSF_OverallQual', 'GarageCars_Area', 'TotalBath_GrLivArea']].head())"
   ]
  },
  {
   "cell_type": "code",
   "execution_count": 37,
   "id": "d98f48b8",
   "metadata": {},
   "outputs": [],
   "source": [
    "cols = ['LotFrontage', 'LotArea', 'MasVnrArea', 'TotalBsmtSF', '1stFlrSF', \n",
    "        '2ndFlrSF', 'GarageArea', 'WoodDeckSF', 'OpenPorchSF', 'GrLivArea',\n",
    "        'TotalSF', 'SalePrice'] "
   ]
  },
  {
   "cell_type": "code",
   "execution_count": 38,
   "id": "fc1d672b",
   "metadata": {},
   "outputs": [
    {
     "ename": "ValueError",
     "evalue": "num must be an integer with 1 <= num <= 10, not 11",
     "output_type": "error",
     "traceback": [
      "\u001b[31m---------------------------------------------------------------------------\u001b[39m",
      "\u001b[31mValueError\u001b[39m                                Traceback (most recent call last)",
      "\u001b[36mCell\u001b[39m\u001b[36m \u001b[39m\u001b[32mIn[38]\u001b[39m\u001b[32m, line 11\u001b[39m\n\u001b[32m      8\u001b[39m plt.figure(figsize=(\u001b[32m16\u001b[39m, \u001b[32m10\u001b[39m))\n\u001b[32m     10\u001b[39m \u001b[38;5;28;01mfor\u001b[39;00m i, col \u001b[38;5;129;01min\u001b[39;00m \u001b[38;5;28menumerate\u001b[39m(cols):\n\u001b[32m---> \u001b[39m\u001b[32m11\u001b[39m     \u001b[43mplt\u001b[49m\u001b[43m.\u001b[49m\u001b[43msubplot\u001b[49m\u001b[43m(\u001b[49m\u001b[32;43m2\u001b[39;49m\u001b[43m,\u001b[49m\u001b[43m \u001b[49m\u001b[32;43m5\u001b[39;49m\u001b[43m,\u001b[49m\u001b[43m \u001b[49m\u001b[43mi\u001b[49m\u001b[43m \u001b[49m\u001b[43m+\u001b[49m\u001b[43m \u001b[49m\u001b[32;43m1\u001b[39;49m\u001b[43m)\u001b[49m\n\u001b[32m     12\u001b[39m     sns.boxplot(y=df[col])\n\u001b[32m     13\u001b[39m     plt.title(col)\n",
      "\u001b[36mFile \u001b[39m\u001b[32m/Library/Frameworks/Python.framework/Versions/3.13/lib/python3.13/site-packages/matplotlib/pyplot.py:1552\u001b[39m, in \u001b[36msubplot\u001b[39m\u001b[34m(*args, **kwargs)\u001b[39m\n\u001b[32m   1549\u001b[39m fig = gcf()\n\u001b[32m   1551\u001b[39m \u001b[38;5;66;03m# First, search for an existing subplot with a matching spec.\u001b[39;00m\n\u001b[32m-> \u001b[39m\u001b[32m1552\u001b[39m key = \u001b[43mSubplotSpec\u001b[49m\u001b[43m.\u001b[49m\u001b[43m_from_subplot_args\u001b[49m\u001b[43m(\u001b[49m\u001b[43mfig\u001b[49m\u001b[43m,\u001b[49m\u001b[43m \u001b[49m\u001b[43margs\u001b[49m\u001b[43m)\u001b[49m\n\u001b[32m   1554\u001b[39m \u001b[38;5;28;01mfor\u001b[39;00m ax \u001b[38;5;129;01min\u001b[39;00m fig.axes:\n\u001b[32m   1555\u001b[39m     \u001b[38;5;66;03m# If we found an Axes at the position, we can reuse it if the user passed no\u001b[39;00m\n\u001b[32m   1556\u001b[39m     \u001b[38;5;66;03m# kwargs or if the Axes class and kwargs are identical.\u001b[39;00m\n\u001b[32m   1557\u001b[39m     \u001b[38;5;28;01mif\u001b[39;00m (ax.get_subplotspec() == key\n\u001b[32m   1558\u001b[39m         \u001b[38;5;129;01mand\u001b[39;00m (kwargs == {}\n\u001b[32m   1559\u001b[39m              \u001b[38;5;129;01mor\u001b[39;00m (ax._projection_init\n\u001b[32m   1560\u001b[39m                  == fig._process_projection_requirements(**kwargs)))):\n",
      "\u001b[36mFile \u001b[39m\u001b[32m/Library/Frameworks/Python.framework/Versions/3.13/lib/python3.13/site-packages/matplotlib/gridspec.py:589\u001b[39m, in \u001b[36mSubplotSpec._from_subplot_args\u001b[39m\u001b[34m(figure, args)\u001b[39m\n\u001b[32m    587\u001b[39m \u001b[38;5;28;01melse\u001b[39;00m:\n\u001b[32m    588\u001b[39m     \u001b[38;5;28;01mif\u001b[39;00m \u001b[38;5;129;01mnot\u001b[39;00m \u001b[38;5;28misinstance\u001b[39m(num, Integral) \u001b[38;5;129;01mor\u001b[39;00m num < \u001b[32m1\u001b[39m \u001b[38;5;129;01mor\u001b[39;00m num > rows*cols:\n\u001b[32m--> \u001b[39m\u001b[32m589\u001b[39m         \u001b[38;5;28;01mraise\u001b[39;00m \u001b[38;5;167;01mValueError\u001b[39;00m(\n\u001b[32m    590\u001b[39m             \u001b[33mf\u001b[39m\u001b[33m\"\u001b[39m\u001b[33mnum must be an integer with 1 <= num <= \u001b[39m\u001b[38;5;132;01m{\u001b[39;00mrows*cols\u001b[38;5;132;01m}\u001b[39;00m\u001b[33m, \u001b[39m\u001b[33m\"\u001b[39m\n\u001b[32m    591\u001b[39m             \u001b[33mf\u001b[39m\u001b[33m\"\u001b[39m\u001b[33mnot \u001b[39m\u001b[38;5;132;01m{\u001b[39;00mnum\u001b[38;5;132;01m!r}\u001b[39;00m\u001b[33m\"\u001b[39m\n\u001b[32m    592\u001b[39m         )\n\u001b[32m    593\u001b[39m     i = j = num\n\u001b[32m    594\u001b[39m \u001b[38;5;28;01mreturn\u001b[39;00m gs[i-\u001b[32m1\u001b[39m:j]\n",
      "\u001b[31mValueError\u001b[39m: num must be an integer with 1 <= num <= 10, not 11"
     ]
    },
    {
     "data": {
      "image/png": "[encoded data removed]",
      "text/plain": [
       "<Figure size 1600x1000 with 10 Axes>"
      ]
     },
     "metadata": {},
     "output_type": "display_data"
    }
   ],
   "source": [
    "import matplotlib.pyplot as plt\n",
    "import seaborn as sns\n",
    "\n",
    "cols = ['LotFrontage', 'LotArea', 'MasVnrArea',\n",
    "        'TotalBsmtSF', '1stFlrSF', '2ndFlrSF',\n",
    "        'GarageArea', 'WoodDeckSF', 'OpenPorchSF', 'EnclosedPorch', '3SsnPorch', 'ScreenPorch', 'PoolArea', 'MiscVal']\n",
    "\n",
    "plt.figure(figsize=(16, 10))\n",
    "\n",
    "for i, col in enumerate(cols):\n",
    "    plt.subplot(2, 5, i + 1)\n",
    "    sns.boxplot(y=df[col])\n",
    "    plt.title(col)\n",
    "\n",
    "plt.tight_layout()\n",
    "plt.show()"
   ]
  },
  {
   "cell_type": "code",
   "execution_count": null,
   "id": "654ff677",
   "metadata": {},
   "outputs": [],
   "source": [
    "def calculate_upper_limits(df, col):\n",
    "    Q1 = df[col].quantile(0.25)\n",
    "    Q3 = df[col].quantile(0.75)\n",
    "    IQR = Q3 - Q1\n",
    "    return Q3 + 1.5 * IQR\n",
    "\n",
    "# Calculate upper limits\n",
    "ul_LotArea = calculate_upper_limits(df, \"LotArea\")\n",
    "ul_LotFrontage = calculate_upper_limits(df, \"LotFrontage\")\n",
    "ul_1stFlrSF = calculate_upper_limits(df, \"1stFlrSF\")\n",
    "ul_MasVnrArea = calculate_upper_limits(df, \"MasVnrArea\")\n",
    "ul_TotalBsmtSF = calculate_upper_limits(df, \"TotalBsmtSF\")\n",
    "ul_WoodDeckSF = calculate_upper_limits(df, \"WoodDeckSF\")\n",
    "ul_OpenPorchSF = calculate_upper_limits(df, \"OpenPorchSF\")\n",
    "\n",
    "# Apply filter to remove outliers\n",
    "df_cleaned = df[~((df[\"LotArea\"] > ul_LotArea) |\n",
    "                  (df[\"LotFrontage\"] > ul_LotFrontage) |\n",
    "                  (df[\"1stFlrSF\"] > ul_1stFlrSF) |\n",
    "                  (df[\"MasVnrArea\"] > ul_MasVnrArea) |\n",
    "                  (df[\"TotalBsmtSF\"] > ul_TotalBsmtSF) |\n",
    "                  (df[\"WoodDeckSF\"] > ul_WoodDeckSF) |\n",
    "                  (df[\"OpenPorchSF\"] > ul_OpenPorchSF))]"
   ]
  },
  {
   "cell_type": "code",
   "execution_count": null,
   "id": "88b24f6e",
   "metadata": {},
   "outputs": [],
   "source": [
    "cols = [\"LotArea\", \"LotFrontage\", \"1stFlrSF\", \n",
    "        \"MasVnrArea\", \"TotalBsmtSF\", \"WoodDeckSF\", \"OpenPorchSF\"]\n",
    "\n",
    "\n",
    "plt.figure(figsize=(16, 8))\n",
    "for i, col in enumerate(cols):\n",
    "    plt.subplot(2, 4, i + 1)  # 2 rows, 4 cols grid\n",
    "    sns.boxplot(y=df_cleaned[col])\n",
    "    plt.title(f'After - {col}')\n",
    "\n",
    "plt.tight_layout()\n",
    "plt.show()"
   ]
  },
  {
   "cell_type": "code",
   "execution_count": null,
   "id": "01322811",
   "metadata": {},
   "outputs": [],
   "source": [
    "df.shape"
   ]
  },
  {
   "cell_type": "code",
   "execution_count": null,
   "id": "0e8cc7cf",
   "metadata": {},
   "outputs": [],
   "source": [
    "categorical_columns = df.select_dtypes(exclude=np.number).columns\n",
    "\n",
    "plt.figure(figsize=(20, 34))\n",
    "for i, col in enumerate(categorical_columns):\n",
    "    plt.subplot(11, 4, i+1)\n",
    "    sns.boxplot(x=df[col], y=df['SalePrice'])\n",
    "    plt.title(col)\n",
    "\n",
    "plt.tight_layout()\n",
    "plt.show()"
   ]
  },
  {
   "cell_type": "code",
   "execution_count": null,
   "id": "7fb7d1ef",
   "metadata": {},
   "outputs": [],
   "source": [
    "numerical_column = df.select_dtypes(include=np.number).columns\n",
    "\n",
    "plt.figure(figsize=(20, 34))\n",
    "for i, col in enumerate(numerical_column):\n",
    "    plt.subplot(11, 4, i+1)\n",
    "    sns.boxplot(x=df[col], y=df['SalePrice'])\n",
    "    plt.title(col)\n",
    "\n",
    "plt.tight_layout()\n",
    "plt.show()"
   ]
  },
  {
   "cell_type": "code",
   "execution_count": null,
   "id": "9004f14b",
   "metadata": {},
   "outputs": [],
   "source": [
    "import matplotlib.pyplot as plt\n",
    "\n",
    "# Select numeric columns excluding SalePrice\n",
    "num_cols = [col for col in df.select_dtypes(include=np.number).columns if col != 'SalePrice']\n",
    "\n",
    "# Create subplots grid\n",
    "rows = (len(num_cols) // 4) + 1  # 4 columns per row\n",
    "fig, axes = plt.subplots(rows, 4, figsize=(20, rows * 4))  # dynamic height\n",
    "\n",
    "axes = axes.flatten()  # flatten 2D array of axes\n",
    "\n",
    "for i, col in enumerate(num_cols):\n",
    "    axes[i].scatter(df[col], df['SalePrice'], alpha=0.6)\n",
    "    axes[i].set_title(f\"{col} vs SalePrice\", fontsize=10)\n",
    "    axes[i].set_xlabel(col, fontsize=8)\n",
    "    axes[i].set_ylabel(\"SalePrice\", fontsize=8)\n",
    "\n",
    "# Hide unused subplots (if any)\n",
    "for j in range(i + 1, len(axes)):\n",
    "    fig.delaxes(axes[j])\n",
    "\n",
    "# Adjust spacing\n",
    "plt.subplots_adjust(hspace=0.4, wspace=0.3)\n",
    "plt.show()"
   ]
  },
  {
   "cell_type": "code",
   "execution_count": null,
   "id": "fff4858c",
   "metadata": {},
   "outputs": [],
   "source": [
    "import matplotlib.pyplot as plt\n",
    "import seaborn as sns\n",
    "\n",
    "# Correlation matrix only on numeric columns\n",
    "corr = df.select_dtypes(include=['number']).corr()\n",
    "\n",
    "plt.figure(figsize=(22, 18))\n",
    "\n",
    "sns.heatmap(\n",
    "    corr, \n",
    "    annot=True, \n",
    "    fmt=\".2f\", \n",
    "    cmap=\"Reds\", \n",
    "    linewidths=0.3, \n",
    "    linecolor=\"white\",\n",
    "    cbar_kws={\n",
    "        \"orientation\": \"vertical\",\n",
    "        \"shrink\": 0.8,\n",
    "        \"pad\": 0.02,\n",
    "        \"aspect\": 30\n",
    "    }\n",
    ")\n",
    "\n",
    "plt.xticks(rotation=90, fontsize=12)\n",
    "plt.yticks(rotation=0, fontsize=12)\n",
    "\n",
    "plt.title(\"Correlation Heatmap of Numerical Features\", fontsize=18, pad=20)\n",
    "plt.show()"
   ]
  },
  {
   "cell_type": "markdown",
   "id": "d2d6620f",
   "metadata": {},
   "source": [
    "**To Do**"
   ]
  },
  {
   "cell_type": "markdown",
   "id": "e2e23953",
   "metadata": {},
   "source": [
    "The company is looking at prospective properties to buy to enter the market. You are required to build a regression model using regularization in order to predict the actual value of the prospective properties and decide whether to invest in them or not.\n",
    "\n",
    "The company wants to know:\n",
    "\n",
    "1. Which variables are significant in predicting the price of a house, and\n",
    "\n",
    "2. How well those variables describe the price of a house.\n",
    "\n",
    "3. Also, determine the optimal value of lambda for ridge and lasso regression.\n",
    "\n",
    "Business Goal\n",
    "\n",
    "You are required to model the price of houses with the available independent variables. This model will then be used by the management to understand how exactly the prices vary with the variables. They can accordingly manipulate the strategy of the firm and concentrate on areas that will yield high returns. Further, the model will be a good way for management to understand the pricing dynamics of a new market."
   ]
  },
  {
   "cell_type": "code",
   "execution_count": null,
   "id": "69822711",
   "metadata": {},
   "outputs": [],
   "source": [
    "# --- Corrected Visualization of Target Variable ---\n",
    "plt.figure(figsize=[18, 6])\n",
    "# Plot original SalePrice\n",
    "plt.subplot(1, 2, 1)\n",
    "sns.histplot(df['SalePrice'], kde=True, stat=\"density\", linewidth=0)\n",
    "# Fit a normal distribution to the data\n",
    "mu, std = norm.fit(df['SalePrice'])\n",
    "xmin, xmax = plt.xlim()\n",
    "x = np.linspace(xmin, xmax, 100)\n",
    "p = norm.pdf(x, mu, std)\n",
    "plt.plot(x, p, 'k', linewidth=2)\n",
    "title = \"Fit results: mu = %.2f,  std = %.2f\" % (mu, std)\n",
    "plt.title(title)\n",
    "plt.ylabel('Frequency')\n",
    "plt.title('SalePrice Distribution')"
   ]
  },
  {
   "cell_type": "code",
   "execution_count": null,
   "id": "a4cf30e5",
   "metadata": {},
   "outputs": [],
   "source": [
    "df['SalePrice'] = np.log1p(df['SalePrice'])"
   ]
  },
  {
   "cell_type": "code",
   "execution_count": null,
   "id": "fc8e51a5",
   "metadata": {},
   "outputs": [],
   "source": [
    "plt.subplot(1, 2, 2)\n",
    "log_saleprice = np.log1p(df['SalePrice']) # Use log1p for stability\n",
    "sns.histplot(log_saleprice, kde=True, stat=\"density\", linewidth=0)\n",
    "# Fit a normal distribution to the transformed data\n",
    "mu, std = norm.fit(log_saleprice)\n",
    "xmin, xmax = plt.xlim()\n",
    "x = np.linspace(xmin, xmax, 100)\n",
    "p = norm.pdf(x, mu, std)\n",
    "plt.plot(x, p, 'k', linewidth=2)\n",
    "title = \"Fit results: mu = %.2f,  std = %.2f\" % (mu, std)\n",
    "plt.title(title)\n",
    "plt.ylabel('Frequency')\n",
    "plt.title('Log(SalePrice) Distribution')\n",
    "plt.show()"
   ]
  },
  {
   "cell_type": "code",
   "execution_count": null,
   "id": "6bb9064c",
   "metadata": {},
   "outputs": [],
   "source": [
    "from sklearn.model_selection import train_test_split\n",
    "from sklearn.preprocessing import StandardScaler\n",
    "\n",
    "X = df.drop('SalePrice', axis=1)\n",
    "y = df['SalePrice']\n",
    "\n",
    "# 2. Split the data into training and testing sets.\n",
    "X_train, X_test, y_train, y_test = train_test_split(X, y, test_size=0.2, random_state=42)\n",
    "\n",
    "# 3. Identify the true numerical columns to scale.\n",
    "cols_to_scale = [col for col in X_train.columns if col in numerical_column and col != 'SalePrice']\n",
    "\n",
    "scaler = StandardScaler()\n",
    "scaler.fit(X_train[cols_to_scale])\n",
    "\n",
    "# 6. Transform both the training and testing sets using the fitted scaler\n",
    "X_train[cols_to_scale] = scaler.transform(X_train[cols_to_scale])\n",
    "X_test[cols_to_scale] = scaler.transform(X_test[cols_to_scale])\n",
    "\n",
    "print(\"Scaled X_train head:\")\n",
    "print(X_train.head())"
   ]
  },
  {
   "cell_type": "code",
   "execution_count": null,
   "id": "23871d14",
   "metadata": {},
   "outputs": [],
   "source": [
    "from sklearn.linear_model import LinearRegression, Ridge, Lasso, RidgeCV, LassoCV\n",
    "from sklearn.metrics import mean_squared_error, r2_score\n",
    "import numpy as np\n",
    "import seaborn as sns\n",
    "import matplotlib.pyplot as plt"
   ]
  },
  {
   "cell_type": "code",
   "execution_count": null,
   "id": "91bc2949",
   "metadata": {},
   "outputs": [],
   "source": [
    "'''\n",
    "1. first, identify remaining categorical columns\n",
    "categorical_columns = x_train.select_dtypes(include=['object', 'category']).columns\n",
    "print(\"remaining categorical columns:\", categorical_columns)\n",
    "\n",
    "# 2. Use one-hot encoding for remaining categorical columns\n",
    "X_train = pd.get_dummies(X_train, columns=categorical_columns, drop_first=True)\n",
    "X_test = pd.get_dummies(X_test, columns=categorical_columns, drop_first=True)\n",
    "\n",
    "# 3. Ensure X_test has same columns as X_train\n",
    "missing_cols = set(X_train.columns) - set(X_test.columns)\n",
    "for col in missing_cols:\n",
    "    X_test[col] = 0\n",
    "X_test = X_test[X_train.columns]\n",
    "\n",
    "# 4. Now try fitting the models\n",
    "ridge_cv = RidgeCV(\n",
    "    alphas=np.logspace(-3, 2, 100),\n",
    "    cv=5\n",
    ")\n",
    "ridge_cv.fit(X_train, y_train)\n",
    "\n",
    "lasso_cv = LassoCV(\n",
    "    alphas=np.logspace(-4, -1, 100),\n",
    "    cv=5,\n",
    "    random_state=42,\n",
    "    max_iter=10000\n",
    ")\n",
    "lasso_cv.fit(X_train, y_train)\n",
    "\n",
    "print(\"\\n--- Optimal Lambda Values ---\")\n",
    "print(f\"Optimal Lambda for Ridge Regression: {ridge_cv.alpha_:.4f}\")\n",
    "print(f\"Optimal Lambda for Lasso Regression: {lasso_cv.alpha_:.4f}\")\n",
    "\n",
    "# 5. Print feature importances\n",
    "feature_importance = pd.DataFrame({\n",
    "    'Feature': X_train.columns,\n",
    "    'Ridge_Importance': abs(ridge_cv.coef_),\n",
    "    'Lasso_Importance': abs(lasso_cv.coef_)\n",
    "})\n",
    "\n",
    "print(\"\\nTop 10 Most Important Features:\")\n",
    "print(feature_importance.sort_values('Ridge_Importance', ascending=False).head(10))\n",
    "'''"
   ]
  },
  {
   "cell_type": "markdown",
   "id": "6fb049a4",
   "metadata": {},
   "source": [
    "ValueError: Input X contains NaN.\n",
    "\n",
    "Ridge does not accept missing values encoded as NaN natively. For supervised learning, you might want to consider sklearn.ensemble.HistGradientBoostingClassifier and Regressor which accept missing values encoded as NaNs natively. Alternatively, it is possible to preprocess the data, for instance by using an imputer transformer in a pipeline or drop samples with missing values. See https://scikit-learn.org/stable/modules/impute.html You can find a list of all estimators that handle NaN values at the following page: https://scikit-learn.org/stable/modules/impute.html#estimators-that-handle-nan-values\n",
    "\n"
   ]
  },
  {
   "cell_type": "code",
   "execution_count": null,
   "id": "382a6fb8",
   "metadata": {},
   "outputs": [],
   "source": [
    "#First check remaining NaN values\n",
    "print(\"Columns with NaN values:\")\n",
    "print(X_train.isna().sum()[X_train.isna().sum() > 0])"
   ]
  },
  {
   "cell_type": "code",
   "execution_count": null,
   "id": "36de4c9a",
   "metadata": {},
   "outputs": [],
   "source": [
    "#Handle NaN values in numerical columns\n",
    "numerical_cols = X_train.select_dtypes(include=['int64', 'float64']).columns\n",
    "for col in numerical_cols:\n",
    "# Fill NaN with median for numerical columns\n",
    "    X_train[col] = X_train[col].fillna(X_train[col].median())\n",
    "    X_test[col] = X_test[col].fillna(X_train[col].median())  "
   ]
  },
  {
   "cell_type": "code",
   "execution_count": null,
   "id": "553aaf41",
   "metadata": {},
   "outputs": [],
   "source": [
    "#Handle NaN values in categorical columns\n",
    "categorical_columns = X_train.select_dtypes(include=['object', 'category']).columns\n",
    "for col in categorical_columns:\n",
    "    # Fill NaN with mode for categorical columns\n",
    "    X_train[col] = X_train[col].fillna(X_train[col].mode()[0])\n",
    "    X_test[col] = X_test[col].fillna(X_train[col].mode()[0])"
   ]
  },
  {
   "cell_type": "code",
   "execution_count": null,
   "id": "f88c697c",
   "metadata": {},
   "outputs": [],
   "source": [
    "#Verify there are no NaNs left\n",
    "print(\"\\nRemaining NaN values after imputation:\")\n",
    "print(\"Training set:\", X_train.isna().sum().sum())\n",
    "print(\"Test set:\", X_test.isna().sum().sum())"
   ]
  },
  {
   "cell_type": "code",
   "execution_count": null,
   "id": "de8176c2",
   "metadata": {},
   "outputs": [],
   "source": [
    "X_train = pd.get_dummies(X_train, columns=categorical_columns, drop_first=True)\n",
    "X_test = pd.get_dummies(X_test, columns=categorical_columns, drop_first=True)"
   ]
  },
  {
   "cell_type": "code",
   "execution_count": null,
   "id": "f2ad6311",
   "metadata": {},
   "outputs": [],
   "source": [
    "#Ensure X_test has same columns as X_train\n",
    "missing_cols = set(X_train.columns) - set(X_test.columns)\n",
    "for col in missing_cols:\n",
    "    X_test[col] = 0\n",
    "X_test = X_test[X_train.columns]"
   ]
  },
  {
   "cell_type": "code",
   "execution_count": null,
   "id": "1c102d56",
   "metadata": {},
   "outputs": [],
   "source": [
    "ridge_cv = RidgeCV( alphas=np.logspace(-3, 2, 100), cv=5)\n",
    "ridge_cv.fit(X_train, y_train)\n",
    "\n",
    "lasso_cv = LassoCV( alphas=np.logspace(-4, -1, 100), cv=5,\n",
    "    random_state=42, max_iter=10000)\n",
    "lasso_cv.fit(X_train, y_train)"
   ]
  },
  {
   "cell_type": "code",
   "execution_count": null,
   "id": "285119a7",
   "metadata": {},
   "outputs": [],
   "source": [
    "print(f\"Lambda for Ridge Regression: {ridge_cv.alpha_:.4f}\")\n",
    "print(f\"Lambda for Lasso Regression: {lasso_cv.alpha_:.4f}\")"
   ]
  },
  {
   "cell_type": "code",
   "execution_count": null,
   "id": "ce59c2db",
   "metadata": {},
   "outputs": [],
   "source": [
    "def print_model_performance(model, X_train, X_test, y_train, y_test, model_name):\n",
    "    y_train_pred = model.predict(X_train)\n",
    "    y_test_pred = model.predict(X_test)\n",
    "    \n",
    "    train_r2 = r2_score(y_train, y_train_pred)\n",
    "    test_r2 = r2_score(y_test, y_test_pred)\n",
    "    \n",
    "    train_rmse = np.sqrt(mean_squared_error(y_train, y_train_pred))\n",
    "    test_rmse = np.sqrt(mean_squared_error(y_test, y_test_pred))\n",
    "    \n",
    "    print(f\"\\n{model_name} Performance:\")\n",
    "    print(f\"Training R2: {train_r2:.4f}\")\n",
    "    print(f\"Testing R2: {test_r2:.4f}\")\n",
    "    print(f\"Training RMSE: {train_rmse:.4f}\")\n",
    "    print(f\"Testing RMSE: {test_rmse:.4f}\")\n",
    "\n",
    "print_model_performance(ridge_cv, X_train, X_test, y_train, y_test, \"Ridge\")\n",
    "print_model_performance(lasso_cv, X_train, X_test, y_train, y_test, \"Lasso\")"
   ]
  },
  {
   "cell_type": "code",
   "execution_count": null,
   "id": "12ffaf6b",
   "metadata": {},
   "outputs": [],
   "source": [
    "feature_importance = pd.DataFrame({\n",
    "    'Feature': X_train.columns,\n",
    "    'Ridge_Importance': abs(ridge_cv.coef_),\n",
    "    'Lasso_Importance': abs(lasso_cv.coef_)\n",
    "})\n",
    "\n",
    "print(\"\\nTop 10 Most Important Features:\")\n",
    "print(feature_importance.sort_values('Ridge_Importance', ascending=False).head(10))"
   ]
  },
  {
   "cell_type": "code",
   "execution_count": null,
   "id": "dd2fd838",
   "metadata": {},
   "outputs": [],
   "source": [
    "plt.figure(figsize=(12, 6))\n",
    "top_features = feature_importance.nlargest(10, 'Ridge_Importance')\n",
    "sns.barplot(data=top_features, x='Ridge_Importance', y='Feature')\n",
    "plt.title('Top 10 Most Important Features (Ridge Regression)')\n",
    "plt.xlabel('Absolute Coefficient Value')\n",
    "plt.tight_layout()\n",
    "plt.show()"
   ]
  },
  {
   "cell_type": "code",
   "execution_count": null,
   "id": "6fd23183",
   "metadata": {},
   "outputs": [],
   "source": [
    "plt.figure(figsize=(12, 6))\n",
    "top_features = feature_importance.nlargest(10, 'Lasso_Importance')\n",
    "sns.barplot(data=top_features, x='Lasso_Importance', y='Feature')\n",
    "plt.title('Top 10 Most Important Features (Lasso Regression)')\n",
    "plt.xlabel('Absolute Coefficient Value')\n",
    "plt.tight_layout()\n",
    "plt.show()"
   ]
  },
  {
   "cell_type": "code",
   "execution_count": null,
   "id": "57d4aa00",
   "metadata": {},
   "outputs": [],
   "source": [
    "lr = LinearRegression()\n",
    "lr.fit(X_train, y_train)"
   ]
  },
  {
   "cell_type": "code",
   "execution_count": null,
   "id": "d6797192",
   "metadata": {},
   "outputs": [],
   "source": [
    "y_train_pred_lr = lr.predict(X_train)\n",
    "y_test_pred_lr = lr.predict(X_test)"
   ]
  },
  {
   "cell_type": "code",
   "execution_count": null,
   "id": "3e4a5677",
   "metadata": {},
   "outputs": [],
   "source": [
    "train_r2 = r2_score(y_train, y_train_pred_lr)\n",
    "test_r2 = r2_score(y_test, y_test_pred_lr)"
   ]
  },
  {
   "cell_type": "markdown",
   "id": "4963abb2",
   "metadata": {},
   "source": [
    "Training set plot"
   ]
  },
  {
   "cell_type": "code",
   "execution_count": null,
   "id": "3cfca16a",
   "metadata": {},
   "outputs": [],
   "source": [
    "plt.figure(figsize=(12, 5))\n",
    "plt.subplot(1, 2, 1)\n",
    "plt.scatter(y_train, y_train_pred_lr, alpha=0.5)\n",
    "plt.plot([y_train.min(), y_train.max()], [y_train.min(), y_train.max()], 'r--', lw=2)\n",
    "plt.xlabel('Actual Price')\n",
    "plt.ylabel('Predicted Price')\n",
    "plt.title(f'Linear Regression (Training)\\nR² = {train_r2:.4f}')"
   ]
  },
  {
   "cell_type": "markdown",
   "id": "c04b852e",
   "metadata": {},
   "source": [
    "Test set plot"
   ]
  },
  {
   "cell_type": "code",
   "execution_count": null,
   "id": "c8baa8b6",
   "metadata": {},
   "outputs": [],
   "source": [
    "plt.subplot(1, 2, 2)\n",
    "plt.scatter(y_test, y_test_pred_lr, alpha=0.5)\n",
    "plt.plot([y_test.min(), y_test.max()], [y_test.min(), y_test.max()], 'r--', lw=2)\n",
    "plt.xlabel('Actual Price')\n",
    "plt.ylabel('Predicted Price')\n",
    "plt.title(f'Linear Regression (Test)\\nR² = {test_r2:.4f}')"
   ]
  },
  {
   "cell_type": "code",
   "execution_count": null,
   "id": "0f71b34e",
   "metadata": {},
   "outputs": [],
   "source": [
    "print(\"\\nLinear Regression Performance:\")\n",
    "print(f\"Training R²: {train_r2:.4f}\")\n",
    "print(f\"Testing R²: {test_r2:.4f}\")\n",
    "print(f\"Training RMSE: {np.sqrt(mean_squared_error(y_train, y_train_pred_lr)):.4f}\")\n",
    "print(f\"Testing RMSE: {np.sqrt(mean_squared_error(y_test, y_test_pred_lr)):.4f}\")"
   ]
  },
  {
   "cell_type": "markdown",
   "id": "8933f0d6",
   "metadata": {},
   "source": [
    "FIX FOR LINEAR REGRESSION : \n",
    "-("
   ]
  }
 ],
 "metadata": {
  "kernelspec": {
   "display_name": "Python 3",
   "language": "python",
   "name": "python3"
  },
  "language_info": {
   "codemirror_mode": {
    "name": "ipython",
    "version": 3
   },
   "file_extension": ".py",
   "mimetype": "text/x-python",
   "name": "python",
   "nbconvert_exporter": "python",
   "pygments_lexer": "ipython3",
   "version": "3.13.3"
  }
 },
 "nbformat": 4,
 "nbformat_minor": 5
}

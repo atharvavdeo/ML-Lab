{
 "cells": [
  {
   "cell_type": "code",
   "execution_count": 1,
   "id": "cba78477",
   "metadata": {
    "colab": {
     "base_uri": "https://localhost:8080/"
    },
    "execution": {
     "iopub.execute_input": "2025-08-13T05:20:49.828946Z",
     "iopub.status.busy": "2025-08-13T05:20:49.828582Z",
     "iopub.status.idle": "2025-08-13T05:20:55.593152Z",
     "shell.execute_reply": "2025-08-13T05:20:55.591939Z"
    },
    "id": "HqhvylVV1FLq",
    "outputId": "89ca20bf-6dce-408c-af19-65dc17bf8db6",
    "papermill": {
     "duration": 5.772936,
     "end_time": "2025-08-13T05:20:55.595116",
     "exception": false,
     "start_time": "2025-08-13T05:20:49.822180",
     "status": "completed"
    },
    "tags": []
   },
   "outputs": [
    {
     "name": "stdout",
     "output_type": "stream",
     "text": [
      "Requirement already satisfied: yfinance in /usr/local/lib/python3.11/dist-packages (0.2.63)\r\n",
      "Requirement already satisfied: matplotlib in /usr/local/lib/python3.11/dist-packages (3.7.2)\r\n",
      "Requirement already satisfied: pandas in /usr/local/lib/python3.11/dist-packages (2.2.3)\r\n",
      "Requirement already satisfied: numpy in /usr/local/lib/python3.11/dist-packages (1.26.4)\r\n",
      "Requirement already satisfied: seaborn in /usr/local/lib/python3.11/dist-packages (0.12.2)\r\n",
      "Requirement already satisfied: scikit-learn in /usr/local/lib/python3.11/dist-packages (1.2.2)\r\n",
      "Requirement already satisfied: requests>=2.31 in /usr/local/lib/python3.11/dist-packages (from yfinance) (2.32.4)\r\n",
      "Requirement already satisfied: multitasking>=0.0.7 in /usr/local/lib/python3.11/dist-packages (from yfinance) (0.0.11)\r\n",
      "Requirement already satisfied: platformdirs>=2.0.0 in /usr/local/lib/python3.11/dist-packages (from yfinance) (4.3.8)\r\n",
      "Requirement already satisfied: pytz>=2022.5 in /usr/local/lib/python3.11/dist-packages (from yfinance) (2025.2)\r\n",
      "Requirement already satisfied: frozendict>=2.3.4 in /usr/local/lib/python3.11/dist-packages (from yfinance) (2.4.6)\r\n",
      "Requirement already satisfied: peewee>=3.16.2 in /usr/local/lib/python3.11/dist-packages (from yfinance) (3.18.1)\r\n",
      "Requirement already satisfied: beautifulsoup4>=4.11.1 in /usr/local/lib/python3.11/dist-packages (from yfinance) (4.13.4)\r\n",
      "Requirement already satisfied: curl_cffi>=0.7 in /usr/local/lib/python3.11/dist-packages (from yfinance) (0.11.4)\r\n",
      "Requirement already satisfied: protobuf>=3.19.0 in /usr/local/lib/python3.11/dist-packages (from yfinance) (3.20.3)\r\n",
      "Requirement already satisfied: websockets>=13.0 in /usr/local/lib/python3.11/dist-packages (from yfinance) (15.0.1)\r\n",
      "Requirement already satisfied: contourpy>=1.0.1 in /usr/local/lib/python3.11/dist-packages (from matplotlib) (1.3.2)\r\n",
      "Requirement already satisfied: cycler>=0.10 in /usr/local/lib/python3.11/dist-packages (from matplotlib) (0.12.1)\r\n",
      "Requirement already satisfied: fonttools>=4.22.0 in /usr/local/lib/python3.11/dist-packages (from matplotlib) (4.58.4)\r\n",
      "Requirement already satisfied: kiwisolver>=1.0.1 in /usr/local/lib/python3.11/dist-packages (from matplotlib) (1.4.8)\r\n",
      "Requirement already satisfied: packaging>=20.0 in /usr/local/lib/python3.11/dist-packages (from matplotlib) (25.0)\r\n",
      "Requirement already satisfied: pillow>=6.2.0 in /usr/local/lib/python3.11/dist-packages (from matplotlib) (11.2.1)\r\n",
      "Requirement already satisfied: pyparsing<3.1,>=2.3.1 in /usr/local/lib/python3.11/dist-packages (from matplotlib) (3.0.9)\r\n",
      "Requirement already satisfied: python-dateutil>=2.7 in /usr/local/lib/python3.11/dist-packages (from matplotlib) (2.9.0.post0)\r\n",
      "Requirement already satisfied: tzdata>=2022.7 in /usr/local/lib/python3.11/dist-packages (from pandas) (2025.2)\r\n",
      "Requirement already satisfied: mkl_fft in /usr/local/lib/python3.11/dist-packages (from numpy) (1.3.8)\r\n",
      "Requirement already satisfied: mkl_random in /usr/local/lib/python3.11/dist-packages (from numpy) (1.2.4)\r\n",
      "Requirement already satisfied: mkl_umath in /usr/local/lib/python3.11/dist-packages (from numpy) (0.1.1)\r\n",
      "Requirement already satisfied: mkl in /usr/local/lib/python3.11/dist-packages (from numpy) (2025.2.0)\r\n",
      "Requirement already satisfied: tbb4py in /usr/local/lib/python3.11/dist-packages (from numpy) (2022.2.0)\r\n",
      "Requirement already satisfied: mkl-service in /usr/local/lib/python3.11/dist-packages (from numpy) (2.4.1)\r\n",
      "Requirement already satisfied: scipy>=1.3.2 in /usr/local/lib/python3.11/dist-packages (from scikit-learn) (1.15.3)\r\n",
      "Requirement already satisfied: joblib>=1.1.1 in /usr/local/lib/python3.11/dist-packages (from scikit-learn) (1.5.1)\r\n",
      "Requirement already satisfied: threadpoolctl>=2.0.0 in /usr/local/lib/python3.11/dist-packages (from scikit-learn) (3.6.0)\r\n",
      "Requirement already satisfied: soupsieve>1.2 in /usr/local/lib/python3.11/dist-packages (from beautifulsoup4>=4.11.1->yfinance) (2.7)\r\n",
      "Requirement already satisfied: typing-extensions>=4.0.0 in /usr/local/lib/python3.11/dist-packages (from beautifulsoup4>=4.11.1->yfinance) (4.14.0)\r\n",
      "Requirement already satisfied: cffi>=1.12.0 in /usr/local/lib/python3.11/dist-packages (from curl_cffi>=0.7->yfinance) (1.17.1)\r\n",
      "Requirement already satisfied: certifi>=2024.2.2 in /usr/local/lib/python3.11/dist-packages (from curl_cffi>=0.7->yfinance) (2025.6.15)\r\n",
      "Requirement already satisfied: six>=1.5 in /usr/local/lib/python3.11/dist-packages (from python-dateutil>=2.7->matplotlib) (1.17.0)\r\n",
      "Requirement already satisfied: charset_normalizer<4,>=2 in /usr/local/lib/python3.11/dist-packages (from requests>=2.31->yfinance) (3.4.2)\r\n",
      "Requirement already satisfied: idna<4,>=2.5 in /usr/local/lib/python3.11/dist-packages (from requests>=2.31->yfinance) (3.10)\r\n",
      "Requirement already satisfied: urllib3<3,>=1.21.1 in /usr/local/lib/python3.11/dist-packages (from requests>=2.31->yfinance) (2.5.0)\r\n",
      "Requirement already satisfied: intel-openmp<2026,>=2024 in /usr/local/lib/python3.11/dist-packages (from mkl->numpy) (2024.2.0)\r\n",
      "Requirement already satisfied: tbb==2022.* in /usr/local/lib/python3.11/dist-packages (from mkl->numpy) (2022.2.0)\r\n",
      "Requirement already satisfied: tcmlib==1.* in /usr/local/lib/python3.11/dist-packages (from tbb==2022.*->mkl->numpy) (1.4.0)\r\n",
      "Requirement already satisfied: intel-cmplr-lib-rt in /usr/local/lib/python3.11/dist-packages (from mkl_umath->numpy) (2024.2.0)\r\n",
      "Requirement already satisfied: pycparser in /usr/local/lib/python3.11/dist-packages (from cffi>=1.12.0->curl_cffi>=0.7->yfinance) (2.22)\r\n",
      "Requirement already satisfied: intel-cmplr-lib-ur==2024.2.0 in /usr/local/lib/python3.11/dist-packages (from intel-openmp<2026,>=2024->mkl->numpy) (2024.2.0)\r\n",
      "Note: you may need to restart the kernel to use updated packages.\n"
     ]
    }
   ],
   "source": [
    "pip install yfinance matplotlib pandas numpy seaborn scikit-learn"
   ]
  },
  {
   "cell_type": "code",
   "execution_count": 2,
   "id": "d9116c77",
   "metadata": {
    "execution": {
     "iopub.execute_input": "2025-08-13T05:20:55.607483Z",
     "iopub.status.busy": "2025-08-13T05:20:55.606395Z",
     "iopub.status.idle": "2025-08-13T05:21:01.014889Z",
     "shell.execute_reply": "2025-08-13T05:21:01.013804Z"
    },
    "id": "ZiSm7lF11Kjy",
    "papermill": {
     "duration": 5.416552,
     "end_time": "2025-08-13T05:21:01.016721",
     "exception": false,
     "start_time": "2025-08-13T05:20:55.600169",
     "status": "completed"
    },
    "tags": []
   },
   "outputs": [],
   "source": [
    "import yfinance as yf\n",
    "import matplotlib.pyplot as plt\n",
    "import pandas as pd\n",
    "import numpy as np\n",
    "import seaborn as sns"
   ]
  },
  {
   "cell_type": "markdown",
   "id": "e0a68a68",
   "metadata": {
    "id": "ywmnOtSv6HT2",
    "papermill": {
     "duration": 0.004501,
     "end_time": "2025-08-13T05:21:01.025930",
     "exception": false,
     "start_time": "2025-08-13T05:21:01.021429",
     "status": "completed"
    },
    "tags": []
   },
   "source": []
  },
  {
   "cell_type": "code",
   "execution_count": 3,
   "id": "47de8687",
   "metadata": {
    "execution": {
     "iopub.execute_input": "2025-08-13T05:21:01.036622Z",
     "iopub.status.busy": "2025-08-13T05:21:01.036128Z",
     "iopub.status.idle": "2025-08-13T05:21:01.548338Z",
     "shell.execute_reply": "2025-08-13T05:21:01.547288Z"
    },
    "id": "nVBlfKBs6NbQ",
    "papermill": {
     "duration": 0.519258,
     "end_time": "2025-08-13T05:21:01.550090",
     "exception": false,
     "start_time": "2025-08-13T05:21:01.030832",
     "status": "completed"
    },
    "tags": []
   },
   "outputs": [],
   "source": [
    "stock_name = \"GOOG\"\n",
    "stock = yf.Ticker(stock_name)\n",
    "df = stock.history(period=\"3y\")"
   ]
  },
  {
   "cell_type": "code",
   "execution_count": 4,
   "id": "9fa08a0e",
   "metadata": {
    "execution": {
     "iopub.execute_input": "2025-08-13T05:21:01.560507Z",
     "iopub.status.busy": "2025-08-13T05:21:01.560184Z",
     "iopub.status.idle": "2025-08-13T05:21:01.764565Z",
     "shell.execute_reply": "2025-08-13T05:21:01.763542Z"
    },
    "id": "JzAz8Qpq61u9",
    "papermill": {
     "duration": 0.211986,
     "end_time": "2025-08-13T05:21:01.766666",
     "exception": false,
     "start_time": "2025-08-13T05:21:01.554680",
     "status": "completed"
    },
    "tags": []
   },
   "outputs": [],
   "source": [
    "df[\"Dividends\"] = stock.dividends.reindex(df.index).fillna(0)\n",
    "df[\"Stock Splits\"] = stock.splits.reindex(df.index).fillna(0)"
   ]
  },
  {
   "cell_type": "code",
   "execution_count": 5,
   "id": "57971b90",
   "metadata": {
    "execution": {
     "iopub.execute_input": "2025-08-13T05:21:01.776965Z",
     "iopub.status.busy": "2025-08-13T05:21:01.776560Z",
     "iopub.status.idle": "2025-08-13T05:21:01.782372Z",
     "shell.execute_reply": "2025-08-13T05:21:01.781537Z"
    },
    "id": "gAoPkZD264_S",
    "papermill": {
     "duration": 0.012901,
     "end_time": "2025-08-13T05:21:01.784049",
     "exception": false,
     "start_time": "2025-08-13T05:21:01.771148",
     "status": "completed"
    },
    "tags": []
   },
   "outputs": [],
   "source": [
    "df[\"Avg_Price\"] = (df[\"High\"] + df[\"Low\"]) / 2"
   ]
  },
  {
   "cell_type": "code",
   "execution_count": 6,
   "id": "bdec3856",
   "metadata": {
    "execution": {
     "iopub.execute_input": "2025-08-13T05:21:01.794608Z",
     "iopub.status.busy": "2025-08-13T05:21:01.794280Z",
     "iopub.status.idle": "2025-08-13T05:21:01.802756Z",
     "shell.execute_reply": "2025-08-13T05:21:01.801869Z"
    },
    "id": "6V6UOlSb65Xy",
    "papermill": {
     "duration": 0.015923,
     "end_time": "2025-08-13T05:21:01.804475",
     "exception": false,
     "start_time": "2025-08-13T05:21:01.788552",
     "status": "completed"
    },
    "tags": []
   },
   "outputs": [],
   "source": [
    "df[\"Avg5\"] = df[\"Close\"].mean()\n",
    "df[\"Avg10\"] = df[\"Close\"].mean()\n",
    "df[\"Avg200\"] = df[\"Close\"].mean()"
   ]
  },
  {
   "cell_type": "code",
   "execution_count": 7,
   "id": "5e912caa",
   "metadata": {
    "execution": {
     "iopub.execute_input": "2025-08-13T05:21:01.815659Z",
     "iopub.status.busy": "2025-08-13T05:21:01.815341Z",
     "iopub.status.idle": "2025-08-13T05:21:01.824627Z",
     "shell.execute_reply": "2025-08-13T05:21:01.823802Z"
    },
    "id": "Ger_LG0I69ki",
    "papermill": {
     "duration": 0.017254,
     "end_time": "2025-08-13T05:21:01.826248",
     "exception": false,
     "start_time": "2025-08-13T05:21:01.808994",
     "status": "completed"
    },
    "tags": []
   },
   "outputs": [],
   "source": [
    "df[\"Returns\"] = df[\"Close\"].pct_change()"
   ]
  },
  {
   "cell_type": "code",
   "execution_count": 8,
   "id": "253eab6e",
   "metadata": {
    "execution": {
     "iopub.execute_input": "2025-08-13T05:21:01.836690Z",
     "iopub.status.busy": "2025-08-13T05:21:01.836377Z",
     "iopub.status.idle": "2025-08-13T05:21:01.841888Z",
     "shell.execute_reply": "2025-08-13T05:21:01.840842Z"
    },
    "id": "0Q4v4clp695q",
    "papermill": {
     "duration": 0.012507,
     "end_time": "2025-08-13T05:21:01.843371",
     "exception": false,
     "start_time": "2025-08-13T05:21:01.830864",
     "status": "completed"
    },
    "tags": []
   },
   "outputs": [],
   "source": [
    "df[\"Volatility\"] = df[\"Returns\"].std()\n"
   ]
  },
  {
   "cell_type": "code",
   "execution_count": 9,
   "id": "d37227e5",
   "metadata": {
    "execution": {
     "iopub.execute_input": "2025-08-13T05:21:01.854364Z",
     "iopub.status.busy": "2025-08-13T05:21:01.853989Z",
     "iopub.status.idle": "2025-08-13T05:21:01.859857Z",
     "shell.execute_reply": "2025-08-13T05:21:01.858919Z"
    },
    "id": "Dctzovcb6_Ni",
    "papermill": {
     "duration": 0.013209,
     "end_time": "2025-08-13T05:21:01.861551",
     "exception": false,
     "start_time": "2025-08-13T05:21:01.848342",
     "status": "completed"
    },
    "tags": []
   },
   "outputs": [],
   "source": [
    "df.fillna(0, inplace=True)"
   ]
  },
  {
   "cell_type": "code",
   "execution_count": 10,
   "id": "59da02ae",
   "metadata": {
    "colab": {
     "base_uri": "https://localhost:8080/",
     "height": 527
    },
    "execution": {
     "iopub.execute_input": "2025-08-13T05:21:01.872074Z",
     "iopub.status.busy": "2025-08-13T05:21:01.871582Z",
     "iopub.status.idle": "2025-08-13T05:21:01.900327Z",
     "shell.execute_reply": "2025-08-13T05:21:01.899163Z"
    },
    "id": "d87U_T2U7CdJ",
    "outputId": "93abbaba-cde2-4187-edf7-967ca55f560c",
    "papermill": {
     "duration": 0.035853,
     "end_time": "2025-08-13T05:21:01.902026",
     "exception": false,
     "start_time": "2025-08-13T05:21:01.866173",
     "status": "completed"
    },
    "tags": []
   },
   "outputs": [
    {
     "data": {
      "text/html": [
       "<div>\n",
       "<style scoped>\n",
       "    .dataframe tbody tr th:only-of-type {\n",
       "        vertical-align: middle;\n",
       "    }\n",
       "\n",
       "    .dataframe tbody tr th {\n",
       "        vertical-align: top;\n",
       "    }\n",
       "\n",
       "    .dataframe thead th {\n",
       "        text-align: right;\n",
       "    }\n",
       "</style>\n",
       "<table border=\"1\" class=\"dataframe\">\n",
       "  <thead>\n",
       "    <tr style=\"text-align: right;\">\n",
       "      <th></th>\n",
       "      <th>Open</th>\n",
       "      <th>High</th>\n",
       "      <th>Low</th>\n",
       "      <th>Close</th>\n",
       "      <th>Volume</th>\n",
       "      <th>Dividends</th>\n",
       "      <th>Stock Splits</th>\n",
       "      <th>Avg_Price</th>\n",
       "      <th>Avg5</th>\n",
       "      <th>Avg10</th>\n",
       "      <th>Avg200</th>\n",
       "      <th>Returns</th>\n",
       "      <th>Volatility</th>\n",
       "    </tr>\n",
       "    <tr>\n",
       "      <th>Date</th>\n",
       "      <th></th>\n",
       "      <th></th>\n",
       "      <th></th>\n",
       "      <th></th>\n",
       "      <th></th>\n",
       "      <th></th>\n",
       "      <th></th>\n",
       "      <th></th>\n",
       "      <th></th>\n",
       "      <th></th>\n",
       "      <th></th>\n",
       "      <th></th>\n",
       "      <th></th>\n",
       "    </tr>\n",
       "  </thead>\n",
       "  <tbody>\n",
       "    <tr>\n",
       "      <th>2022-08-15 00:00:00-04:00</th>\n",
       "      <td>121.487861</td>\n",
       "      <td>122.531660</td>\n",
       "      <td>120.851643</td>\n",
       "      <td>122.153900</td>\n",
       "      <td>15525000</td>\n",
       "      <td>0.0</td>\n",
       "      <td>0.0</td>\n",
       "      <td>121.691651</td>\n",
       "      <td>143.412257</td>\n",
       "      <td>143.412257</td>\n",
       "      <td>143.412257</td>\n",
       "      <td>0.000000</td>\n",
       "      <td>0.019835</td>\n",
       "    </tr>\n",
       "    <tr>\n",
       "      <th>2022-08-16 00:00:00-04:00</th>\n",
       "      <td>121.597215</td>\n",
       "      <td>122.499847</td>\n",
       "      <td>120.816857</td>\n",
       "      <td>121.786095</td>\n",
       "      <td>15626200</td>\n",
       "      <td>0.0</td>\n",
       "      <td>0.0</td>\n",
       "      <td>121.658352</td>\n",
       "      <td>143.412257</td>\n",
       "      <td>143.412257</td>\n",
       "      <td>143.412257</td>\n",
       "      <td>-0.003011</td>\n",
       "      <td>0.019835</td>\n",
       "    </tr>\n",
       "    <tr>\n",
       "      <th>2022-08-17 00:00:00-04:00</th>\n",
       "      <td>120.215428</td>\n",
       "      <td>121.428220</td>\n",
       "      <td>119.489738</td>\n",
       "      <td>119.609032</td>\n",
       "      <td>17589200</td>\n",
       "      <td>0.0</td>\n",
       "      <td>0.0</td>\n",
       "      <td>120.458979</td>\n",
       "      <td>143.412257</td>\n",
       "      <td>143.412257</td>\n",
       "      <td>143.412257</td>\n",
       "      <td>-0.017876</td>\n",
       "      <td>0.019835</td>\n",
       "    </tr>\n",
       "    <tr>\n",
       "      <th>2022-08-18 00:00:00-04:00</th>\n",
       "      <td>119.519561</td>\n",
       "      <td>120.970933</td>\n",
       "      <td>118.843579</td>\n",
       "      <td>120.145836</td>\n",
       "      <td>15652000</td>\n",
       "      <td>0.0</td>\n",
       "      <td>0.0</td>\n",
       "      <td>119.907256</td>\n",
       "      <td>143.412257</td>\n",
       "      <td>143.412257</td>\n",
       "      <td>143.412257</td>\n",
       "      <td>0.004488</td>\n",
       "      <td>0.019835</td>\n",
       "    </tr>\n",
       "    <tr>\n",
       "      <th>2022-08-19 00:00:00-04:00</th>\n",
       "      <td>119.161687</td>\n",
       "      <td>119.290916</td>\n",
       "      <td>116.974682</td>\n",
       "      <td>117.422028</td>\n",
       "      <td>20187000</td>\n",
       "      <td>0.0</td>\n",
       "      <td>0.0</td>\n",
       "      <td>118.132799</td>\n",
       "      <td>143.412257</td>\n",
       "      <td>143.412257</td>\n",
       "      <td>143.412257</td>\n",
       "      <td>-0.022671</td>\n",
       "      <td>0.019835</td>\n",
       "    </tr>\n",
       "  </tbody>\n",
       "</table>\n",
       "</div>"
      ],
      "text/plain": [
       "                                 Open        High         Low       Close  \\\n",
       "Date                                                                        \n",
       "2022-08-15 00:00:00-04:00  121.487861  122.531660  120.851643  122.153900   \n",
       "2022-08-16 00:00:00-04:00  121.597215  122.499847  120.816857  121.786095   \n",
       "2022-08-17 00:00:00-04:00  120.215428  121.428220  119.489738  119.609032   \n",
       "2022-08-18 00:00:00-04:00  119.519561  120.970933  118.843579  120.145836   \n",
       "2022-08-19 00:00:00-04:00  119.161687  119.290916  116.974682  117.422028   \n",
       "\n",
       "                             Volume  Dividends  Stock Splits   Avg_Price  \\\n",
       "Date                                                                       \n",
       "2022-08-15 00:00:00-04:00  15525000        0.0           0.0  121.691651   \n",
       "2022-08-16 00:00:00-04:00  15626200        0.0           0.0  121.658352   \n",
       "2022-08-17 00:00:00-04:00  17589200        0.0           0.0  120.458979   \n",
       "2022-08-18 00:00:00-04:00  15652000        0.0           0.0  119.907256   \n",
       "2022-08-19 00:00:00-04:00  20187000        0.0           0.0  118.132799   \n",
       "\n",
       "                                 Avg5       Avg10      Avg200   Returns  \\\n",
       "Date                                                                      \n",
       "2022-08-15 00:00:00-04:00  143.412257  143.412257  143.412257  0.000000   \n",
       "2022-08-16 00:00:00-04:00  143.412257  143.412257  143.412257 -0.003011   \n",
       "2022-08-17 00:00:00-04:00  143.412257  143.412257  143.412257 -0.017876   \n",
       "2022-08-18 00:00:00-04:00  143.412257  143.412257  143.412257  0.004488   \n",
       "2022-08-19 00:00:00-04:00  143.412257  143.412257  143.412257 -0.022671   \n",
       "\n",
       "                           Volatility  \n",
       "Date                                   \n",
       "2022-08-15 00:00:00-04:00    0.019835  \n",
       "2022-08-16 00:00:00-04:00    0.019835  \n",
       "2022-08-17 00:00:00-04:00    0.019835  \n",
       "2022-08-18 00:00:00-04:00    0.019835  \n",
       "2022-08-19 00:00:00-04:00    0.019835  "
      ]
     },
     "execution_count": 10,
     "metadata": {},
     "output_type": "execute_result"
    }
   ],
   "source": [
    "df.head()"
   ]
  },
  {
   "cell_type": "code",
   "execution_count": 11,
   "id": "e873dd96",
   "metadata": {
    "execution": {
     "iopub.execute_input": "2025-08-13T05:21:01.913214Z",
     "iopub.status.busy": "2025-08-13T05:21:01.912911Z",
     "iopub.status.idle": "2025-08-13T05:21:01.919495Z",
     "shell.execute_reply": "2025-08-13T05:21:01.918661Z"
    },
    "id": "XCjDur147FmK",
    "papermill": {
     "duration": 0.013846,
     "end_time": "2025-08-13T05:21:01.921006",
     "exception": false,
     "start_time": "2025-08-13T05:21:01.907160",
     "status": "completed"
    },
    "tags": []
   },
   "outputs": [],
   "source": [
    "X = df[[\"Open\", \"High\", \"Low\", \"Volume\", \"Dividends\", \"Stock Splits\",\"Avg_Price\", \"Avg5\", \"Avg10\", \"Avg200\", \"Returns\", \"Volatility\"]]\n",
    "y = df[\"Close\"]"
   ]
  },
  {
   "cell_type": "code",
   "execution_count": 12,
   "id": "7a335c7f",
   "metadata": {
    "execution": {
     "iopub.execute_input": "2025-08-13T05:21:01.932302Z",
     "iopub.status.busy": "2025-08-13T05:21:01.931995Z",
     "iopub.status.idle": "2025-08-13T05:21:02.843562Z",
     "shell.execute_reply": "2025-08-13T05:21:02.842232Z"
    },
    "id": "8EmtUj6M9Lmt",
    "papermill": {
     "duration": 0.919641,
     "end_time": "2025-08-13T05:21:02.845673",
     "exception": false,
     "start_time": "2025-08-13T05:21:01.926032",
     "status": "completed"
    },
    "tags": []
   },
   "outputs": [],
   "source": [
    "from sklearn.model_selection import train_test_split\n",
    "from sklearn.linear_model import LinearRegression\n",
    "from sklearn.ensemble import RandomForestRegressor\n",
    "from sklearn.metrics import mean_absolute_error, mean_squared_error, r2_score"
   ]
  },
  {
   "cell_type": "code",
   "execution_count": 13,
   "id": "2fac9973",
   "metadata": {
    "execution": {
     "iopub.execute_input": "2025-08-13T05:21:02.857356Z",
     "iopub.status.busy": "2025-08-13T05:21:02.856985Z",
     "iopub.status.idle": "2025-08-13T05:21:02.865835Z",
     "shell.execute_reply": "2025-08-13T05:21:02.864861Z"
    },
    "id": "9fbIL4ai8CZh",
    "papermill": {
     "duration": 0.016894,
     "end_time": "2025-08-13T05:21:02.867874",
     "exception": false,
     "start_time": "2025-08-13T05:21:02.850980",
     "status": "completed"
    },
    "tags": []
   },
   "outputs": [],
   "source": [
    "from sklearn.model_selection import train_test_split\n",
    "\n",
    "X_train, X_test, y_train, y_test = train_test_split(\n",
    "    X, y, test_size=0.2, shuffle=False\n",
    ")"
   ]
  },
  {
   "cell_type": "code",
   "execution_count": 14,
   "id": "ecdcc844",
   "metadata": {
    "colab": {
     "base_uri": "https://localhost:8080/"
    },
    "execution": {
     "iopub.execute_input": "2025-08-13T05:21:02.879416Z",
     "iopub.status.busy": "2025-08-13T05:21:02.878960Z",
     "iopub.status.idle": "2025-08-13T05:21:02.884768Z",
     "shell.execute_reply": "2025-08-13T05:21:02.883687Z"
    },
    "id": "FDbgRpDn9E1m",
    "outputId": "66fac492-200b-4d1f-be94-0bb0b77a8dd7",
    "papermill": {
     "duration": 0.013595,
     "end_time": "2025-08-13T05:21:02.886587",
     "exception": false,
     "start_time": "2025-08-13T05:21:02.872992",
     "status": "completed"
    },
    "tags": []
   },
   "outputs": [
    {
     "name": "stdout",
     "output_type": "stream",
     "text": [
      "Training samples: 600, Testing samples: 151\n"
     ]
    }
   ],
   "source": [
    "print(f\"Training samples: {len(X_train)}, Testing samples: {len(X_test)}\")"
   ]
  },
  {
   "cell_type": "code",
   "execution_count": 15,
   "id": "b6029874",
   "metadata": {
    "execution": {
     "iopub.execute_input": "2025-08-13T05:21:02.899923Z",
     "iopub.status.busy": "2025-08-13T05:21:02.899569Z",
     "iopub.status.idle": "2025-08-13T05:21:02.949641Z",
     "shell.execute_reply": "2025-08-13T05:21:02.948573Z"
    },
    "id": "hYL7Cj369Hbi",
    "papermill": {
     "duration": 0.058456,
     "end_time": "2025-08-13T05:21:02.951449",
     "exception": false,
     "start_time": "2025-08-13T05:21:02.892993",
     "status": "completed"
    },
    "tags": []
   },
   "outputs": [],
   "source": [
    "lr = LinearRegression()\n",
    "lr.fit(X_train, y_train)\n",
    "lr_preds = lr.predict(X_test)"
   ]
  },
  {
   "cell_type": "code",
   "execution_count": 16,
   "id": "745fbfb0",
   "metadata": {
    "colab": {
     "base_uri": "https://localhost:8080/"
    },
    "execution": {
     "iopub.execute_input": "2025-08-13T05:21:02.962678Z",
     "iopub.status.busy": "2025-08-13T05:21:02.962367Z",
     "iopub.status.idle": "2025-08-13T05:21:02.973137Z",
     "shell.execute_reply": "2025-08-13T05:21:02.971783Z"
    },
    "id": "7I7xGHkk9Oe5",
    "outputId": "8e982f04-84a2-4c6a-f0e6-5d7fb28407be",
    "papermill": {
     "duration": 0.01844,
     "end_time": "2025-08-13T05:21:02.974876",
     "exception": false,
     "start_time": "2025-08-13T05:21:02.956436",
     "status": "completed"
    },
    "tags": []
   },
   "outputs": [
    {
     "name": "stdout",
     "output_type": "stream",
     "text": [
      "\n",
      "Linear Regression Results:\n",
      "MAE: 0.7660067911409171\n",
      "MSE: 1.0546975178717117\n",
      "RMSE: 1.0269846726566623\n",
      "R2 Score: 0.9951912565605406\n"
     ]
    }
   ],
   "source": [
    "print(\"\\nLinear Regression Results:\")\n",
    "print(\"MAE:\", mean_absolute_error(y_test, lr_preds))\n",
    "print(\"MSE:\", mean_squared_error(y_test, lr_preds))\n",
    "print(\"RMSE:\", np.sqrt(mean_squared_error(y_test, lr_preds)))\n",
    "print(\"R2 Score:\", r2_score(y_test, lr_preds))"
   ]
  },
  {
   "cell_type": "code",
   "execution_count": 17,
   "id": "5b4c7e8a",
   "metadata": {
    "execution": {
     "iopub.execute_input": "2025-08-13T05:21:02.988333Z",
     "iopub.status.busy": "2025-08-13T05:21:02.988001Z",
     "iopub.status.idle": "2025-08-13T05:21:03.328236Z",
     "shell.execute_reply": "2025-08-13T05:21:03.327019Z"
    },
    "id": "_f1TPKHi9Qg2",
    "papermill": {
     "duration": 0.348963,
     "end_time": "2025-08-13T05:21:03.330026",
     "exception": false,
     "start_time": "2025-08-13T05:21:02.981063",
     "status": "completed"
    },
    "tags": []
   },
   "outputs": [],
   "source": [
    "rf = RandomForestRegressor(n_estimators=100, random_state=42)\n",
    "rf.fit(X_train, y_train)\n",
    "rf_preds = rf.predict(X_test)"
   ]
  },
  {
   "cell_type": "code",
   "execution_count": 18,
   "id": "449d72a7",
   "metadata": {
    "colab": {
     "base_uri": "https://localhost:8080/"
    },
    "execution": {
     "iopub.execute_input": "2025-08-13T05:21:03.341970Z",
     "iopub.status.busy": "2025-08-13T05:21:03.341550Z",
     "iopub.status.idle": "2025-08-13T05:21:03.350433Z",
     "shell.execute_reply": "2025-08-13T05:21:03.349105Z"
    },
    "id": "P45Cx3DW9SCZ",
    "outputId": "5f33fd90-b55f-423b-f9fd-9bea19fb995f",
    "papermill": {
     "duration": 0.016833,
     "end_time": "2025-08-13T05:21:03.352115",
     "exception": false,
     "start_time": "2025-08-13T05:21:03.335282",
     "status": "completed"
    },
    "tags": []
   },
   "outputs": [
    {
     "name": "stdout",
     "output_type": "stream",
     "text": [
      "\n",
      "Random Forest Regressor Results:\n",
      "MAE: 1.4049780273437493\n",
      "MSE: 4.792961641531671\n",
      "RMSE: 2.189283362548501\n",
      "R2 Score: 0.9781471725696246\n"
     ]
    }
   ],
   "source": [
    "print(\"\\nRandom Forest Regressor Results:\")\n",
    "print(\"MAE:\", mean_absolute_error(y_test, rf_preds))\n",
    "print(\"MSE:\", mean_squared_error(y_test, rf_preds))\n",
    "print(\"RMSE:\", np.sqrt(mean_squared_error(y_test, rf_preds)))\n",
    "print(\"R2 Score:\", r2_score(y_test, rf_preds))"
   ]
  },
  {
   "cell_type": "code",
   "execution_count": 19,
   "id": "9a87e7c9",
   "metadata": {
    "colab": {
     "base_uri": "https://localhost:8080/",
     "height": 489
    },
    "execution": {
     "iopub.execute_input": "2025-08-13T05:21:03.364608Z",
     "iopub.status.busy": "2025-08-13T05:21:03.364270Z",
     "iopub.status.idle": "2025-08-13T05:21:03.734797Z",
     "shell.execute_reply": "2025-08-13T05:21:03.733840Z"
    },
    "id": "ORxNZl_rhe3s",
    "outputId": "0ad92e29-2b6b-45fc-a415-8a584c9da0c2",
    "papermill": {
     "duration": 0.37878,
     "end_time": "2025-08-13T05:21:03.736349",
     "exception": false,
     "start_time": "2025-08-13T05:21:03.357569",
     "status": "completed"
    },
    "tags": []
   },
   "outputs": [
    {
     "data": {
      "text/plain": [
       "Text(0.5, 1.0, 'RF: Actual vs Predicted')"
      ]
     },
     "execution_count": 19,
     "metadata": {},
     "output_type": "execute_result"
    },
    {
     "data": {
      "image/png": "[encoded data removed]",
      "text/plain": [
       "<Figure size 640x480 with 1 Axes>"
      ]
     },
     "metadata": {},
     "output_type": "display_data"
    }
   ],
   "source": [
    "plt.scatter(y_test, rf_preds, c='red', alpha=0.2)\n",
    "plt.plot([min(y_test), max(y_test)], [min(y_test), max(y_test)], 'r--')\n",
    "plt.xlabel(\"Actual\")\n",
    "plt.ylabel(\"Predicted\")\n",
    "plt.title(\"RF: Actual vs Predicted\")"
   ]
  },
  {
   "cell_type": "markdown",
   "id": "a549d774",
   "metadata": {
    "id": "FKpLGKRVw3bq",
    "papermill": {
     "duration": 0.005491,
     "end_time": "2025-08-13T05:21:03.747661",
     "exception": false,
     "start_time": "2025-08-13T05:21:03.742170",
     "status": "completed"
    },
    "tags": []
   },
   "source": [
    "Data Trees with ADA Boost"
   ]
  },
  {
   "cell_type": "code",
   "execution_count": 20,
   "id": "43f8eb0e",
   "metadata": {
    "execution": {
     "iopub.execute_input": "2025-08-13T05:21:03.760535Z",
     "iopub.status.busy": "2025-08-13T05:21:03.760214Z",
     "iopub.status.idle": "2025-08-13T05:21:03.764878Z",
     "shell.execute_reply": "2025-08-13T05:21:03.763941Z"
    },
    "id": "2keY4GMbyLlW",
    "papermill": {
     "duration": 0.013168,
     "end_time": "2025-08-13T05:21:03.766597",
     "exception": false,
     "start_time": "2025-08-13T05:21:03.753429",
     "status": "completed"
    },
    "tags": []
   },
   "outputs": [],
   "source": [
    "from sklearn.ensemble import AdaBoostRegressor\n",
    "from sklearn.tree import DecisionTreeRegressor"
   ]
  },
  {
   "cell_type": "code",
   "execution_count": 21,
   "id": "76a01171",
   "metadata": {
    "execution": {
     "iopub.execute_input": "2025-08-13T05:21:03.780873Z",
     "iopub.status.busy": "2025-08-13T05:21:03.780512Z",
     "iopub.status.idle": "2025-08-13T05:21:03.785140Z",
     "shell.execute_reply": "2025-08-13T05:21:03.784243Z"
    },
    "id": "5wReQeW9yKvP",
    "papermill": {
     "duration": 0.013606,
     "end_time": "2025-08-13T05:21:03.786575",
     "exception": false,
     "start_time": "2025-08-13T05:21:03.772969",
     "status": "completed"
    },
    "tags": []
   },
   "outputs": [],
   "source": [
    "base_regressor = DecisionTreeRegressor(max_depth=4)\n",
    "\n",
    "ada_regressor = AdaBoostRegressor( estimator=base_regressor, n_estimators=100, learning_rate=0.1,random_state=42)\n"
   ]
  },
  {
   "cell_type": "code",
   "execution_count": 22,
   "id": "2b8fe4cc",
   "metadata": {
    "colab": {
     "base_uri": "https://localhost:8080/",
     "height": 163
    },
    "execution": {
     "iopub.execute_input": "2025-08-13T05:21:03.800075Z",
     "iopub.status.busy": "2025-08-13T05:21:03.799699Z",
     "iopub.status.idle": "2025-08-13T05:21:04.064829Z",
     "shell.execute_reply": "2025-08-13T05:21:04.063845Z"
    },
    "id": "-yiXs3zZyhzA",
    "outputId": "5b2b1ed5-a580-4685-8736-f256ff4416aa",
    "papermill": {
     "duration": 0.273619,
     "end_time": "2025-08-13T05:21:04.066333",
     "exception": false,
     "start_time": "2025-08-13T05:21:03.792714",
     "status": "completed"
    },
    "tags": []
   },
   "outputs": [
    {
     "data": {
      "text/html": [
       "<style>#sk-container-id-1 {color: black;background-color: white;}#sk-container-id-1 pre{padding: 0;}#sk-container-id-1 div.sk-toggleable {background-color: white;}#sk-container-id-1 label.sk-toggleable__label {cursor: pointer;display: block;width: 100%;margin-bottom: 0;padding: 0.3em;box-sizing: border-box;text-align: center;}#sk-container-id-1 label.sk-toggleable__label-arrow:before {content: \"▸\";float: left;margin-right: 0.25em;color: #696969;}#sk-container-id-1 label.sk-toggleable__label-arrow:hover:before {color: black;}#sk-container-id-1 div.sk-estimator:hover label.sk-toggleable__label-arrow:before {color: black;}#sk-container-id-1 div.sk-toggleable__content {max-height: 0;max-width: 0;overflow: hidden;text-align: left;background-color: #f0f8ff;}#sk-container-id-1 div.sk-toggleable__content pre {margin: 0.2em;color: black;border-radius: 0.25em;background-color: #f0f8ff;}#sk-container-id-1 input.sk-toggleable__control:checked~div.sk-toggleable__content {max-height: 200px;max-width: 100%;overflow: auto;}#sk-container-id-1 input.sk-toggleable__control:checked~label.sk-toggleable__label-arrow:before {content: \"▾\";}#sk-container-id-1 div.sk-estimator input.sk-toggleable__control:checked~label.sk-toggleable__label {background-color: #d4ebff;}#sk-container-id-1 div.sk-label input.sk-toggleable__control:checked~label.sk-toggleable__label {background-color: #d4ebff;}#sk-container-id-1 input.sk-hidden--visually {border: 0;clip: rect(1px 1px 1px 1px);clip: rect(1px, 1px, 1px, 1px);height: 1px;margin: -1px;overflow: hidden;padding: 0;position: absolute;width: 1px;}#sk-container-id-1 div.sk-estimator {font-family: monospace;background-color: #f0f8ff;border: 1px dotted black;border-radius: 0.25em;box-sizing: border-box;margin-bottom: 0.5em;}#sk-container-id-1 div.sk-estimator:hover {background-color: #d4ebff;}#sk-container-id-1 div.sk-parallel-item::after {content: \"\";width: 100%;border-bottom: 1px solid gray;flex-grow: 1;}#sk-container-id-1 div.sk-label:hover label.sk-toggleable__label {background-color: #d4ebff;}#sk-container-id-1 div.sk-serial::before {content: \"\";position: absolute;border-left: 1px solid gray;box-sizing: border-box;top: 0;bottom: 0;left: 50%;z-index: 0;}#sk-container-id-1 div.sk-serial {display: flex;flex-direction: column;align-items: center;background-color: white;padding-right: 0.2em;padding-left: 0.2em;position: relative;}#sk-container-id-1 div.sk-item {position: relative;z-index: 1;}#sk-container-id-1 div.sk-parallel {display: flex;align-items: stretch;justify-content: center;background-color: white;position: relative;}#sk-container-id-1 div.sk-item::before, #sk-container-id-1 div.sk-parallel-item::before {content: \"\";position: absolute;border-left: 1px solid gray;box-sizing: border-box;top: 0;bottom: 0;left: 50%;z-index: -1;}#sk-container-id-1 div.sk-parallel-item {display: flex;flex-direction: column;z-index: 1;position: relative;background-color: white;}#sk-container-id-1 div.sk-parallel-item:first-child::after {align-self: flex-end;width: 50%;}#sk-container-id-1 div.sk-parallel-item:last-child::after {align-self: flex-start;width: 50%;}#sk-container-id-1 div.sk-parallel-item:only-child::after {width: 0;}#sk-container-id-1 div.sk-dashed-wrapped {border: 1px dashed gray;margin: 0 0.4em 0.5em 0.4em;box-sizing: border-box;padding-bottom: 0.4em;background-color: white;}#sk-container-id-1 div.sk-label label {font-family: monospace;font-weight: bold;display: inline-block;line-height: 1.2em;}#sk-container-id-1 div.sk-label-container {text-align: center;}#sk-container-id-1 div.sk-container {/* jupyter's `normalize.less` sets `[hidden] { display: none; }` but bootstrap.min.css set `[hidden] { display: none !important; }` so we also need the `!important` here to be able to override the default hidden behavior on the sphinx rendered scikit-learn.org. See: https://github.com/scikit-learn/scikit-learn/issues/21755 */display: inline-block !important;position: relative;}#sk-container-id-1 div.sk-text-repr-fallback {display: none;}</style><div id=\"sk-container-id-1\" class=\"sk-top-container\"><div class=\"sk-text-repr-fallback\"><pre>AdaBoostRegressor(estimator=DecisionTreeRegressor(max_depth=4),\n",
       "                  learning_rate=0.1, n_estimators=100, random_state=42)</pre><b>In a Jupyter environment, please rerun this cell to show the HTML representation or trust the notebook. <br />On GitHub, the HTML representation is unable to render, please try loading this page with nbviewer.org.</b></div><div class=\"sk-container\" hidden><div class=\"sk-item sk-dashed-wrapped\"><div class=\"sk-label-container\"><div class=\"sk-label sk-toggleable\"><input class=\"sk-toggleable__control sk-hidden--visually\" id=\"sk-estimator-id-1\" type=\"checkbox\" ><label for=\"sk-estimator-id-1\" class=\"sk-toggleable__label sk-toggleable__label-arrow\">AdaBoostRegressor</label><div class=\"sk-toggleable__content\"><pre>AdaBoostRegressor(estimator=DecisionTreeRegressor(max_depth=4),\n",
       "                  learning_rate=0.1, n_estimators=100, random_state=42)</pre></div></div></div><div class=\"sk-parallel\"><div class=\"sk-parallel-item\"><div class=\"sk-item\"><div class=\"sk-label-container\"><div class=\"sk-label sk-toggleable\"><input class=\"sk-toggleable__control sk-hidden--visually\" id=\"sk-estimator-id-2\" type=\"checkbox\" ><label for=\"sk-estimator-id-2\" class=\"sk-toggleable__label sk-toggleable__label-arrow\">estimator: DecisionTreeRegressor</label><div class=\"sk-toggleable__content\"><pre>DecisionTreeRegressor(max_depth=4)</pre></div></div></div><div class=\"sk-serial\"><div class=\"sk-item\"><div class=\"sk-estimator sk-toggleable\"><input class=\"sk-toggleable__control sk-hidden--visually\" id=\"sk-estimator-id-3\" type=\"checkbox\" ><label for=\"sk-estimator-id-3\" class=\"sk-toggleable__label sk-toggleable__label-arrow\">DecisionTreeRegressor</label><div class=\"sk-toggleable__content\"><pre>DecisionTreeRegressor(max_depth=4)</pre></div></div></div></div></div></div></div></div></div></div>"
      ],
      "text/plain": [
       "AdaBoostRegressor(estimator=DecisionTreeRegressor(max_depth=4),\n",
       "                  learning_rate=0.1, n_estimators=100, random_state=42)"
      ]
     },
     "execution_count": 22,
     "metadata": {},
     "output_type": "execute_result"
    }
   ],
   "source": [
    "ada_regressor.fit(X_train, y_train)"
   ]
  },
  {
   "cell_type": "code",
   "execution_count": 23,
   "id": "4e091c1c",
   "metadata": {
    "execution": {
     "iopub.execute_input": "2025-08-13T05:21:04.080609Z",
     "iopub.status.busy": "2025-08-13T05:21:04.080294Z",
     "iopub.status.idle": "2025-08-13T05:21:04.095964Z",
     "shell.execute_reply": "2025-08-13T05:21:04.094892Z"
    },
    "id": "irrWWzf5yl8Y",
    "papermill": {
     "duration": 0.024861,
     "end_time": "2025-08-13T05:21:04.097722",
     "exception": false,
     "start_time": "2025-08-13T05:21:04.072861",
     "status": "completed"
    },
    "tags": []
   },
   "outputs": [],
   "source": [
    "ada_preds = ada_regressor.predict(X_test)"
   ]
  },
  {
   "cell_type": "code",
   "execution_count": 24,
   "id": "e1145217",
   "metadata": {
    "colab": {
     "base_uri": "https://localhost:8080/"
    },
    "execution": {
     "iopub.execute_input": "2025-08-13T05:21:04.112480Z",
     "iopub.status.busy": "2025-08-13T05:21:04.112122Z",
     "iopub.status.idle": "2025-08-13T05:21:04.122593Z",
     "shell.execute_reply": "2025-08-13T05:21:04.121555Z"
    },
    "id": "VyYyD-_Dy1nv",
    "outputId": "3f8d7625-bf24-4c7d-a2f2-66770f5a099c",
    "papermill": {
     "duration": 0.019701,
     "end_time": "2025-08-13T05:21:04.124129",
     "exception": false,
     "start_time": "2025-08-13T05:21:04.104428",
     "status": "completed"
    },
    "tags": []
   },
   "outputs": [
    {
     "name": "stdout",
     "output_type": "stream",
     "text": [
      "\n",
      "ADA Boost Regressor Results:\n",
      "MAE: 1.834482522235133\n",
      "MSE: 8.564125186643292\n",
      "RMSE: 2.9264526626349676\n",
      "R2 Score: 0.960953088342255\n"
     ]
    }
   ],
   "source": [
    "from sklearn.metrics import mean_absolute_error, mean_squared_error, r2_score\n",
    "import numpy as np\n",
    "\n",
    "print(\"\\nADA Boost Regressor Results:\")\n",
    "print(\"MAE:\", mean_absolute_error(y_test, ada_preds))\n",
    "print(\"MSE:\", mean_squared_error(y_test, ada_preds))\n",
    "print(\"RMSE:\", np.sqrt(mean_squared_error(y_test, ada_preds)))\n",
    "print(\"R2 Score:\", r2_score(y_test, ada_preds))"
   ]
  }
 ],
 "metadata": {
  "colab": {
   "provenance": []
  },
  "kernelspec": {
   "display_name": "Python 3",
   "name": "python3"
  },
  "language_info": {
   "codemirror_mode": {
    "name": "ipython",
    "version": 3
   },
   "file_extension": ".py",
   "mimetype": "text/x-python",
   "name": "python",
   "nbconvert_exporter": "python",
   "pygments_lexer": "ipython3",
   "version": "3.11.13"
  },
  "papermill": {
   "default_parameters": {},
   "duration": 20.471809,
   "end_time": "2025-08-13T05:21:05.052941",
   "environment_variables": {},
   "exception": null,
   "input_path": "__notebook__.ipynb",
   "output_path": "__notebook__.ipynb",
   "parameters": {},
   "start_time": "2025-08-13T05:20:44.581132",
   "version": "2.6.0"
  }
 },
 "nbformat": 4,
 "nbformat_minor": 5
}
